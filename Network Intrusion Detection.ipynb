{
 "cells": [
  {
   "cell_type": "markdown",
   "metadata": {},
   "source": [
    "# Network Intrusion Detection"
   ]
  },
  {
   "cell_type": "markdown",
   "metadata": {},
   "source": [
    "Project 1                                                                                           \n",
    "                                                                                                    Name: Meghana Dharmapuri"
   ]
  },
  {
   "cell_type": "code",
   "execution_count": 1,
   "metadata": {},
   "outputs": [],
   "source": [
    "import pandas as pd\n",
    "import numpy as np\n",
    "import matplotlib.pyplot as plt\n",
    "import seaborn as sns\n",
    "import scipy.stats as st\n",
    "\n",
    "training_df = pd.read_csv('UNSW_NB15_training-set_csc215.csv')\n",
    "test_df = pd.read_csv('UNSW_NB15_test-set_csc215.csv')"
   ]
  },
  {
   "cell_type": "code",
   "execution_count": 2,
   "metadata": {},
   "outputs": [
    {
     "data": {
      "text/html": [
       "<div>\n",
       "<style scoped>\n",
       "    .dataframe tbody tr th:only-of-type {\n",
       "        vertical-align: middle;\n",
       "    }\n",
       "\n",
       "    .dataframe tbody tr th {\n",
       "        vertical-align: top;\n",
       "    }\n",
       "\n",
       "    .dataframe thead th {\n",
       "        text-align: right;\n",
       "    }\n",
       "</style>\n",
       "<table border=\"1\" class=\"dataframe\">\n",
       "  <thead>\n",
       "    <tr style=\"text-align: right;\">\n",
       "      <th></th>\n",
       "      <th>id</th>\n",
       "      <th>dur</th>\n",
       "      <th>proto</th>\n",
       "      <th>service</th>\n",
       "      <th>state</th>\n",
       "      <th>spkts</th>\n",
       "      <th>dpkts</th>\n",
       "      <th>sbytes</th>\n",
       "      <th>dbytes</th>\n",
       "      <th>rate</th>\n",
       "      <th>...</th>\n",
       "      <th>ct_dst_sport_ltm</th>\n",
       "      <th>ct_dst_src_ltm</th>\n",
       "      <th>is_ftp_login</th>\n",
       "      <th>ct_ftp_cmd</th>\n",
       "      <th>ct_flw_http_mthd</th>\n",
       "      <th>ct_src_ltm</th>\n",
       "      <th>ct_srv_dst</th>\n",
       "      <th>is_sm_ips_ports</th>\n",
       "      <th>attack_cat</th>\n",
       "      <th>label</th>\n",
       "    </tr>\n",
       "  </thead>\n",
       "  <tbody>\n",
       "    <tr>\n",
       "      <td>0</td>\n",
       "      <td>1</td>\n",
       "      <td>0.121478</td>\n",
       "      <td>tcp</td>\n",
       "      <td>-</td>\n",
       "      <td>FIN</td>\n",
       "      <td>6</td>\n",
       "      <td>4</td>\n",
       "      <td>258</td>\n",
       "      <td>172</td>\n",
       "      <td>74.087490</td>\n",
       "      <td>...</td>\n",
       "      <td>1</td>\n",
       "      <td>1</td>\n",
       "      <td>0</td>\n",
       "      <td>0</td>\n",
       "      <td>0</td>\n",
       "      <td>1</td>\n",
       "      <td>1</td>\n",
       "      <td>0</td>\n",
       "      <td>Normal</td>\n",
       "      <td>0</td>\n",
       "    </tr>\n",
       "    <tr>\n",
       "      <td>1</td>\n",
       "      <td>2</td>\n",
       "      <td>0.649902</td>\n",
       "      <td>tcp</td>\n",
       "      <td>-</td>\n",
       "      <td>FIN</td>\n",
       "      <td>14</td>\n",
       "      <td>38</td>\n",
       "      <td>734</td>\n",
       "      <td>42014</td>\n",
       "      <td>78.473372</td>\n",
       "      <td>...</td>\n",
       "      <td>1</td>\n",
       "      <td>2</td>\n",
       "      <td>0</td>\n",
       "      <td>0</td>\n",
       "      <td>0</td>\n",
       "      <td>1</td>\n",
       "      <td>6</td>\n",
       "      <td>0</td>\n",
       "      <td>Normal</td>\n",
       "      <td>0</td>\n",
       "    </tr>\n",
       "    <tr>\n",
       "      <td>2</td>\n",
       "      <td>3</td>\n",
       "      <td>1.623129</td>\n",
       "      <td>tcp</td>\n",
       "      <td>-</td>\n",
       "      <td>FIN</td>\n",
       "      <td>8</td>\n",
       "      <td>16</td>\n",
       "      <td>364</td>\n",
       "      <td>13186</td>\n",
       "      <td>14.170161</td>\n",
       "      <td>...</td>\n",
       "      <td>1</td>\n",
       "      <td>3</td>\n",
       "      <td>0</td>\n",
       "      <td>0</td>\n",
       "      <td>0</td>\n",
       "      <td>2</td>\n",
       "      <td>6</td>\n",
       "      <td>0</td>\n",
       "      <td>Normal</td>\n",
       "      <td>0</td>\n",
       "    </tr>\n",
       "    <tr>\n",
       "      <td>3</td>\n",
       "      <td>4</td>\n",
       "      <td>1.681642</td>\n",
       "      <td>tcp</td>\n",
       "      <td>ftp</td>\n",
       "      <td>FIN</td>\n",
       "      <td>12</td>\n",
       "      <td>12</td>\n",
       "      <td>628</td>\n",
       "      <td>770</td>\n",
       "      <td>13.677108</td>\n",
       "      <td>...</td>\n",
       "      <td>1</td>\n",
       "      <td>3</td>\n",
       "      <td>1</td>\n",
       "      <td>1</td>\n",
       "      <td>0</td>\n",
       "      <td>2</td>\n",
       "      <td>1</td>\n",
       "      <td>0</td>\n",
       "      <td>Normal</td>\n",
       "      <td>0</td>\n",
       "    </tr>\n",
       "    <tr>\n",
       "      <td>4</td>\n",
       "      <td>5</td>\n",
       "      <td>0.449454</td>\n",
       "      <td>tcp</td>\n",
       "      <td>-</td>\n",
       "      <td>FIN</td>\n",
       "      <td>10</td>\n",
       "      <td>6</td>\n",
       "      <td>534</td>\n",
       "      <td>268</td>\n",
       "      <td>33.373826</td>\n",
       "      <td>...</td>\n",
       "      <td>1</td>\n",
       "      <td>40</td>\n",
       "      <td>0</td>\n",
       "      <td>0</td>\n",
       "      <td>0</td>\n",
       "      <td>2</td>\n",
       "      <td>39</td>\n",
       "      <td>0</td>\n",
       "      <td>Normal</td>\n",
       "      <td>0</td>\n",
       "    </tr>\n",
       "  </tbody>\n",
       "</table>\n",
       "<p>5 rows × 45 columns</p>\n",
       "</div>"
      ],
      "text/plain": [
       "   id       dur proto service state  spkts  dpkts  sbytes  dbytes       rate  \\\n",
       "0   1  0.121478   tcp       -   FIN      6      4     258     172  74.087490   \n",
       "1   2  0.649902   tcp       -   FIN     14     38     734   42014  78.473372   \n",
       "2   3  1.623129   tcp       -   FIN      8     16     364   13186  14.170161   \n",
       "3   4  1.681642   tcp     ftp   FIN     12     12     628     770  13.677108   \n",
       "4   5  0.449454   tcp       -   FIN     10      6     534     268  33.373826   \n",
       "\n",
       "   ...  ct_dst_sport_ltm  ct_dst_src_ltm  is_ftp_login  ct_ftp_cmd  \\\n",
       "0  ...                 1               1             0           0   \n",
       "1  ...                 1               2             0           0   \n",
       "2  ...                 1               3             0           0   \n",
       "3  ...                 1               3             1           1   \n",
       "4  ...                 1              40             0           0   \n",
       "\n",
       "   ct_flw_http_mthd  ct_src_ltm  ct_srv_dst  is_sm_ips_ports  attack_cat  \\\n",
       "0                 0           1           1                0      Normal   \n",
       "1                 0           1           6                0      Normal   \n",
       "2                 0           2           6                0      Normal   \n",
       "3                 0           2           1                0      Normal   \n",
       "4                 0           2          39                0      Normal   \n",
       "\n",
       "   label  \n",
       "0      0  \n",
       "1      0  \n",
       "2      0  \n",
       "3      0  \n",
       "4      0  \n",
       "\n",
       "[5 rows x 45 columns]"
      ]
     },
     "execution_count": 2,
     "metadata": {},
     "output_type": "execute_result"
    }
   ],
   "source": [
    "training_df.head()"
   ]
  },
  {
   "cell_type": "code",
   "execution_count": 3,
   "metadata": {},
   "outputs": [
    {
     "data": {
      "text/html": [
       "<div>\n",
       "<style scoped>\n",
       "    .dataframe tbody tr th:only-of-type {\n",
       "        vertical-align: middle;\n",
       "    }\n",
       "\n",
       "    .dataframe tbody tr th {\n",
       "        vertical-align: top;\n",
       "    }\n",
       "\n",
       "    .dataframe thead th {\n",
       "        text-align: right;\n",
       "    }\n",
       "</style>\n",
       "<table border=\"1\" class=\"dataframe\">\n",
       "  <thead>\n",
       "    <tr style=\"text-align: right;\">\n",
       "      <th></th>\n",
       "      <th>id</th>\n",
       "      <th>dur</th>\n",
       "      <th>proto</th>\n",
       "      <th>service</th>\n",
       "      <th>state</th>\n",
       "      <th>spkts</th>\n",
       "      <th>dpkts</th>\n",
       "      <th>sbytes</th>\n",
       "      <th>dbytes</th>\n",
       "      <th>rate</th>\n",
       "      <th>...</th>\n",
       "      <th>ct_dst_sport_ltm</th>\n",
       "      <th>ct_dst_src_ltm</th>\n",
       "      <th>is_ftp_login</th>\n",
       "      <th>ct_ftp_cmd</th>\n",
       "      <th>ct_flw_http_mthd</th>\n",
       "      <th>ct_src_ltm</th>\n",
       "      <th>ct_srv_dst</th>\n",
       "      <th>is_sm_ips_ports</th>\n",
       "      <th>attack_cat</th>\n",
       "      <th>label</th>\n",
       "    </tr>\n",
       "  </thead>\n",
       "  <tbody>\n",
       "    <tr>\n",
       "      <td>0</td>\n",
       "      <td>1</td>\n",
       "      <td>0.000011</td>\n",
       "      <td>udp</td>\n",
       "      <td>-</td>\n",
       "      <td>INT</td>\n",
       "      <td>2</td>\n",
       "      <td>0</td>\n",
       "      <td>496</td>\n",
       "      <td>0</td>\n",
       "      <td>90909.0902</td>\n",
       "      <td>...</td>\n",
       "      <td>1</td>\n",
       "      <td>2</td>\n",
       "      <td>0</td>\n",
       "      <td>0</td>\n",
       "      <td>0</td>\n",
       "      <td>1</td>\n",
       "      <td>2</td>\n",
       "      <td>0</td>\n",
       "      <td>Normal</td>\n",
       "      <td>0</td>\n",
       "    </tr>\n",
       "    <tr>\n",
       "      <td>1</td>\n",
       "      <td>2</td>\n",
       "      <td>0.000008</td>\n",
       "      <td>udp</td>\n",
       "      <td>-</td>\n",
       "      <td>INT</td>\n",
       "      <td>2</td>\n",
       "      <td>0</td>\n",
       "      <td>1762</td>\n",
       "      <td>0</td>\n",
       "      <td>125000.0003</td>\n",
       "      <td>...</td>\n",
       "      <td>1</td>\n",
       "      <td>2</td>\n",
       "      <td>0</td>\n",
       "      <td>0</td>\n",
       "      <td>0</td>\n",
       "      <td>1</td>\n",
       "      <td>2</td>\n",
       "      <td>0</td>\n",
       "      <td>Normal</td>\n",
       "      <td>0</td>\n",
       "    </tr>\n",
       "    <tr>\n",
       "      <td>2</td>\n",
       "      <td>3</td>\n",
       "      <td>0.000005</td>\n",
       "      <td>udp</td>\n",
       "      <td>-</td>\n",
       "      <td>INT</td>\n",
       "      <td>2</td>\n",
       "      <td>0</td>\n",
       "      <td>1068</td>\n",
       "      <td>0</td>\n",
       "      <td>200000.0051</td>\n",
       "      <td>...</td>\n",
       "      <td>1</td>\n",
       "      <td>3</td>\n",
       "      <td>0</td>\n",
       "      <td>0</td>\n",
       "      <td>0</td>\n",
       "      <td>1</td>\n",
       "      <td>3</td>\n",
       "      <td>0</td>\n",
       "      <td>Normal</td>\n",
       "      <td>0</td>\n",
       "    </tr>\n",
       "    <tr>\n",
       "      <td>3</td>\n",
       "      <td>4</td>\n",
       "      <td>0.000006</td>\n",
       "      <td>udp</td>\n",
       "      <td>-</td>\n",
       "      <td>INT</td>\n",
       "      <td>2</td>\n",
       "      <td>0</td>\n",
       "      <td>900</td>\n",
       "      <td>0</td>\n",
       "      <td>166666.6608</td>\n",
       "      <td>...</td>\n",
       "      <td>1</td>\n",
       "      <td>3</td>\n",
       "      <td>0</td>\n",
       "      <td>0</td>\n",
       "      <td>0</td>\n",
       "      <td>2</td>\n",
       "      <td>3</td>\n",
       "      <td>0</td>\n",
       "      <td>Normal</td>\n",
       "      <td>0</td>\n",
       "    </tr>\n",
       "    <tr>\n",
       "      <td>4</td>\n",
       "      <td>5</td>\n",
       "      <td>0.000010</td>\n",
       "      <td>udp</td>\n",
       "      <td>-</td>\n",
       "      <td>INT</td>\n",
       "      <td>2</td>\n",
       "      <td>0</td>\n",
       "      <td>2126</td>\n",
       "      <td>0</td>\n",
       "      <td>100000.0025</td>\n",
       "      <td>...</td>\n",
       "      <td>1</td>\n",
       "      <td>3</td>\n",
       "      <td>0</td>\n",
       "      <td>0</td>\n",
       "      <td>0</td>\n",
       "      <td>2</td>\n",
       "      <td>3</td>\n",
       "      <td>0</td>\n",
       "      <td>Normal</td>\n",
       "      <td>0</td>\n",
       "    </tr>\n",
       "  </tbody>\n",
       "</table>\n",
       "<p>5 rows × 45 columns</p>\n",
       "</div>"
      ],
      "text/plain": [
       "   id       dur proto service state  spkts  dpkts  sbytes  dbytes  \\\n",
       "0   1  0.000011   udp       -   INT      2      0     496       0   \n",
       "1   2  0.000008   udp       -   INT      2      0    1762       0   \n",
       "2   3  0.000005   udp       -   INT      2      0    1068       0   \n",
       "3   4  0.000006   udp       -   INT      2      0     900       0   \n",
       "4   5  0.000010   udp       -   INT      2      0    2126       0   \n",
       "\n",
       "          rate  ...  ct_dst_sport_ltm  ct_dst_src_ltm  is_ftp_login  \\\n",
       "0   90909.0902  ...                 1               2             0   \n",
       "1  125000.0003  ...                 1               2             0   \n",
       "2  200000.0051  ...                 1               3             0   \n",
       "3  166666.6608  ...                 1               3             0   \n",
       "4  100000.0025  ...                 1               3             0   \n",
       "\n",
       "   ct_ftp_cmd  ct_flw_http_mthd  ct_src_ltm  ct_srv_dst  is_sm_ips_ports  \\\n",
       "0           0                 0           1           2                0   \n",
       "1           0                 0           1           2                0   \n",
       "2           0                 0           1           3                0   \n",
       "3           0                 0           2           3                0   \n",
       "4           0                 0           2           3                0   \n",
       "\n",
       "   attack_cat  label  \n",
       "0      Normal      0  \n",
       "1      Normal      0  \n",
       "2      Normal      0  \n",
       "3      Normal      0  \n",
       "4      Normal      0  \n",
       "\n",
       "[5 rows x 45 columns]"
      ]
     },
     "execution_count": 3,
     "metadata": {},
     "output_type": "execute_result"
    }
   ],
   "source": [
    "test_df.head()"
   ]
  },
  {
   "cell_type": "code",
   "execution_count": 4,
   "metadata": {},
   "outputs": [
    {
     "name": "stdout",
     "output_type": "stream",
     "text": [
      "175342\n"
     ]
    }
   ],
   "source": [
    "#counting no of rows in training data to check if the file was imported properly\n",
    "file = open(\"UNSW_NB15_training-set_csc215.csv\")\n",
    "numline = len(file.readlines())\n",
    "print (numline)"
   ]
  },
  {
   "cell_type": "code",
   "execution_count": 5,
   "metadata": {},
   "outputs": [
    {
     "data": {
      "text/html": [
       "<div>\n",
       "<style scoped>\n",
       "    .dataframe tbody tr th:only-of-type {\n",
       "        vertical-align: middle;\n",
       "    }\n",
       "\n",
       "    .dataframe tbody tr th {\n",
       "        vertical-align: top;\n",
       "    }\n",
       "\n",
       "    .dataframe thead th {\n",
       "        text-align: right;\n",
       "    }\n",
       "</style>\n",
       "<table border=\"1\" class=\"dataframe\">\n",
       "  <thead>\n",
       "    <tr style=\"text-align: right;\">\n",
       "      <th></th>\n",
       "      <th>id</th>\n",
       "      <th>dur</th>\n",
       "      <th>proto</th>\n",
       "      <th>service</th>\n",
       "      <th>state</th>\n",
       "      <th>spkts</th>\n",
       "      <th>dpkts</th>\n",
       "      <th>sbytes</th>\n",
       "      <th>dbytes</th>\n",
       "      <th>rate</th>\n",
       "      <th>...</th>\n",
       "      <th>ct_dst_sport_ltm</th>\n",
       "      <th>ct_dst_src_ltm</th>\n",
       "      <th>is_ftp_login</th>\n",
       "      <th>ct_ftp_cmd</th>\n",
       "      <th>ct_flw_http_mthd</th>\n",
       "      <th>ct_src_ltm</th>\n",
       "      <th>ct_srv_dst</th>\n",
       "      <th>is_sm_ips_ports</th>\n",
       "      <th>attack_cat</th>\n",
       "      <th>label</th>\n",
       "    </tr>\n",
       "  </thead>\n",
       "  <tbody>\n",
       "    <tr>\n",
       "      <td>0</td>\n",
       "      <td>1</td>\n",
       "      <td>0.121478</td>\n",
       "      <td>tcp</td>\n",
       "      <td>NaN</td>\n",
       "      <td>FIN</td>\n",
       "      <td>6</td>\n",
       "      <td>4</td>\n",
       "      <td>258</td>\n",
       "      <td>172</td>\n",
       "      <td>74.087490</td>\n",
       "      <td>...</td>\n",
       "      <td>1</td>\n",
       "      <td>1</td>\n",
       "      <td>0</td>\n",
       "      <td>0</td>\n",
       "      <td>0</td>\n",
       "      <td>1</td>\n",
       "      <td>1</td>\n",
       "      <td>0</td>\n",
       "      <td>Normal</td>\n",
       "      <td>0</td>\n",
       "    </tr>\n",
       "    <tr>\n",
       "      <td>1</td>\n",
       "      <td>2</td>\n",
       "      <td>0.649902</td>\n",
       "      <td>tcp</td>\n",
       "      <td>NaN</td>\n",
       "      <td>FIN</td>\n",
       "      <td>14</td>\n",
       "      <td>38</td>\n",
       "      <td>734</td>\n",
       "      <td>42014</td>\n",
       "      <td>78.473372</td>\n",
       "      <td>...</td>\n",
       "      <td>1</td>\n",
       "      <td>2</td>\n",
       "      <td>0</td>\n",
       "      <td>0</td>\n",
       "      <td>0</td>\n",
       "      <td>1</td>\n",
       "      <td>6</td>\n",
       "      <td>0</td>\n",
       "      <td>Normal</td>\n",
       "      <td>0</td>\n",
       "    </tr>\n",
       "    <tr>\n",
       "      <td>2</td>\n",
       "      <td>3</td>\n",
       "      <td>1.623129</td>\n",
       "      <td>tcp</td>\n",
       "      <td>NaN</td>\n",
       "      <td>FIN</td>\n",
       "      <td>8</td>\n",
       "      <td>16</td>\n",
       "      <td>364</td>\n",
       "      <td>13186</td>\n",
       "      <td>14.170161</td>\n",
       "      <td>...</td>\n",
       "      <td>1</td>\n",
       "      <td>3</td>\n",
       "      <td>0</td>\n",
       "      <td>0</td>\n",
       "      <td>0</td>\n",
       "      <td>2</td>\n",
       "      <td>6</td>\n",
       "      <td>0</td>\n",
       "      <td>Normal</td>\n",
       "      <td>0</td>\n",
       "    </tr>\n",
       "    <tr>\n",
       "      <td>4</td>\n",
       "      <td>5</td>\n",
       "      <td>0.449454</td>\n",
       "      <td>tcp</td>\n",
       "      <td>NaN</td>\n",
       "      <td>FIN</td>\n",
       "      <td>10</td>\n",
       "      <td>6</td>\n",
       "      <td>534</td>\n",
       "      <td>268</td>\n",
       "      <td>33.373826</td>\n",
       "      <td>...</td>\n",
       "      <td>1</td>\n",
       "      <td>40</td>\n",
       "      <td>0</td>\n",
       "      <td>0</td>\n",
       "      <td>0</td>\n",
       "      <td>2</td>\n",
       "      <td>39</td>\n",
       "      <td>0</td>\n",
       "      <td>Normal</td>\n",
       "      <td>0</td>\n",
       "    </tr>\n",
       "    <tr>\n",
       "      <td>5</td>\n",
       "      <td>6</td>\n",
       "      <td>0.380537</td>\n",
       "      <td>tcp</td>\n",
       "      <td>NaN</td>\n",
       "      <td>FIN</td>\n",
       "      <td>10</td>\n",
       "      <td>6</td>\n",
       "      <td>534</td>\n",
       "      <td>268</td>\n",
       "      <td>39.417980</td>\n",
       "      <td>...</td>\n",
       "      <td>1</td>\n",
       "      <td>40</td>\n",
       "      <td>0</td>\n",
       "      <td>0</td>\n",
       "      <td>0</td>\n",
       "      <td>2</td>\n",
       "      <td>39</td>\n",
       "      <td>0</td>\n",
       "      <td>Normal</td>\n",
       "      <td>0</td>\n",
       "    </tr>\n",
       "    <tr>\n",
       "      <td>...</td>\n",
       "      <td>...</td>\n",
       "      <td>...</td>\n",
       "      <td>...</td>\n",
       "      <td>...</td>\n",
       "      <td>...</td>\n",
       "      <td>...</td>\n",
       "      <td>...</td>\n",
       "      <td>...</td>\n",
       "      <td>...</td>\n",
       "      <td>...</td>\n",
       "      <td>...</td>\n",
       "      <td>...</td>\n",
       "      <td>...</td>\n",
       "      <td>...</td>\n",
       "      <td>...</td>\n",
       "      <td>...</td>\n",
       "      <td>...</td>\n",
       "      <td>...</td>\n",
       "      <td>...</td>\n",
       "      <td>...</td>\n",
       "      <td>...</td>\n",
       "    </tr>\n",
       "    <tr>\n",
       "      <td>175125</td>\n",
       "      <td>175126</td>\n",
       "      <td>0.653375</td>\n",
       "      <td>tcp</td>\n",
       "      <td>NaN</td>\n",
       "      <td>FIN</td>\n",
       "      <td>10</td>\n",
       "      <td>8</td>\n",
       "      <td>564</td>\n",
       "      <td>354</td>\n",
       "      <td>26.018748</td>\n",
       "      <td>...</td>\n",
       "      <td>1</td>\n",
       "      <td>1</td>\n",
       "      <td>0</td>\n",
       "      <td>0</td>\n",
       "      <td>0</td>\n",
       "      <td>18</td>\n",
       "      <td>1</td>\n",
       "      <td>0</td>\n",
       "      <td>Reconnaissance</td>\n",
       "      <td>1</td>\n",
       "    </tr>\n",
       "    <tr>\n",
       "      <td>175179</td>\n",
       "      <td>175180</td>\n",
       "      <td>0.695566</td>\n",
       "      <td>tcp</td>\n",
       "      <td>NaN</td>\n",
       "      <td>FIN</td>\n",
       "      <td>10</td>\n",
       "      <td>8</td>\n",
       "      <td>564</td>\n",
       "      <td>354</td>\n",
       "      <td>24.440528</td>\n",
       "      <td>...</td>\n",
       "      <td>1</td>\n",
       "      <td>1</td>\n",
       "      <td>0</td>\n",
       "      <td>0</td>\n",
       "      <td>0</td>\n",
       "      <td>3</td>\n",
       "      <td>1</td>\n",
       "      <td>0</td>\n",
       "      <td>Reconnaissance</td>\n",
       "      <td>1</td>\n",
       "    </tr>\n",
       "    <tr>\n",
       "      <td>175191</td>\n",
       "      <td>175192</td>\n",
       "      <td>0.962856</td>\n",
       "      <td>tcp</td>\n",
       "      <td>NaN</td>\n",
       "      <td>FIN</td>\n",
       "      <td>24</td>\n",
       "      <td>60</td>\n",
       "      <td>1256</td>\n",
       "      <td>59374</td>\n",
       "      <td>86.201883</td>\n",
       "      <td>...</td>\n",
       "      <td>1</td>\n",
       "      <td>1</td>\n",
       "      <td>0</td>\n",
       "      <td>0</td>\n",
       "      <td>0</td>\n",
       "      <td>1</td>\n",
       "      <td>1</td>\n",
       "      <td>0</td>\n",
       "      <td>Exploits</td>\n",
       "      <td>1</td>\n",
       "    </tr>\n",
       "    <tr>\n",
       "      <td>175277</td>\n",
       "      <td>175278</td>\n",
       "      <td>3.719110</td>\n",
       "      <td>tcp</td>\n",
       "      <td>NaN</td>\n",
       "      <td>FIN</td>\n",
       "      <td>66</td>\n",
       "      <td>340</td>\n",
       "      <td>3086</td>\n",
       "      <td>426483</td>\n",
       "      <td>108.897021</td>\n",
       "      <td>...</td>\n",
       "      <td>1</td>\n",
       "      <td>1</td>\n",
       "      <td>0</td>\n",
       "      <td>0</td>\n",
       "      <td>0</td>\n",
       "      <td>2</td>\n",
       "      <td>1</td>\n",
       "      <td>0</td>\n",
       "      <td>Exploits</td>\n",
       "      <td>1</td>\n",
       "    </tr>\n",
       "    <tr>\n",
       "      <td>175337</td>\n",
       "      <td>175338</td>\n",
       "      <td>0.505762</td>\n",
       "      <td>tcp</td>\n",
       "      <td>NaN</td>\n",
       "      <td>FIN</td>\n",
       "      <td>10</td>\n",
       "      <td>8</td>\n",
       "      <td>620</td>\n",
       "      <td>354</td>\n",
       "      <td>33.612649</td>\n",
       "      <td>...</td>\n",
       "      <td>1</td>\n",
       "      <td>2</td>\n",
       "      <td>0</td>\n",
       "      <td>0</td>\n",
       "      <td>0</td>\n",
       "      <td>1</td>\n",
       "      <td>1</td>\n",
       "      <td>0</td>\n",
       "      <td>Shellcode</td>\n",
       "      <td>1</td>\n",
       "    </tr>\n",
       "  </tbody>\n",
       "</table>\n",
       "<p>94168 rows × 45 columns</p>\n",
       "</div>"
      ],
      "text/plain": [
       "            id       dur proto service state  spkts  dpkts  sbytes  dbytes  \\\n",
       "0            1  0.121478   tcp     NaN   FIN      6      4     258     172   \n",
       "1            2  0.649902   tcp     NaN   FIN     14     38     734   42014   \n",
       "2            3  1.623129   tcp     NaN   FIN      8     16     364   13186   \n",
       "4            5  0.449454   tcp     NaN   FIN     10      6     534     268   \n",
       "5            6  0.380537   tcp     NaN   FIN     10      6     534     268   \n",
       "...        ...       ...   ...     ...   ...    ...    ...     ...     ...   \n",
       "175125  175126  0.653375   tcp     NaN   FIN     10      8     564     354   \n",
       "175179  175180  0.695566   tcp     NaN   FIN     10      8     564     354   \n",
       "175191  175192  0.962856   tcp     NaN   FIN     24     60    1256   59374   \n",
       "175277  175278  3.719110   tcp     NaN   FIN     66    340    3086  426483   \n",
       "175337  175338  0.505762   tcp     NaN   FIN     10      8     620     354   \n",
       "\n",
       "              rate  ...  ct_dst_sport_ltm  ct_dst_src_ltm  is_ftp_login  \\\n",
       "0        74.087490  ...                 1               1             0   \n",
       "1        78.473372  ...                 1               2             0   \n",
       "2        14.170161  ...                 1               3             0   \n",
       "4        33.373826  ...                 1              40             0   \n",
       "5        39.417980  ...                 1              40             0   \n",
       "...            ...  ...               ...             ...           ...   \n",
       "175125   26.018748  ...                 1               1             0   \n",
       "175179   24.440528  ...                 1               1             0   \n",
       "175191   86.201883  ...                 1               1             0   \n",
       "175277  108.897021  ...                 1               1             0   \n",
       "175337   33.612649  ...                 1               2             0   \n",
       "\n",
       "        ct_ftp_cmd  ct_flw_http_mthd  ct_src_ltm  ct_srv_dst  is_sm_ips_ports  \\\n",
       "0                0                 0           1           1                0   \n",
       "1                0                 0           1           6                0   \n",
       "2                0                 0           2           6                0   \n",
       "4                0                 0           2          39                0   \n",
       "5                0                 0           2          39                0   \n",
       "...            ...               ...         ...         ...              ...   \n",
       "175125           0                 0          18           1                0   \n",
       "175179           0                 0           3           1                0   \n",
       "175191           0                 0           1           1                0   \n",
       "175277           0                 0           2           1                0   \n",
       "175337           0                 0           1           1                0   \n",
       "\n",
       "            attack_cat  label  \n",
       "0               Normal      0  \n",
       "1               Normal      0  \n",
       "2               Normal      0  \n",
       "4               Normal      0  \n",
       "5               Normal      0  \n",
       "...                ...    ...  \n",
       "175125  Reconnaissance      1  \n",
       "175179  Reconnaissance      1  \n",
       "175191        Exploits      1  \n",
       "175277        Exploits      1  \n",
       "175337       Shellcode      1  \n",
       "\n",
       "[94168 rows x 45 columns]"
      ]
     },
     "execution_count": 5,
     "metadata": {},
     "output_type": "execute_result"
    }
   ],
   "source": [
    "#Search for null values in training data to remove them later\n",
    "training_df=pd.read_csv('UNSW_NB15_training-set_csc215.csv', na_values=['-','?'])\n",
    "training_df[training_df.isnull().any(axis=1)]"
   ]
  },
  {
   "cell_type": "code",
   "execution_count": 6,
   "metadata": {},
   "outputs": [],
   "source": [
    "# Remove the rows that have null values from the training data; how= any is the default \n",
    "training_df=training_df.dropna()"
   ]
  },
  {
   "cell_type": "code",
   "execution_count": 7,
   "metadata": {},
   "outputs": [
    {
     "data": {
      "text/html": [
       "<div>\n",
       "<style scoped>\n",
       "    .dataframe tbody tr th:only-of-type {\n",
       "        vertical-align: middle;\n",
       "    }\n",
       "\n",
       "    .dataframe tbody tr th {\n",
       "        vertical-align: top;\n",
       "    }\n",
       "\n",
       "    .dataframe thead th {\n",
       "        text-align: right;\n",
       "    }\n",
       "</style>\n",
       "<table border=\"1\" class=\"dataframe\">\n",
       "  <thead>\n",
       "    <tr style=\"text-align: right;\">\n",
       "      <th></th>\n",
       "      <th>id</th>\n",
       "      <th>dur</th>\n",
       "      <th>proto</th>\n",
       "      <th>service</th>\n",
       "      <th>state</th>\n",
       "      <th>spkts</th>\n",
       "      <th>dpkts</th>\n",
       "      <th>sbytes</th>\n",
       "      <th>dbytes</th>\n",
       "      <th>rate</th>\n",
       "      <th>...</th>\n",
       "      <th>ct_dst_sport_ltm</th>\n",
       "      <th>ct_dst_src_ltm</th>\n",
       "      <th>is_ftp_login</th>\n",
       "      <th>ct_ftp_cmd</th>\n",
       "      <th>ct_flw_http_mthd</th>\n",
       "      <th>ct_src_ltm</th>\n",
       "      <th>ct_srv_dst</th>\n",
       "      <th>is_sm_ips_ports</th>\n",
       "      <th>attack_cat</th>\n",
       "      <th>label</th>\n",
       "    </tr>\n",
       "  </thead>\n",
       "  <tbody>\n",
       "    <tr>\n",
       "      <td>3</td>\n",
       "      <td>4</td>\n",
       "      <td>1.681642</td>\n",
       "      <td>tcp</td>\n",
       "      <td>ftp</td>\n",
       "      <td>FIN</td>\n",
       "      <td>12</td>\n",
       "      <td>12</td>\n",
       "      <td>628</td>\n",
       "      <td>770</td>\n",
       "      <td>13.677108</td>\n",
       "      <td>...</td>\n",
       "      <td>1</td>\n",
       "      <td>3</td>\n",
       "      <td>1</td>\n",
       "      <td>1</td>\n",
       "      <td>0</td>\n",
       "      <td>2</td>\n",
       "      <td>1</td>\n",
       "      <td>0</td>\n",
       "      <td>Normal</td>\n",
       "      <td>0</td>\n",
       "    </tr>\n",
       "    <tr>\n",
       "      <td>11</td>\n",
       "      <td>12</td>\n",
       "      <td>2.093085</td>\n",
       "      <td>tcp</td>\n",
       "      <td>smtp</td>\n",
       "      <td>FIN</td>\n",
       "      <td>62</td>\n",
       "      <td>28</td>\n",
       "      <td>56329</td>\n",
       "      <td>2212</td>\n",
       "      <td>42.520967</td>\n",
       "      <td>...</td>\n",
       "      <td>1</td>\n",
       "      <td>2</td>\n",
       "      <td>0</td>\n",
       "      <td>0</td>\n",
       "      <td>0</td>\n",
       "      <td>1</td>\n",
       "      <td>1</td>\n",
       "      <td>0</td>\n",
       "      <td>Normal</td>\n",
       "      <td>0</td>\n",
       "    </tr>\n",
       "    <tr>\n",
       "      <td>15</td>\n",
       "      <td>16</td>\n",
       "      <td>0.000002</td>\n",
       "      <td>udp</td>\n",
       "      <td>snmp</td>\n",
       "      <td>INT</td>\n",
       "      <td>2</td>\n",
       "      <td>0</td>\n",
       "      <td>138</td>\n",
       "      <td>0</td>\n",
       "      <td>500000.001300</td>\n",
       "      <td>...</td>\n",
       "      <td>1</td>\n",
       "      <td>4</td>\n",
       "      <td>0</td>\n",
       "      <td>0</td>\n",
       "      <td>0</td>\n",
       "      <td>2</td>\n",
       "      <td>1</td>\n",
       "      <td>0</td>\n",
       "      <td>Normal</td>\n",
       "      <td>0</td>\n",
       "    </tr>\n",
       "    <tr>\n",
       "      <td>17</td>\n",
       "      <td>18</td>\n",
       "      <td>0.393556</td>\n",
       "      <td>tcp</td>\n",
       "      <td>http</td>\n",
       "      <td>FIN</td>\n",
       "      <td>10</td>\n",
       "      <td>8</td>\n",
       "      <td>860</td>\n",
       "      <td>1096</td>\n",
       "      <td>43.195886</td>\n",
       "      <td>...</td>\n",
       "      <td>1</td>\n",
       "      <td>2</td>\n",
       "      <td>0</td>\n",
       "      <td>0</td>\n",
       "      <td>1</td>\n",
       "      <td>1</td>\n",
       "      <td>3</td>\n",
       "      <td>0</td>\n",
       "      <td>Normal</td>\n",
       "      <td>0</td>\n",
       "    </tr>\n",
       "    <tr>\n",
       "      <td>21</td>\n",
       "      <td>22</td>\n",
       "      <td>0.338017</td>\n",
       "      <td>tcp</td>\n",
       "      <td>http</td>\n",
       "      <td>FIN</td>\n",
       "      <td>10</td>\n",
       "      <td>6</td>\n",
       "      <td>998</td>\n",
       "      <td>268</td>\n",
       "      <td>44.376468</td>\n",
       "      <td>...</td>\n",
       "      <td>1</td>\n",
       "      <td>1</td>\n",
       "      <td>0</td>\n",
       "      <td>0</td>\n",
       "      <td>1</td>\n",
       "      <td>2</td>\n",
       "      <td>3</td>\n",
       "      <td>0</td>\n",
       "      <td>Normal</td>\n",
       "      <td>0</td>\n",
       "    </tr>\n",
       "    <tr>\n",
       "      <td>...</td>\n",
       "      <td>...</td>\n",
       "      <td>...</td>\n",
       "      <td>...</td>\n",
       "      <td>...</td>\n",
       "      <td>...</td>\n",
       "      <td>...</td>\n",
       "      <td>...</td>\n",
       "      <td>...</td>\n",
       "      <td>...</td>\n",
       "      <td>...</td>\n",
       "      <td>...</td>\n",
       "      <td>...</td>\n",
       "      <td>...</td>\n",
       "      <td>...</td>\n",
       "      <td>...</td>\n",
       "      <td>...</td>\n",
       "      <td>...</td>\n",
       "      <td>...</td>\n",
       "      <td>...</td>\n",
       "      <td>...</td>\n",
       "      <td>...</td>\n",
       "    </tr>\n",
       "    <tr>\n",
       "      <td>175335</td>\n",
       "      <td>175336</td>\n",
       "      <td>0.000006</td>\n",
       "      <td>udp</td>\n",
       "      <td>dns</td>\n",
       "      <td>INT</td>\n",
       "      <td>2</td>\n",
       "      <td>0</td>\n",
       "      <td>114</td>\n",
       "      <td>0</td>\n",
       "      <td>166666.660800</td>\n",
       "      <td>...</td>\n",
       "      <td>17</td>\n",
       "      <td>45</td>\n",
       "      <td>0</td>\n",
       "      <td>0</td>\n",
       "      <td>0</td>\n",
       "      <td>33</td>\n",
       "      <td>45</td>\n",
       "      <td>0</td>\n",
       "      <td>Generic</td>\n",
       "      <td>1</td>\n",
       "    </tr>\n",
       "    <tr>\n",
       "      <td>175336</td>\n",
       "      <td>175337</td>\n",
       "      <td>0.000009</td>\n",
       "      <td>udp</td>\n",
       "      <td>dns</td>\n",
       "      <td>INT</td>\n",
       "      <td>2</td>\n",
       "      <td>0</td>\n",
       "      <td>114</td>\n",
       "      <td>0</td>\n",
       "      <td>111111.107200</td>\n",
       "      <td>...</td>\n",
       "      <td>13</td>\n",
       "      <td>24</td>\n",
       "      <td>0</td>\n",
       "      <td>0</td>\n",
       "      <td>0</td>\n",
       "      <td>24</td>\n",
       "      <td>24</td>\n",
       "      <td>0</td>\n",
       "      <td>Generic</td>\n",
       "      <td>1</td>\n",
       "    </tr>\n",
       "    <tr>\n",
       "      <td>175338</td>\n",
       "      <td>175339</td>\n",
       "      <td>0.000009</td>\n",
       "      <td>udp</td>\n",
       "      <td>dns</td>\n",
       "      <td>INT</td>\n",
       "      <td>2</td>\n",
       "      <td>0</td>\n",
       "      <td>114</td>\n",
       "      <td>0</td>\n",
       "      <td>111111.107200</td>\n",
       "      <td>...</td>\n",
       "      <td>3</td>\n",
       "      <td>13</td>\n",
       "      <td>0</td>\n",
       "      <td>0</td>\n",
       "      <td>0</td>\n",
       "      <td>3</td>\n",
       "      <td>12</td>\n",
       "      <td>0</td>\n",
       "      <td>Generic</td>\n",
       "      <td>1</td>\n",
       "    </tr>\n",
       "    <tr>\n",
       "      <td>175339</td>\n",
       "      <td>175340</td>\n",
       "      <td>0.000009</td>\n",
       "      <td>udp</td>\n",
       "      <td>dns</td>\n",
       "      <td>INT</td>\n",
       "      <td>2</td>\n",
       "      <td>0</td>\n",
       "      <td>114</td>\n",
       "      <td>0</td>\n",
       "      <td>111111.107200</td>\n",
       "      <td>...</td>\n",
       "      <td>14</td>\n",
       "      <td>30</td>\n",
       "      <td>0</td>\n",
       "      <td>0</td>\n",
       "      <td>0</td>\n",
       "      <td>30</td>\n",
       "      <td>30</td>\n",
       "      <td>0</td>\n",
       "      <td>Generic</td>\n",
       "      <td>1</td>\n",
       "    </tr>\n",
       "    <tr>\n",
       "      <td>175340</td>\n",
       "      <td>175341</td>\n",
       "      <td>0.000009</td>\n",
       "      <td>udp</td>\n",
       "      <td>dns</td>\n",
       "      <td>INT</td>\n",
       "      <td>2</td>\n",
       "      <td>0</td>\n",
       "      <td>114</td>\n",
       "      <td>0</td>\n",
       "      <td>111111.107200</td>\n",
       "      <td>...</td>\n",
       "      <td>16</td>\n",
       "      <td>30</td>\n",
       "      <td>0</td>\n",
       "      <td>0</td>\n",
       "      <td>0</td>\n",
       "      <td>30</td>\n",
       "      <td>30</td>\n",
       "      <td>0</td>\n",
       "      <td>Generic</td>\n",
       "      <td>1</td>\n",
       "    </tr>\n",
       "  </tbody>\n",
       "</table>\n",
       "<p>81173 rows × 45 columns</p>\n",
       "</div>"
      ],
      "text/plain": [
       "            id       dur proto service state  spkts  dpkts  sbytes  dbytes  \\\n",
       "3            4  1.681642   tcp     ftp   FIN     12     12     628     770   \n",
       "11          12  2.093085   tcp    smtp   FIN     62     28   56329    2212   \n",
       "15          16  0.000002   udp    snmp   INT      2      0     138       0   \n",
       "17          18  0.393556   tcp    http   FIN     10      8     860    1096   \n",
       "21          22  0.338017   tcp    http   FIN     10      6     998     268   \n",
       "...        ...       ...   ...     ...   ...    ...    ...     ...     ...   \n",
       "175335  175336  0.000006   udp     dns   INT      2      0     114       0   \n",
       "175336  175337  0.000009   udp     dns   INT      2      0     114       0   \n",
       "175338  175339  0.000009   udp     dns   INT      2      0     114       0   \n",
       "175339  175340  0.000009   udp     dns   INT      2      0     114       0   \n",
       "175340  175341  0.000009   udp     dns   INT      2      0     114       0   \n",
       "\n",
       "                 rate  ...  ct_dst_sport_ltm  ct_dst_src_ltm  is_ftp_login  \\\n",
       "3           13.677108  ...                 1               3             1   \n",
       "11          42.520967  ...                 1               2             0   \n",
       "15      500000.001300  ...                 1               4             0   \n",
       "17          43.195886  ...                 1               2             0   \n",
       "21          44.376468  ...                 1               1             0   \n",
       "...               ...  ...               ...             ...           ...   \n",
       "175335  166666.660800  ...                17              45             0   \n",
       "175336  111111.107200  ...                13              24             0   \n",
       "175338  111111.107200  ...                 3              13             0   \n",
       "175339  111111.107200  ...                14              30             0   \n",
       "175340  111111.107200  ...                16              30             0   \n",
       "\n",
       "        ct_ftp_cmd  ct_flw_http_mthd  ct_src_ltm  ct_srv_dst  is_sm_ips_ports  \\\n",
       "3                1                 0           2           1                0   \n",
       "11               0                 0           1           1                0   \n",
       "15               0                 0           2           1                0   \n",
       "17               0                 1           1           3                0   \n",
       "21               0                 1           2           3                0   \n",
       "...            ...               ...         ...         ...              ...   \n",
       "175335           0                 0          33          45                0   \n",
       "175336           0                 0          24          24                0   \n",
       "175338           0                 0           3          12                0   \n",
       "175339           0                 0          30          30                0   \n",
       "175340           0                 0          30          30                0   \n",
       "\n",
       "        attack_cat  label  \n",
       "3           Normal      0  \n",
       "11          Normal      0  \n",
       "15          Normal      0  \n",
       "17          Normal      0  \n",
       "21          Normal      0  \n",
       "...            ...    ...  \n",
       "175335     Generic      1  \n",
       "175336     Generic      1  \n",
       "175338     Generic      1  \n",
       "175339     Generic      1  \n",
       "175340     Generic      1  \n",
       "\n",
       "[81173 rows x 45 columns]"
      ]
     },
     "execution_count": 7,
     "metadata": {},
     "output_type": "execute_result"
    }
   ],
   "source": [
    "training_df"
   ]
  },
  {
   "cell_type": "code",
   "execution_count": 8,
   "metadata": {},
   "outputs": [
    {
     "data": {
      "text/html": [
       "<div>\n",
       "<style scoped>\n",
       "    .dataframe tbody tr th:only-of-type {\n",
       "        vertical-align: middle;\n",
       "    }\n",
       "\n",
       "    .dataframe tbody tr th {\n",
       "        vertical-align: top;\n",
       "    }\n",
       "\n",
       "    .dataframe thead th {\n",
       "        text-align: right;\n",
       "    }\n",
       "</style>\n",
       "<table border=\"1\" class=\"dataframe\">\n",
       "  <thead>\n",
       "    <tr style=\"text-align: right;\">\n",
       "      <th></th>\n",
       "      <th>id</th>\n",
       "      <th>dur</th>\n",
       "      <th>proto</th>\n",
       "      <th>service</th>\n",
       "      <th>state</th>\n",
       "      <th>spkts</th>\n",
       "      <th>dpkts</th>\n",
       "      <th>sbytes</th>\n",
       "      <th>dbytes</th>\n",
       "      <th>rate</th>\n",
       "      <th>...</th>\n",
       "      <th>ct_dst_sport_ltm</th>\n",
       "      <th>ct_dst_src_ltm</th>\n",
       "      <th>is_ftp_login</th>\n",
       "      <th>ct_ftp_cmd</th>\n",
       "      <th>ct_flw_http_mthd</th>\n",
       "      <th>ct_src_ltm</th>\n",
       "      <th>ct_srv_dst</th>\n",
       "      <th>is_sm_ips_ports</th>\n",
       "      <th>attack_cat</th>\n",
       "      <th>label</th>\n",
       "    </tr>\n",
       "  </thead>\n",
       "  <tbody>\n",
       "    <tr>\n",
       "      <td>0</td>\n",
       "      <td>1</td>\n",
       "      <td>0.000011</td>\n",
       "      <td>udp</td>\n",
       "      <td>NaN</td>\n",
       "      <td>INT</td>\n",
       "      <td>2</td>\n",
       "      <td>0</td>\n",
       "      <td>496</td>\n",
       "      <td>0</td>\n",
       "      <td>90909.090200</td>\n",
       "      <td>...</td>\n",
       "      <td>1</td>\n",
       "      <td>2</td>\n",
       "      <td>0</td>\n",
       "      <td>0</td>\n",
       "      <td>0</td>\n",
       "      <td>1</td>\n",
       "      <td>2</td>\n",
       "      <td>0</td>\n",
       "      <td>Normal</td>\n",
       "      <td>0</td>\n",
       "    </tr>\n",
       "    <tr>\n",
       "      <td>1</td>\n",
       "      <td>2</td>\n",
       "      <td>0.000008</td>\n",
       "      <td>udp</td>\n",
       "      <td>NaN</td>\n",
       "      <td>INT</td>\n",
       "      <td>2</td>\n",
       "      <td>0</td>\n",
       "      <td>1762</td>\n",
       "      <td>0</td>\n",
       "      <td>125000.000300</td>\n",
       "      <td>...</td>\n",
       "      <td>1</td>\n",
       "      <td>2</td>\n",
       "      <td>0</td>\n",
       "      <td>0</td>\n",
       "      <td>0</td>\n",
       "      <td>1</td>\n",
       "      <td>2</td>\n",
       "      <td>0</td>\n",
       "      <td>Normal</td>\n",
       "      <td>0</td>\n",
       "    </tr>\n",
       "    <tr>\n",
       "      <td>2</td>\n",
       "      <td>3</td>\n",
       "      <td>0.000005</td>\n",
       "      <td>udp</td>\n",
       "      <td>NaN</td>\n",
       "      <td>INT</td>\n",
       "      <td>2</td>\n",
       "      <td>0</td>\n",
       "      <td>1068</td>\n",
       "      <td>0</td>\n",
       "      <td>200000.005100</td>\n",
       "      <td>...</td>\n",
       "      <td>1</td>\n",
       "      <td>3</td>\n",
       "      <td>0</td>\n",
       "      <td>0</td>\n",
       "      <td>0</td>\n",
       "      <td>1</td>\n",
       "      <td>3</td>\n",
       "      <td>0</td>\n",
       "      <td>Normal</td>\n",
       "      <td>0</td>\n",
       "    </tr>\n",
       "    <tr>\n",
       "      <td>3</td>\n",
       "      <td>4</td>\n",
       "      <td>0.000006</td>\n",
       "      <td>udp</td>\n",
       "      <td>NaN</td>\n",
       "      <td>INT</td>\n",
       "      <td>2</td>\n",
       "      <td>0</td>\n",
       "      <td>900</td>\n",
       "      <td>0</td>\n",
       "      <td>166666.660800</td>\n",
       "      <td>...</td>\n",
       "      <td>1</td>\n",
       "      <td>3</td>\n",
       "      <td>0</td>\n",
       "      <td>0</td>\n",
       "      <td>0</td>\n",
       "      <td>2</td>\n",
       "      <td>3</td>\n",
       "      <td>0</td>\n",
       "      <td>Normal</td>\n",
       "      <td>0</td>\n",
       "    </tr>\n",
       "    <tr>\n",
       "      <td>4</td>\n",
       "      <td>5</td>\n",
       "      <td>0.000010</td>\n",
       "      <td>udp</td>\n",
       "      <td>NaN</td>\n",
       "      <td>INT</td>\n",
       "      <td>2</td>\n",
       "      <td>0</td>\n",
       "      <td>2126</td>\n",
       "      <td>0</td>\n",
       "      <td>100000.002500</td>\n",
       "      <td>...</td>\n",
       "      <td>1</td>\n",
       "      <td>3</td>\n",
       "      <td>0</td>\n",
       "      <td>0</td>\n",
       "      <td>0</td>\n",
       "      <td>2</td>\n",
       "      <td>3</td>\n",
       "      <td>0</td>\n",
       "      <td>Normal</td>\n",
       "      <td>0</td>\n",
       "    </tr>\n",
       "    <tr>\n",
       "      <td>...</td>\n",
       "      <td>...</td>\n",
       "      <td>...</td>\n",
       "      <td>...</td>\n",
       "      <td>...</td>\n",
       "      <td>...</td>\n",
       "      <td>...</td>\n",
       "      <td>...</td>\n",
       "      <td>...</td>\n",
       "      <td>...</td>\n",
       "      <td>...</td>\n",
       "      <td>...</td>\n",
       "      <td>...</td>\n",
       "      <td>...</td>\n",
       "      <td>...</td>\n",
       "      <td>...</td>\n",
       "      <td>...</td>\n",
       "      <td>...</td>\n",
       "      <td>...</td>\n",
       "      <td>...</td>\n",
       "      <td>...</td>\n",
       "      <td>...</td>\n",
       "    </tr>\n",
       "    <tr>\n",
       "      <td>82327</td>\n",
       "      <td>82328</td>\n",
       "      <td>0.000005</td>\n",
       "      <td>udp</td>\n",
       "      <td>NaN</td>\n",
       "      <td>INT</td>\n",
       "      <td>2</td>\n",
       "      <td>0</td>\n",
       "      <td>104</td>\n",
       "      <td>0</td>\n",
       "      <td>200000.005100</td>\n",
       "      <td>...</td>\n",
       "      <td>1</td>\n",
       "      <td>2</td>\n",
       "      <td>0</td>\n",
       "      <td>0</td>\n",
       "      <td>0</td>\n",
       "      <td>2</td>\n",
       "      <td>1</td>\n",
       "      <td>0</td>\n",
       "      <td>Normal</td>\n",
       "      <td>0</td>\n",
       "    </tr>\n",
       "    <tr>\n",
       "      <td>82328</td>\n",
       "      <td>82329</td>\n",
       "      <td>1.106101</td>\n",
       "      <td>tcp</td>\n",
       "      <td>NaN</td>\n",
       "      <td>FIN</td>\n",
       "      <td>20</td>\n",
       "      <td>8</td>\n",
       "      <td>18062</td>\n",
       "      <td>354</td>\n",
       "      <td>24.410067</td>\n",
       "      <td>...</td>\n",
       "      <td>1</td>\n",
       "      <td>1</td>\n",
       "      <td>0</td>\n",
       "      <td>0</td>\n",
       "      <td>0</td>\n",
       "      <td>3</td>\n",
       "      <td>2</td>\n",
       "      <td>0</td>\n",
       "      <td>Normal</td>\n",
       "      <td>0</td>\n",
       "    </tr>\n",
       "    <tr>\n",
       "      <td>82329</td>\n",
       "      <td>82330</td>\n",
       "      <td>0.000000</td>\n",
       "      <td>arp</td>\n",
       "      <td>NaN</td>\n",
       "      <td>INT</td>\n",
       "      <td>1</td>\n",
       "      <td>0</td>\n",
       "      <td>46</td>\n",
       "      <td>0</td>\n",
       "      <td>0.000000</td>\n",
       "      <td>...</td>\n",
       "      <td>1</td>\n",
       "      <td>1</td>\n",
       "      <td>0</td>\n",
       "      <td>0</td>\n",
       "      <td>0</td>\n",
       "      <td>1</td>\n",
       "      <td>1</td>\n",
       "      <td>1</td>\n",
       "      <td>Normal</td>\n",
       "      <td>0</td>\n",
       "    </tr>\n",
       "    <tr>\n",
       "      <td>82330</td>\n",
       "      <td>82331</td>\n",
       "      <td>0.000000</td>\n",
       "      <td>arp</td>\n",
       "      <td>NaN</td>\n",
       "      <td>INT</td>\n",
       "      <td>1</td>\n",
       "      <td>0</td>\n",
       "      <td>46</td>\n",
       "      <td>0</td>\n",
       "      <td>0.000000</td>\n",
       "      <td>...</td>\n",
       "      <td>1</td>\n",
       "      <td>1</td>\n",
       "      <td>0</td>\n",
       "      <td>0</td>\n",
       "      <td>0</td>\n",
       "      <td>1</td>\n",
       "      <td>1</td>\n",
       "      <td>1</td>\n",
       "      <td>Normal</td>\n",
       "      <td>0</td>\n",
       "    </tr>\n",
       "    <tr>\n",
       "      <td>82331</td>\n",
       "      <td>82332</td>\n",
       "      <td>0.000009</td>\n",
       "      <td>udp</td>\n",
       "      <td>NaN</td>\n",
       "      <td>INT</td>\n",
       "      <td>2</td>\n",
       "      <td>0</td>\n",
       "      <td>104</td>\n",
       "      <td>0</td>\n",
       "      <td>111111.107200</td>\n",
       "      <td>...</td>\n",
       "      <td>1</td>\n",
       "      <td>1</td>\n",
       "      <td>0</td>\n",
       "      <td>0</td>\n",
       "      <td>0</td>\n",
       "      <td>1</td>\n",
       "      <td>1</td>\n",
       "      <td>0</td>\n",
       "      <td>Normal</td>\n",
       "      <td>0</td>\n",
       "    </tr>\n",
       "  </tbody>\n",
       "</table>\n",
       "<p>47153 rows × 45 columns</p>\n",
       "</div>"
      ],
      "text/plain": [
       "          id       dur proto service state  spkts  dpkts  sbytes  dbytes  \\\n",
       "0          1  0.000011   udp     NaN   INT      2      0     496       0   \n",
       "1          2  0.000008   udp     NaN   INT      2      0    1762       0   \n",
       "2          3  0.000005   udp     NaN   INT      2      0    1068       0   \n",
       "3          4  0.000006   udp     NaN   INT      2      0     900       0   \n",
       "4          5  0.000010   udp     NaN   INT      2      0    2126       0   \n",
       "...      ...       ...   ...     ...   ...    ...    ...     ...     ...   \n",
       "82327  82328  0.000005   udp     NaN   INT      2      0     104       0   \n",
       "82328  82329  1.106101   tcp     NaN   FIN     20      8   18062     354   \n",
       "82329  82330  0.000000   arp     NaN   INT      1      0      46       0   \n",
       "82330  82331  0.000000   arp     NaN   INT      1      0      46       0   \n",
       "82331  82332  0.000009   udp     NaN   INT      2      0     104       0   \n",
       "\n",
       "                rate  ...  ct_dst_sport_ltm  ct_dst_src_ltm  is_ftp_login  \\\n",
       "0       90909.090200  ...                 1               2             0   \n",
       "1      125000.000300  ...                 1               2             0   \n",
       "2      200000.005100  ...                 1               3             0   \n",
       "3      166666.660800  ...                 1               3             0   \n",
       "4      100000.002500  ...                 1               3             0   \n",
       "...              ...  ...               ...             ...           ...   \n",
       "82327  200000.005100  ...                 1               2             0   \n",
       "82328      24.410067  ...                 1               1             0   \n",
       "82329       0.000000  ...                 1               1             0   \n",
       "82330       0.000000  ...                 1               1             0   \n",
       "82331  111111.107200  ...                 1               1             0   \n",
       "\n",
       "       ct_ftp_cmd  ct_flw_http_mthd  ct_src_ltm  ct_srv_dst  is_sm_ips_ports  \\\n",
       "0               0                 0           1           2                0   \n",
       "1               0                 0           1           2                0   \n",
       "2               0                 0           1           3                0   \n",
       "3               0                 0           2           3                0   \n",
       "4               0                 0           2           3                0   \n",
       "...           ...               ...         ...         ...              ...   \n",
       "82327           0                 0           2           1                0   \n",
       "82328           0                 0           3           2                0   \n",
       "82329           0                 0           1           1                1   \n",
       "82330           0                 0           1           1                1   \n",
       "82331           0                 0           1           1                0   \n",
       "\n",
       "       attack_cat  label  \n",
       "0          Normal      0  \n",
       "1          Normal      0  \n",
       "2          Normal      0  \n",
       "3          Normal      0  \n",
       "4          Normal      0  \n",
       "...           ...    ...  \n",
       "82327      Normal      0  \n",
       "82328      Normal      0  \n",
       "82329      Normal      0  \n",
       "82330      Normal      0  \n",
       "82331      Normal      0  \n",
       "\n",
       "[47153 rows x 45 columns]"
      ]
     },
     "execution_count": 8,
     "metadata": {},
     "output_type": "execute_result"
    }
   ],
   "source": [
    "#Searching for null values in testing data\n",
    "test_df=pd.read_csv('UNSW_NB15_test-set_csc215.csv', na_values=['-','?']) \n",
    "test_df[test_df.isnull().any(axis=1)]"
   ]
  },
  {
   "cell_type": "code",
   "execution_count": 9,
   "metadata": {},
   "outputs": [
    {
     "data": {
      "text/html": [
       "<div>\n",
       "<style scoped>\n",
       "    .dataframe tbody tr th:only-of-type {\n",
       "        vertical-align: middle;\n",
       "    }\n",
       "\n",
       "    .dataframe tbody tr th {\n",
       "        vertical-align: top;\n",
       "    }\n",
       "\n",
       "    .dataframe thead th {\n",
       "        text-align: right;\n",
       "    }\n",
       "</style>\n",
       "<table border=\"1\" class=\"dataframe\">\n",
       "  <thead>\n",
       "    <tr style=\"text-align: right;\">\n",
       "      <th></th>\n",
       "      <th>id</th>\n",
       "      <th>dur</th>\n",
       "      <th>proto</th>\n",
       "      <th>service</th>\n",
       "      <th>state</th>\n",
       "      <th>spkts</th>\n",
       "      <th>dpkts</th>\n",
       "      <th>sbytes</th>\n",
       "      <th>dbytes</th>\n",
       "      <th>rate</th>\n",
       "      <th>...</th>\n",
       "      <th>ct_dst_sport_ltm</th>\n",
       "      <th>ct_dst_src_ltm</th>\n",
       "      <th>is_ftp_login</th>\n",
       "      <th>ct_ftp_cmd</th>\n",
       "      <th>ct_flw_http_mthd</th>\n",
       "      <th>ct_src_ltm</th>\n",
       "      <th>ct_srv_dst</th>\n",
       "      <th>is_sm_ips_ports</th>\n",
       "      <th>attack_cat</th>\n",
       "      <th>label</th>\n",
       "    </tr>\n",
       "  </thead>\n",
       "  <tbody>\n",
       "    <tr>\n",
       "      <td>35</td>\n",
       "      <td>36</td>\n",
       "      <td>0.983874</td>\n",
       "      <td>tcp</td>\n",
       "      <td>http</td>\n",
       "      <td>FIN</td>\n",
       "      <td>10</td>\n",
       "      <td>8</td>\n",
       "      <td>816</td>\n",
       "      <td>1172</td>\n",
       "      <td>17.278635</td>\n",
       "      <td>...</td>\n",
       "      <td>1</td>\n",
       "      <td>2</td>\n",
       "      <td>0</td>\n",
       "      <td>0</td>\n",
       "      <td>1</td>\n",
       "      <td>1</td>\n",
       "      <td>3</td>\n",
       "      <td>0</td>\n",
       "      <td>Normal</td>\n",
       "      <td>0</td>\n",
       "    </tr>\n",
       "    <tr>\n",
       "      <td>40</td>\n",
       "      <td>41</td>\n",
       "      <td>1.535254</td>\n",
       "      <td>tcp</td>\n",
       "      <td>http</td>\n",
       "      <td>FIN</td>\n",
       "      <td>10</td>\n",
       "      <td>10</td>\n",
       "      <td>826</td>\n",
       "      <td>1266</td>\n",
       "      <td>12.375802</td>\n",
       "      <td>...</td>\n",
       "      <td>1</td>\n",
       "      <td>2</td>\n",
       "      <td>0</td>\n",
       "      <td>0</td>\n",
       "      <td>1</td>\n",
       "      <td>1</td>\n",
       "      <td>3</td>\n",
       "      <td>0</td>\n",
       "      <td>Normal</td>\n",
       "      <td>0</td>\n",
       "    </tr>\n",
       "    <tr>\n",
       "      <td>45</td>\n",
       "      <td>46</td>\n",
       "      <td>1.059359</td>\n",
       "      <td>tcp</td>\n",
       "      <td>http</td>\n",
       "      <td>FIN</td>\n",
       "      <td>10</td>\n",
       "      <td>8</td>\n",
       "      <td>830</td>\n",
       "      <td>1134</td>\n",
       "      <td>16.047441</td>\n",
       "      <td>...</td>\n",
       "      <td>1</td>\n",
       "      <td>1</td>\n",
       "      <td>0</td>\n",
       "      <td>0</td>\n",
       "      <td>1</td>\n",
       "      <td>3</td>\n",
       "      <td>1</td>\n",
       "      <td>0</td>\n",
       "      <td>Normal</td>\n",
       "      <td>0</td>\n",
       "    </tr>\n",
       "    <tr>\n",
       "      <td>49</td>\n",
       "      <td>50</td>\n",
       "      <td>0.990548</td>\n",
       "      <td>tcp</td>\n",
       "      <td>http</td>\n",
       "      <td>FIN</td>\n",
       "      <td>10</td>\n",
       "      <td>10</td>\n",
       "      <td>804</td>\n",
       "      <td>1414</td>\n",
       "      <td>19.181301</td>\n",
       "      <td>...</td>\n",
       "      <td>1</td>\n",
       "      <td>2</td>\n",
       "      <td>0</td>\n",
       "      <td>0</td>\n",
       "      <td>1</td>\n",
       "      <td>1</td>\n",
       "      <td>2</td>\n",
       "      <td>0</td>\n",
       "      <td>Normal</td>\n",
       "      <td>0</td>\n",
       "    </tr>\n",
       "    <tr>\n",
       "      <td>72</td>\n",
       "      <td>73</td>\n",
       "      <td>1.303518</td>\n",
       "      <td>tcp</td>\n",
       "      <td>http</td>\n",
       "      <td>FIN</td>\n",
       "      <td>12</td>\n",
       "      <td>8</td>\n",
       "      <td>898</td>\n",
       "      <td>1120</td>\n",
       "      <td>14.575939</td>\n",
       "      <td>...</td>\n",
       "      <td>1</td>\n",
       "      <td>1</td>\n",
       "      <td>0</td>\n",
       "      <td>0</td>\n",
       "      <td>1</td>\n",
       "      <td>2</td>\n",
       "      <td>1</td>\n",
       "      <td>0</td>\n",
       "      <td>Normal</td>\n",
       "      <td>0</td>\n",
       "    </tr>\n",
       "    <tr>\n",
       "      <td>...</td>\n",
       "      <td>...</td>\n",
       "      <td>...</td>\n",
       "      <td>...</td>\n",
       "      <td>...</td>\n",
       "      <td>...</td>\n",
       "      <td>...</td>\n",
       "      <td>...</td>\n",
       "      <td>...</td>\n",
       "      <td>...</td>\n",
       "      <td>...</td>\n",
       "      <td>...</td>\n",
       "      <td>...</td>\n",
       "      <td>...</td>\n",
       "      <td>...</td>\n",
       "      <td>...</td>\n",
       "      <td>...</td>\n",
       "      <td>...</td>\n",
       "      <td>...</td>\n",
       "      <td>...</td>\n",
       "      <td>...</td>\n",
       "      <td>...</td>\n",
       "    </tr>\n",
       "    <tr>\n",
       "      <td>81462</td>\n",
       "      <td>81463</td>\n",
       "      <td>0.818276</td>\n",
       "      <td>tcp</td>\n",
       "      <td>http</td>\n",
       "      <td>FIN</td>\n",
       "      <td>60</td>\n",
       "      <td>14</td>\n",
       "      <td>68199</td>\n",
       "      <td>612</td>\n",
       "      <td>89.211954</td>\n",
       "      <td>...</td>\n",
       "      <td>1</td>\n",
       "      <td>2</td>\n",
       "      <td>0</td>\n",
       "      <td>0</td>\n",
       "      <td>1</td>\n",
       "      <td>1</td>\n",
       "      <td>1</td>\n",
       "      <td>0</td>\n",
       "      <td>Normal</td>\n",
       "      <td>0</td>\n",
       "    </tr>\n",
       "    <tr>\n",
       "      <td>81466</td>\n",
       "      <td>81467</td>\n",
       "      <td>0.825170</td>\n",
       "      <td>tcp</td>\n",
       "      <td>http</td>\n",
       "      <td>FIN</td>\n",
       "      <td>60</td>\n",
       "      <td>14</td>\n",
       "      <td>68199</td>\n",
       "      <td>612</td>\n",
       "      <td>88.466621</td>\n",
       "      <td>...</td>\n",
       "      <td>1</td>\n",
       "      <td>1</td>\n",
       "      <td>0</td>\n",
       "      <td>0</td>\n",
       "      <td>1</td>\n",
       "      <td>1</td>\n",
       "      <td>1</td>\n",
       "      <td>0</td>\n",
       "      <td>Normal</td>\n",
       "      <td>0</td>\n",
       "    </tr>\n",
       "    <tr>\n",
       "      <td>81518</td>\n",
       "      <td>81519</td>\n",
       "      <td>0.874942</td>\n",
       "      <td>tcp</td>\n",
       "      <td>http</td>\n",
       "      <td>FIN</td>\n",
       "      <td>60</td>\n",
       "      <td>14</td>\n",
       "      <td>68199</td>\n",
       "      <td>612</td>\n",
       "      <td>83.434101</td>\n",
       "      <td>...</td>\n",
       "      <td>1</td>\n",
       "      <td>2</td>\n",
       "      <td>0</td>\n",
       "      <td>0</td>\n",
       "      <td>1</td>\n",
       "      <td>1</td>\n",
       "      <td>2</td>\n",
       "      <td>0</td>\n",
       "      <td>Normal</td>\n",
       "      <td>0</td>\n",
       "    </tr>\n",
       "    <tr>\n",
       "      <td>81540</td>\n",
       "      <td>81541</td>\n",
       "      <td>0.740231</td>\n",
       "      <td>tcp</td>\n",
       "      <td>http</td>\n",
       "      <td>FIN</td>\n",
       "      <td>60</td>\n",
       "      <td>14</td>\n",
       "      <td>68199</td>\n",
       "      <td>612</td>\n",
       "      <td>98.617867</td>\n",
       "      <td>...</td>\n",
       "      <td>1</td>\n",
       "      <td>3</td>\n",
       "      <td>0</td>\n",
       "      <td>0</td>\n",
       "      <td>1</td>\n",
       "      <td>1</td>\n",
       "      <td>3</td>\n",
       "      <td>0</td>\n",
       "      <td>Normal</td>\n",
       "      <td>0</td>\n",
       "    </tr>\n",
       "    <tr>\n",
       "      <td>82194</td>\n",
       "      <td>82195</td>\n",
       "      <td>1.910248</td>\n",
       "      <td>tcp</td>\n",
       "      <td>ftp</td>\n",
       "      <td>FIN</td>\n",
       "      <td>62</td>\n",
       "      <td>20</td>\n",
       "      <td>68109</td>\n",
       "      <td>1026</td>\n",
       "      <td>42.402870</td>\n",
       "      <td>...</td>\n",
       "      <td>1</td>\n",
       "      <td>1</td>\n",
       "      <td>0</td>\n",
       "      <td>0</td>\n",
       "      <td>0</td>\n",
       "      <td>28</td>\n",
       "      <td>1</td>\n",
       "      <td>0</td>\n",
       "      <td>Normal</td>\n",
       "      <td>0</td>\n",
       "    </tr>\n",
       "  </tbody>\n",
       "</table>\n",
       "<p>35179 rows × 45 columns</p>\n",
       "</div>"
      ],
      "text/plain": [
       "          id       dur proto service state  spkts  dpkts  sbytes  dbytes  \\\n",
       "35        36  0.983874   tcp    http   FIN     10      8     816    1172   \n",
       "40        41  1.535254   tcp    http   FIN     10     10     826    1266   \n",
       "45        46  1.059359   tcp    http   FIN     10      8     830    1134   \n",
       "49        50  0.990548   tcp    http   FIN     10     10     804    1414   \n",
       "72        73  1.303518   tcp    http   FIN     12      8     898    1120   \n",
       "...      ...       ...   ...     ...   ...    ...    ...     ...     ...   \n",
       "81462  81463  0.818276   tcp    http   FIN     60     14   68199     612   \n",
       "81466  81467  0.825170   tcp    http   FIN     60     14   68199     612   \n",
       "81518  81519  0.874942   tcp    http   FIN     60     14   68199     612   \n",
       "81540  81541  0.740231   tcp    http   FIN     60     14   68199     612   \n",
       "82194  82195  1.910248   tcp     ftp   FIN     62     20   68109    1026   \n",
       "\n",
       "            rate  ...  ct_dst_sport_ltm  ct_dst_src_ltm  is_ftp_login  \\\n",
       "35     17.278635  ...                 1               2             0   \n",
       "40     12.375802  ...                 1               2             0   \n",
       "45     16.047441  ...                 1               1             0   \n",
       "49     19.181301  ...                 1               2             0   \n",
       "72     14.575939  ...                 1               1             0   \n",
       "...          ...  ...               ...             ...           ...   \n",
       "81462  89.211954  ...                 1               2             0   \n",
       "81466  88.466621  ...                 1               1             0   \n",
       "81518  83.434101  ...                 1               2             0   \n",
       "81540  98.617867  ...                 1               3             0   \n",
       "82194  42.402870  ...                 1               1             0   \n",
       "\n",
       "       ct_ftp_cmd  ct_flw_http_mthd  ct_src_ltm  ct_srv_dst  is_sm_ips_ports  \\\n",
       "35              0                 1           1           3                0   \n",
       "40              0                 1           1           3                0   \n",
       "45              0                 1           3           1                0   \n",
       "49              0                 1           1           2                0   \n",
       "72              0                 1           2           1                0   \n",
       "...           ...               ...         ...         ...              ...   \n",
       "81462           0                 1           1           1                0   \n",
       "81466           0                 1           1           1                0   \n",
       "81518           0                 1           1           2                0   \n",
       "81540           0                 1           1           3                0   \n",
       "82194           0                 0          28           1                0   \n",
       "\n",
       "       attack_cat  label  \n",
       "35         Normal      0  \n",
       "40         Normal      0  \n",
       "45         Normal      0  \n",
       "49         Normal      0  \n",
       "72         Normal      0  \n",
       "...           ...    ...  \n",
       "81462      Normal      0  \n",
       "81466      Normal      0  \n",
       "81518      Normal      0  \n",
       "81540      Normal      0  \n",
       "82194      Normal      0  \n",
       "\n",
       "[35179 rows x 45 columns]"
      ]
     },
     "execution_count": 9,
     "metadata": {},
     "output_type": "execute_result"
    }
   ],
   "source": [
    "#Remove the missing values from the test data \n",
    "test_df=test_df.dropna()\n",
    "test_df"
   ]
  },
  {
   "cell_type": "code",
   "execution_count": 10,
   "metadata": {},
   "outputs": [],
   "source": [
    "# removing duplicates from the code to avoid biased decisions\n",
    "df_unique_training = training_df.drop_duplicates(keep='first', inplace=False)\n",
    "df_unique_test = test_df.drop_duplicates(keep='first',inplace=False)"
   ]
  },
  {
   "cell_type": "code",
   "execution_count": 11,
   "metadata": {},
   "outputs": [
    {
     "data": {
      "text/plain": [
       "(81173, 45)"
      ]
     },
     "execution_count": 11,
     "metadata": {},
     "output_type": "execute_result"
    }
   ],
   "source": [
    "df_unique_training.shape"
   ]
  },
  {
   "cell_type": "code",
   "execution_count": 12,
   "metadata": {},
   "outputs": [
    {
     "data": {
      "text/plain": [
       "(35179, 45)"
      ]
     },
     "execution_count": 12,
     "metadata": {},
     "output_type": "execute_result"
    }
   ],
   "source": [
    "df_unique_test.shape"
   ]
  },
  {
   "cell_type": "code",
   "execution_count": 13,
   "metadata": {
    "scrolled": true
   },
   "outputs": [
    {
     "data": {
      "text/html": [
       "<div>\n",
       "<style scoped>\n",
       "    .dataframe tbody tr th:only-of-type {\n",
       "        vertical-align: middle;\n",
       "    }\n",
       "\n",
       "    .dataframe tbody tr th {\n",
       "        vertical-align: top;\n",
       "    }\n",
       "\n",
       "    .dataframe thead th {\n",
       "        text-align: right;\n",
       "    }\n",
       "</style>\n",
       "<table border=\"1\" class=\"dataframe\">\n",
       "  <thead>\n",
       "    <tr style=\"text-align: right;\">\n",
       "      <th></th>\n",
       "      <th>id</th>\n",
       "      <th>dur</th>\n",
       "      <th>proto</th>\n",
       "      <th>service</th>\n",
       "      <th>state</th>\n",
       "      <th>spkts</th>\n",
       "      <th>dpkts</th>\n",
       "      <th>sbytes</th>\n",
       "      <th>dbytes</th>\n",
       "      <th>rate</th>\n",
       "      <th>...</th>\n",
       "      <th>ct_dst_sport_ltm</th>\n",
       "      <th>ct_dst_src_ltm</th>\n",
       "      <th>is_ftp_login</th>\n",
       "      <th>ct_ftp_cmd</th>\n",
       "      <th>ct_flw_http_mthd</th>\n",
       "      <th>ct_src_ltm</th>\n",
       "      <th>ct_srv_dst</th>\n",
       "      <th>is_sm_ips_ports</th>\n",
       "      <th>attack_cat</th>\n",
       "      <th>label</th>\n",
       "    </tr>\n",
       "  </thead>\n",
       "  <tbody>\n",
       "    <tr>\n",
       "      <td>3</td>\n",
       "      <td>4</td>\n",
       "      <td>1.681642</td>\n",
       "      <td>tcp</td>\n",
       "      <td>ftp</td>\n",
       "      <td>FIN</td>\n",
       "      <td>12</td>\n",
       "      <td>12</td>\n",
       "      <td>628</td>\n",
       "      <td>770</td>\n",
       "      <td>13.677108</td>\n",
       "      <td>...</td>\n",
       "      <td>1</td>\n",
       "      <td>3</td>\n",
       "      <td>1</td>\n",
       "      <td>1</td>\n",
       "      <td>0</td>\n",
       "      <td>2</td>\n",
       "      <td>1</td>\n",
       "      <td>0</td>\n",
       "      <td>Normal</td>\n",
       "      <td>0</td>\n",
       "    </tr>\n",
       "    <tr>\n",
       "      <td>11</td>\n",
       "      <td>12</td>\n",
       "      <td>2.093085</td>\n",
       "      <td>tcp</td>\n",
       "      <td>smtp</td>\n",
       "      <td>FIN</td>\n",
       "      <td>62</td>\n",
       "      <td>28</td>\n",
       "      <td>56329</td>\n",
       "      <td>2212</td>\n",
       "      <td>42.520967</td>\n",
       "      <td>...</td>\n",
       "      <td>1</td>\n",
       "      <td>2</td>\n",
       "      <td>0</td>\n",
       "      <td>0</td>\n",
       "      <td>0</td>\n",
       "      <td>1</td>\n",
       "      <td>1</td>\n",
       "      <td>0</td>\n",
       "      <td>Normal</td>\n",
       "      <td>0</td>\n",
       "    </tr>\n",
       "    <tr>\n",
       "      <td>15</td>\n",
       "      <td>16</td>\n",
       "      <td>0.000002</td>\n",
       "      <td>udp</td>\n",
       "      <td>snmp</td>\n",
       "      <td>INT</td>\n",
       "      <td>2</td>\n",
       "      <td>0</td>\n",
       "      <td>138</td>\n",
       "      <td>0</td>\n",
       "      <td>500000.001300</td>\n",
       "      <td>...</td>\n",
       "      <td>1</td>\n",
       "      <td>4</td>\n",
       "      <td>0</td>\n",
       "      <td>0</td>\n",
       "      <td>0</td>\n",
       "      <td>2</td>\n",
       "      <td>1</td>\n",
       "      <td>0</td>\n",
       "      <td>Normal</td>\n",
       "      <td>0</td>\n",
       "    </tr>\n",
       "    <tr>\n",
       "      <td>17</td>\n",
       "      <td>18</td>\n",
       "      <td>0.393556</td>\n",
       "      <td>tcp</td>\n",
       "      <td>http</td>\n",
       "      <td>FIN</td>\n",
       "      <td>10</td>\n",
       "      <td>8</td>\n",
       "      <td>860</td>\n",
       "      <td>1096</td>\n",
       "      <td>43.195886</td>\n",
       "      <td>...</td>\n",
       "      <td>1</td>\n",
       "      <td>2</td>\n",
       "      <td>0</td>\n",
       "      <td>0</td>\n",
       "      <td>1</td>\n",
       "      <td>1</td>\n",
       "      <td>3</td>\n",
       "      <td>0</td>\n",
       "      <td>Normal</td>\n",
       "      <td>0</td>\n",
       "    </tr>\n",
       "  </tbody>\n",
       "</table>\n",
       "<p>4 rows × 45 columns</p>\n",
       "</div>"
      ],
      "text/plain": [
       "    id       dur proto service state  spkts  dpkts  sbytes  dbytes  \\\n",
       "3    4  1.681642   tcp     ftp   FIN     12     12     628     770   \n",
       "11  12  2.093085   tcp    smtp   FIN     62     28   56329    2212   \n",
       "15  16  0.000002   udp    snmp   INT      2      0     138       0   \n",
       "17  18  0.393556   tcp    http   FIN     10      8     860    1096   \n",
       "\n",
       "             rate  ...  ct_dst_sport_ltm  ct_dst_src_ltm  is_ftp_login  \\\n",
       "3       13.677108  ...                 1               3             1   \n",
       "11      42.520967  ...                 1               2             0   \n",
       "15  500000.001300  ...                 1               4             0   \n",
       "17      43.195886  ...                 1               2             0   \n",
       "\n",
       "    ct_ftp_cmd  ct_flw_http_mthd  ct_src_ltm  ct_srv_dst  is_sm_ips_ports  \\\n",
       "3            1                 0           2           1                0   \n",
       "11           0                 0           1           1                0   \n",
       "15           0                 0           2           1                0   \n",
       "17           0                 1           1           3                0   \n",
       "\n",
       "    attack_cat  label  \n",
       "3       Normal      0  \n",
       "11      Normal      0  \n",
       "15      Normal      0  \n",
       "17      Normal      0  \n",
       "\n",
       "[4 rows x 45 columns]"
      ]
     },
     "execution_count": 13,
     "metadata": {},
     "output_type": "execute_result"
    }
   ],
   "source": [
    "df_unique_training[:4]"
   ]
  },
  {
   "cell_type": "code",
   "execution_count": 14,
   "metadata": {},
   "outputs": [
    {
     "data": {
      "text/html": [
       "<div>\n",
       "<style scoped>\n",
       "    .dataframe tbody tr th:only-of-type {\n",
       "        vertical-align: middle;\n",
       "    }\n",
       "\n",
       "    .dataframe tbody tr th {\n",
       "        vertical-align: top;\n",
       "    }\n",
       "\n",
       "    .dataframe thead th {\n",
       "        text-align: right;\n",
       "    }\n",
       "</style>\n",
       "<table border=\"1\" class=\"dataframe\">\n",
       "  <thead>\n",
       "    <tr style=\"text-align: right;\">\n",
       "      <th></th>\n",
       "      <th>id</th>\n",
       "      <th>dur</th>\n",
       "      <th>proto</th>\n",
       "      <th>service</th>\n",
       "      <th>state</th>\n",
       "      <th>spkts</th>\n",
       "      <th>dpkts</th>\n",
       "      <th>sbytes</th>\n",
       "      <th>dbytes</th>\n",
       "      <th>rate</th>\n",
       "      <th>...</th>\n",
       "      <th>ct_dst_sport_ltm</th>\n",
       "      <th>ct_dst_src_ltm</th>\n",
       "      <th>is_ftp_login</th>\n",
       "      <th>ct_ftp_cmd</th>\n",
       "      <th>ct_flw_http_mthd</th>\n",
       "      <th>ct_src_ltm</th>\n",
       "      <th>ct_srv_dst</th>\n",
       "      <th>is_sm_ips_ports</th>\n",
       "      <th>attack_cat</th>\n",
       "      <th>label</th>\n",
       "    </tr>\n",
       "  </thead>\n",
       "  <tbody>\n",
       "    <tr>\n",
       "      <td>35</td>\n",
       "      <td>36</td>\n",
       "      <td>0.983874</td>\n",
       "      <td>tcp</td>\n",
       "      <td>http</td>\n",
       "      <td>FIN</td>\n",
       "      <td>10</td>\n",
       "      <td>8</td>\n",
       "      <td>816</td>\n",
       "      <td>1172</td>\n",
       "      <td>17.278635</td>\n",
       "      <td>...</td>\n",
       "      <td>1</td>\n",
       "      <td>2</td>\n",
       "      <td>0</td>\n",
       "      <td>0</td>\n",
       "      <td>1</td>\n",
       "      <td>1</td>\n",
       "      <td>3</td>\n",
       "      <td>0</td>\n",
       "      <td>Normal</td>\n",
       "      <td>0</td>\n",
       "    </tr>\n",
       "    <tr>\n",
       "      <td>40</td>\n",
       "      <td>41</td>\n",
       "      <td>1.535254</td>\n",
       "      <td>tcp</td>\n",
       "      <td>http</td>\n",
       "      <td>FIN</td>\n",
       "      <td>10</td>\n",
       "      <td>10</td>\n",
       "      <td>826</td>\n",
       "      <td>1266</td>\n",
       "      <td>12.375802</td>\n",
       "      <td>...</td>\n",
       "      <td>1</td>\n",
       "      <td>2</td>\n",
       "      <td>0</td>\n",
       "      <td>0</td>\n",
       "      <td>1</td>\n",
       "      <td>1</td>\n",
       "      <td>3</td>\n",
       "      <td>0</td>\n",
       "      <td>Normal</td>\n",
       "      <td>0</td>\n",
       "    </tr>\n",
       "    <tr>\n",
       "      <td>45</td>\n",
       "      <td>46</td>\n",
       "      <td>1.059359</td>\n",
       "      <td>tcp</td>\n",
       "      <td>http</td>\n",
       "      <td>FIN</td>\n",
       "      <td>10</td>\n",
       "      <td>8</td>\n",
       "      <td>830</td>\n",
       "      <td>1134</td>\n",
       "      <td>16.047441</td>\n",
       "      <td>...</td>\n",
       "      <td>1</td>\n",
       "      <td>1</td>\n",
       "      <td>0</td>\n",
       "      <td>0</td>\n",
       "      <td>1</td>\n",
       "      <td>3</td>\n",
       "      <td>1</td>\n",
       "      <td>0</td>\n",
       "      <td>Normal</td>\n",
       "      <td>0</td>\n",
       "    </tr>\n",
       "    <tr>\n",
       "      <td>49</td>\n",
       "      <td>50</td>\n",
       "      <td>0.990548</td>\n",
       "      <td>tcp</td>\n",
       "      <td>http</td>\n",
       "      <td>FIN</td>\n",
       "      <td>10</td>\n",
       "      <td>10</td>\n",
       "      <td>804</td>\n",
       "      <td>1414</td>\n",
       "      <td>19.181301</td>\n",
       "      <td>...</td>\n",
       "      <td>1</td>\n",
       "      <td>2</td>\n",
       "      <td>0</td>\n",
       "      <td>0</td>\n",
       "      <td>1</td>\n",
       "      <td>1</td>\n",
       "      <td>2</td>\n",
       "      <td>0</td>\n",
       "      <td>Normal</td>\n",
       "      <td>0</td>\n",
       "    </tr>\n",
       "  </tbody>\n",
       "</table>\n",
       "<p>4 rows × 45 columns</p>\n",
       "</div>"
      ],
      "text/plain": [
       "    id       dur proto service state  spkts  dpkts  sbytes  dbytes       rate  \\\n",
       "35  36  0.983874   tcp    http   FIN     10      8     816    1172  17.278635   \n",
       "40  41  1.535254   tcp    http   FIN     10     10     826    1266  12.375802   \n",
       "45  46  1.059359   tcp    http   FIN     10      8     830    1134  16.047441   \n",
       "49  50  0.990548   tcp    http   FIN     10     10     804    1414  19.181301   \n",
       "\n",
       "    ...  ct_dst_sport_ltm  ct_dst_src_ltm  is_ftp_login  ct_ftp_cmd  \\\n",
       "35  ...                 1               2             0           0   \n",
       "40  ...                 1               2             0           0   \n",
       "45  ...                 1               1             0           0   \n",
       "49  ...                 1               2             0           0   \n",
       "\n",
       "    ct_flw_http_mthd  ct_src_ltm  ct_srv_dst  is_sm_ips_ports  attack_cat  \\\n",
       "35                 1           1           3                0      Normal   \n",
       "40                 1           1           3                0      Normal   \n",
       "45                 1           3           1                0      Normal   \n",
       "49                 1           1           2                0      Normal   \n",
       "\n",
       "    label  \n",
       "35      0  \n",
       "40      0  \n",
       "45      0  \n",
       "49      0  \n",
       "\n",
       "[4 rows x 45 columns]"
      ]
     },
     "execution_count": 14,
     "metadata": {},
     "output_type": "execute_result"
    }
   ],
   "source": [
    "df_unique_test[:4]"
   ]
  },
  {
   "cell_type": "code",
   "execution_count": 15,
   "metadata": {},
   "outputs": [],
   "source": [
    "y_binary_train = df_unique_training['label'].tolist()"
   ]
  },
  {
   "cell_type": "code",
   "execution_count": 16,
   "metadata": {},
   "outputs": [],
   "source": [
    "y_binary_test = df_unique_test['label'].tolist()"
   ]
  },
  {
   "cell_type": "code",
   "execution_count": 17,
   "metadata": {},
   "outputs": [],
   "source": [
    "# converting list to np array for further processing\n",
    "y_binary_train = np.array(y_binary_train)"
   ]
  },
  {
   "cell_type": "code",
   "execution_count": 18,
   "metadata": {},
   "outputs": [],
   "source": [
    "y_binary_test = np.array(y_binary_test)"
   ]
  },
  {
   "cell_type": "code",
   "execution_count": 19,
   "metadata": {},
   "outputs": [
    {
     "data": {
      "text/plain": [
       "array([0, 0, 0, ..., 1, 1, 1])"
      ]
     },
     "execution_count": 19,
     "metadata": {},
     "output_type": "execute_result"
    }
   ],
   "source": [
    "y_binary_train"
   ]
  },
  {
   "cell_type": "code",
   "execution_count": 20,
   "metadata": {},
   "outputs": [
    {
     "data": {
      "text/plain": [
       "(81173,)"
      ]
     },
     "execution_count": 20,
     "metadata": {},
     "output_type": "execute_result"
    }
   ],
   "source": [
    "y_binary_train.shape"
   ]
  },
  {
   "cell_type": "code",
   "execution_count": 21,
   "metadata": {},
   "outputs": [
    {
     "data": {
      "text/plain": [
       "array([0, 0, 0, ..., 0, 0, 0])"
      ]
     },
     "execution_count": 21,
     "metadata": {},
     "output_type": "execute_result"
    }
   ],
   "source": [
    "y_binary_test"
   ]
  },
  {
   "cell_type": "code",
   "execution_count": 22,
   "metadata": {},
   "outputs": [
    {
     "data": {
      "text/plain": [
       "(35179,)"
      ]
     },
     "execution_count": 22,
     "metadata": {},
     "output_type": "execute_result"
    }
   ],
   "source": [
    "y_binary_test.shape"
   ]
  },
  {
   "cell_type": "code",
   "execution_count": 23,
   "metadata": {},
   "outputs": [],
   "source": [
    "df_unique_training.drop(columns='attack_cat', axis=1,inplace=True)"
   ]
  },
  {
   "cell_type": "code",
   "execution_count": 24,
   "metadata": {},
   "outputs": [],
   "source": [
    "df_unique_test.drop(columns='attack_cat', axis=1,inplace=True)"
   ]
  },
  {
   "cell_type": "code",
   "execution_count": 25,
   "metadata": {},
   "outputs": [],
   "source": [
    "#one hot encoding\n",
    "def encode_text_dummy(df, name):\n",
    "    dummies = pd.get_dummies(df[name])\n",
    "    for x in dummies.columns:\n",
    "        dummy_name = \"{}_{}\".format(name, x)\n",
    "        df[dummy_name] = dummies[x]\n",
    "    df.drop(name, axis=1, inplace=True)"
   ]
  },
  {
   "cell_type": "code",
   "execution_count": 26,
   "metadata": {},
   "outputs": [
    {
     "data": {
      "text/html": [
       "<div>\n",
       "<style scoped>\n",
       "    .dataframe tbody tr th:only-of-type {\n",
       "        vertical-align: middle;\n",
       "    }\n",
       "\n",
       "    .dataframe tbody tr th {\n",
       "        vertical-align: top;\n",
       "    }\n",
       "\n",
       "    .dataframe thead th {\n",
       "        text-align: right;\n",
       "    }\n",
       "</style>\n",
       "<table border=\"1\" class=\"dataframe\">\n",
       "  <thead>\n",
       "    <tr style=\"text-align: right;\">\n",
       "      <th></th>\n",
       "      <th>id</th>\n",
       "      <th>dur</th>\n",
       "      <th>proto</th>\n",
       "      <th>service</th>\n",
       "      <th>state</th>\n",
       "      <th>spkts</th>\n",
       "      <th>dpkts</th>\n",
       "      <th>sbytes</th>\n",
       "      <th>dbytes</th>\n",
       "      <th>rate</th>\n",
       "      <th>...</th>\n",
       "      <th>ct_src_dport_ltm</th>\n",
       "      <th>ct_dst_sport_ltm</th>\n",
       "      <th>ct_dst_src_ltm</th>\n",
       "      <th>is_ftp_login</th>\n",
       "      <th>ct_ftp_cmd</th>\n",
       "      <th>ct_flw_http_mthd</th>\n",
       "      <th>ct_src_ltm</th>\n",
       "      <th>ct_srv_dst</th>\n",
       "      <th>is_sm_ips_ports</th>\n",
       "      <th>label</th>\n",
       "    </tr>\n",
       "  </thead>\n",
       "  <tbody>\n",
       "    <tr>\n",
       "      <td>3</td>\n",
       "      <td>4</td>\n",
       "      <td>1.681642</td>\n",
       "      <td>tcp</td>\n",
       "      <td>ftp</td>\n",
       "      <td>FIN</td>\n",
       "      <td>12</td>\n",
       "      <td>12</td>\n",
       "      <td>628</td>\n",
       "      <td>770</td>\n",
       "      <td>13.677108</td>\n",
       "      <td>...</td>\n",
       "      <td>1</td>\n",
       "      <td>1</td>\n",
       "      <td>3</td>\n",
       "      <td>1</td>\n",
       "      <td>1</td>\n",
       "      <td>0</td>\n",
       "      <td>2</td>\n",
       "      <td>1</td>\n",
       "      <td>0</td>\n",
       "      <td>0</td>\n",
       "    </tr>\n",
       "    <tr>\n",
       "      <td>11</td>\n",
       "      <td>12</td>\n",
       "      <td>2.093085</td>\n",
       "      <td>tcp</td>\n",
       "      <td>smtp</td>\n",
       "      <td>FIN</td>\n",
       "      <td>62</td>\n",
       "      <td>28</td>\n",
       "      <td>56329</td>\n",
       "      <td>2212</td>\n",
       "      <td>42.520967</td>\n",
       "      <td>...</td>\n",
       "      <td>1</td>\n",
       "      <td>1</td>\n",
       "      <td>2</td>\n",
       "      <td>0</td>\n",
       "      <td>0</td>\n",
       "      <td>0</td>\n",
       "      <td>1</td>\n",
       "      <td>1</td>\n",
       "      <td>0</td>\n",
       "      <td>0</td>\n",
       "    </tr>\n",
       "    <tr>\n",
       "      <td>15</td>\n",
       "      <td>16</td>\n",
       "      <td>0.000002</td>\n",
       "      <td>udp</td>\n",
       "      <td>snmp</td>\n",
       "      <td>INT</td>\n",
       "      <td>2</td>\n",
       "      <td>0</td>\n",
       "      <td>138</td>\n",
       "      <td>0</td>\n",
       "      <td>500000.001300</td>\n",
       "      <td>...</td>\n",
       "      <td>1</td>\n",
       "      <td>1</td>\n",
       "      <td>4</td>\n",
       "      <td>0</td>\n",
       "      <td>0</td>\n",
       "      <td>0</td>\n",
       "      <td>2</td>\n",
       "      <td>1</td>\n",
       "      <td>0</td>\n",
       "      <td>0</td>\n",
       "    </tr>\n",
       "    <tr>\n",
       "      <td>17</td>\n",
       "      <td>18</td>\n",
       "      <td>0.393556</td>\n",
       "      <td>tcp</td>\n",
       "      <td>http</td>\n",
       "      <td>FIN</td>\n",
       "      <td>10</td>\n",
       "      <td>8</td>\n",
       "      <td>860</td>\n",
       "      <td>1096</td>\n",
       "      <td>43.195886</td>\n",
       "      <td>...</td>\n",
       "      <td>1</td>\n",
       "      <td>1</td>\n",
       "      <td>2</td>\n",
       "      <td>0</td>\n",
       "      <td>0</td>\n",
       "      <td>1</td>\n",
       "      <td>1</td>\n",
       "      <td>3</td>\n",
       "      <td>0</td>\n",
       "      <td>0</td>\n",
       "    </tr>\n",
       "    <tr>\n",
       "      <td>21</td>\n",
       "      <td>22</td>\n",
       "      <td>0.338017</td>\n",
       "      <td>tcp</td>\n",
       "      <td>http</td>\n",
       "      <td>FIN</td>\n",
       "      <td>10</td>\n",
       "      <td>6</td>\n",
       "      <td>998</td>\n",
       "      <td>268</td>\n",
       "      <td>44.376468</td>\n",
       "      <td>...</td>\n",
       "      <td>1</td>\n",
       "      <td>1</td>\n",
       "      <td>1</td>\n",
       "      <td>0</td>\n",
       "      <td>0</td>\n",
       "      <td>1</td>\n",
       "      <td>2</td>\n",
       "      <td>3</td>\n",
       "      <td>0</td>\n",
       "      <td>0</td>\n",
       "    </tr>\n",
       "  </tbody>\n",
       "</table>\n",
       "<p>5 rows × 44 columns</p>\n",
       "</div>"
      ],
      "text/plain": [
       "    id       dur proto service state  spkts  dpkts  sbytes  dbytes  \\\n",
       "3    4  1.681642   tcp     ftp   FIN     12     12     628     770   \n",
       "11  12  2.093085   tcp    smtp   FIN     62     28   56329    2212   \n",
       "15  16  0.000002   udp    snmp   INT      2      0     138       0   \n",
       "17  18  0.393556   tcp    http   FIN     10      8     860    1096   \n",
       "21  22  0.338017   tcp    http   FIN     10      6     998     268   \n",
       "\n",
       "             rate  ...  ct_src_dport_ltm  ct_dst_sport_ltm  ct_dst_src_ltm  \\\n",
       "3       13.677108  ...                 1                 1               3   \n",
       "11      42.520967  ...                 1                 1               2   \n",
       "15  500000.001300  ...                 1                 1               4   \n",
       "17      43.195886  ...                 1                 1               2   \n",
       "21      44.376468  ...                 1                 1               1   \n",
       "\n",
       "    is_ftp_login  ct_ftp_cmd  ct_flw_http_mthd  ct_src_ltm  ct_srv_dst  \\\n",
       "3              1           1                 0           2           1   \n",
       "11             0           0                 0           1           1   \n",
       "15             0           0                 0           2           1   \n",
       "17             0           0                 1           1           3   \n",
       "21             0           0                 1           2           3   \n",
       "\n",
       "    is_sm_ips_ports  label  \n",
       "3                 0      0  \n",
       "11                0      0  \n",
       "15                0      0  \n",
       "17                0      0  \n",
       "21                0      0  \n",
       "\n",
       "[5 rows x 44 columns]"
      ]
     },
     "execution_count": 26,
     "metadata": {},
     "output_type": "execute_result"
    }
   ],
   "source": [
    "df_unique_training.head()"
   ]
  },
  {
   "cell_type": "code",
   "execution_count": 27,
   "metadata": {},
   "outputs": [],
   "source": [
    "text_features=['proto','state','service','is_sm_ips_ports','is_ftp_login']"
   ]
  },
  {
   "cell_type": "code",
   "execution_count": 28,
   "metadata": {},
   "outputs": [],
   "source": [
    "train_label = df_unique_training['label']\n",
    "test_label = df_unique_test['label']\n",
    "\n",
    "train_df = df_unique_training.iloc[:,df_unique_training.columns!='label']\n",
    "test_df = df_unique_test.iloc[:,df_unique_test.columns!='label']"
   ]
  },
  {
   "cell_type": "markdown",
   "metadata": {},
   "source": [
    "# one hot encoding"
   ]
  },
  {
   "cell_type": "code",
   "execution_count": 29,
   "metadata": {},
   "outputs": [],
   "source": [
    "#performed one hot encoding\n",
    "for name in text_features:\n",
    "    encode_text_dummy(df_unique_training,name)\n",
    "    encode_text_dummy(df_unique_test,name)"
   ]
  },
  {
   "cell_type": "code",
   "execution_count": 30,
   "metadata": {
    "scrolled": true
   },
   "outputs": [
    {
     "data": {
      "text/plain": [
       "Index(['id', 'dur', 'spkts', 'dpkts', 'sbytes', 'dbytes', 'rate', 'sttl',\n",
       "       'dttl', 'sload', 'dload', 'sloss', 'dloss', 'sinpkt', 'dinpkt', 'sjit',\n",
       "       'djit', 'swin', 'stcpb', 'dtcpb', 'dwin', 'tcprtt', 'synack', 'ackdat',\n",
       "       'smean', 'dmean', 'trans_depth', 'response_body_len', 'ct_srv_src',\n",
       "       'ct_state_ttl', 'ct_dst_ltm', 'ct_src_dport_ltm', 'ct_dst_sport_ltm',\n",
       "       'ct_dst_src_ltm', 'ct_ftp_cmd', 'ct_flw_http_mthd', 'ct_src_ltm',\n",
       "       'ct_srv_dst', 'label', 'proto_tcp', 'proto_udp', 'state_CON',\n",
       "       'state_FIN', 'state_INT', 'state_REQ', 'state_RST', 'service_dhcp',\n",
       "       'service_dns', 'service_ftp', 'service_ftp-data', 'service_http',\n",
       "       'service_irc', 'service_pop3', 'service_radius', 'service_smtp',\n",
       "       'service_snmp', 'service_ssh', 'service_ssl', 'is_sm_ips_ports_0',\n",
       "       'is_ftp_login_0', 'is_ftp_login_1', 'is_ftp_login_2', 'is_ftp_login_4'],\n",
       "      dtype='object')"
      ]
     },
     "execution_count": 30,
     "metadata": {},
     "output_type": "execute_result"
    }
   ],
   "source": [
    "df=df_unique_training.copy()\n",
    "df.columns"
   ]
  },
  {
   "cell_type": "code",
   "execution_count": 31,
   "metadata": {},
   "outputs": [],
   "source": [
    "numerical_features=['spkts','dpkts','sbytes','dbytes','rate','sttl','dttl','sload','dload','sloss','dloss','sinpkt','dinpkt','sjit','djit','swin','stcpb','dtcpb','dwin','smean','dmean','trans_depth','response_body_len','ct_srv_src','ct_state_ttl','ct_dst_ltm','ct_src_dport_ltm','ct_dst_sport_ltm','ct_dst_src_ltm','ct_ftp_cmd','ct_flw_http_mthd','ct_src_ltm','ct_srv_dst']"
   ]
  },
  {
   "cell_type": "markdown",
   "metadata": {},
   "source": [
    "# Zscore normalisation"
   ]
  },
  {
   "cell_type": "code",
   "execution_count": 32,
   "metadata": {},
   "outputs": [],
   "source": [
    "from scipy.stats import zscore\n",
    "for name in numerical_features:\n",
    "    df_unique_training[name]=zscore(df_unique_training[name])\n",
    "    df_unique_test[name]=zscore(df_unique_test[name])"
   ]
  },
  {
   "cell_type": "code",
   "execution_count": 33,
   "metadata": {},
   "outputs": [],
   "source": [
    "del df_unique_training['label']"
   ]
  },
  {
   "cell_type": "code",
   "execution_count": 34,
   "metadata": {},
   "outputs": [],
   "source": [
    "del df_unique_training['id']"
   ]
  },
  {
   "cell_type": "code",
   "execution_count": 35,
   "metadata": {},
   "outputs": [
    {
     "data": {
      "text/plain": [
       "Index(['id', 'dur', 'spkts', 'dpkts', 'sbytes', 'dbytes', 'rate', 'sttl',\n",
       "       'dttl', 'sload', 'dload', 'sloss', 'dloss', 'sinpkt', 'dinpkt', 'sjit',\n",
       "       'djit', 'swin', 'stcpb', 'dtcpb', 'dwin', 'tcprtt', 'synack', 'ackdat',\n",
       "       'smean', 'dmean', 'trans_depth', 'response_body_len', 'ct_srv_src',\n",
       "       'ct_state_ttl', 'ct_dst_ltm', 'ct_src_dport_ltm', 'ct_dst_sport_ltm',\n",
       "       'ct_dst_src_ltm', 'ct_ftp_cmd', 'ct_flw_http_mthd', 'ct_src_ltm',\n",
       "       'ct_srv_dst', 'label', 'proto_tcp', 'proto_udp', 'state_CON',\n",
       "       'state_FIN', 'state_INT', 'state_REQ', 'state_RST', 'service_dhcp',\n",
       "       'service_dns', 'service_ftp', 'service_ftp-data', 'service_http',\n",
       "       'service_irc', 'service_pop3', 'service_radius', 'service_smtp',\n",
       "       'service_snmp', 'service_ssh', 'service_ssl', 'is_sm_ips_ports_0',\n",
       "       'is_ftp_login_0', 'is_ftp_login_1', 'is_ftp_login_2', 'is_ftp_login_4'],\n",
       "      dtype='object')"
      ]
     },
     "execution_count": 35,
     "metadata": {},
     "output_type": "execute_result"
    }
   ],
   "source": [
    "df.columns"
   ]
  },
  {
   "cell_type": "markdown",
   "metadata": {},
   "source": [
    "# Feature Selection"
   ]
  },
  {
   "cell_type": "code",
   "execution_count": 36,
   "metadata": {},
   "outputs": [
    {
     "name": "stderr",
     "output_type": "stream",
     "text": [
      "E:\\Anaconda\\lib\\site-packages\\sklearn\\ensemble\\forest.py:245: FutureWarning: The default value of n_estimators will change from 10 in version 0.20 to 100 in 0.22.\n",
      "  \"10 in version 0.20 to 100 in 0.22.\", FutureWarning)\n"
     ]
    },
    {
     "name": "stdout",
     "output_type": "stream",
     "text": [
      "[9.76937799e-03 1.30703620e-03 1.48306973e-03 6.32445191e-03\n",
      " 4.08727371e-03 1.45607625e-02 1.35280663e-01 1.75531910e-01\n",
      " 5.13911674e-03 5.31453036e-02 1.57632791e-03 1.91260527e-03\n",
      " 3.26860625e-03 3.05853268e-03 2.91344513e-03 3.27732033e-03\n",
      " 5.33306737e-03 3.03855611e-03 2.89665578e-03 5.28157667e-03\n",
      " 3.72850846e-02 1.82630164e-02 3.37157979e-03 4.74731427e-03\n",
      " 4.19576207e-02 1.26097011e-03 1.63776032e-03 4.62473964e-02\n",
      " 1.55095136e-01 2.12235773e-03 1.28763289e-03 1.81896000e-03\n",
      " 5.99235204e-02 3.63511189e-04 1.43570224e-03 1.45575868e-02\n",
      " 1.55869838e-02 1.37544713e-02 1.15155123e-02 4.16407651e-02\n",
      " 1.88973952e-03 5.66329940e-02 2.00664196e-04 6.79112567e-05\n",
      " 2.16698155e-04 4.93014822e-03 2.74290366e-03 1.08506719e-02\n",
      " 2.02316864e-03 6.04589234e-07 1.22383659e-03 6.09400195e-05\n",
      " 1.05524401e-03 3.98869049e-06 4.14813852e-03 2.57742613e-06\n",
      " 0.00000000e+00 5.24112542e-04 3.57213483e-04 2.00573482e-06\n",
      " 7.89738078e-06]\n"
     ]
    },
    {
     "data": {
      "image/png": "[encoded data removed]",
      "text/plain": [
       "<Figure size 432x288 with 1 Axes>"
      ]
     },
     "metadata": {
      "needs_background": "light"
     },
     "output_type": "display_data"
    }
   ],
   "source": [
    "from sklearn.ensemble import ExtraTreesClassifier\n",
    "X = df_unique_training\n",
    "y = train_label\n",
    "tree_model = ExtraTreesClassifier()\n",
    "tree_model.fit(X,y)\n",
    "print(tree_model.feature_importances_)\n",
    "feat_importances = pd.Series(tree_model.feature_importances_, index=X.columns)\n",
    "feat_importances.nlargest(20).plot(kind='barh', title='Top 20 Features')\n",
    "cols_to_keep = feat_importances.nlargest(15).index.to_list()"
   ]
  },
  {
   "cell_type": "code",
   "execution_count": 37,
   "metadata": {},
   "outputs": [],
   "source": [
    "df_unique_training = df_unique_training[cols_to_keep]\n",
    "df_unique_training.columns\n",
    "\n",
    "df_unique_test = df_unique_test[cols_to_keep]"
   ]
  },
  {
   "cell_type": "code",
   "execution_count": 38,
   "metadata": {},
   "outputs": [
    {
     "data": {
      "text/plain": [
       "array([[ 1.55459667, -0.34049134, -1.04253342, ..., -0.62412729,\n",
       "        -0.85560881,  1.        ],\n",
       "       [ 1.55459667, -0.34049134, -1.04253342, ..., -0.62395935,\n",
       "        -0.95581012,  1.        ],\n",
       "       [-0.71758686,  0.85155143,  0.82265124, ...,  2.28706345,\n",
       "        -0.85560881,  0.        ],\n",
       "       ...,\n",
       "       [-0.71758686,  0.85155143,  0.82265124, ...,  0.02274202,\n",
       "        -0.7554075 ,  0.        ],\n",
       "       [-0.71758686,  0.85155143,  0.82265124, ...,  0.02274202,\n",
       "         1.95002789,  0.        ],\n",
       "       [-0.71758686,  0.85155143,  0.82265124, ...,  0.02274202,\n",
       "         1.95002789,  0.        ]])"
      ]
     },
     "execution_count": 38,
     "metadata": {},
     "output_type": "execute_result"
    }
   ],
   "source": [
    "x_train = df_unique_training.values.astype(np.float)\n",
    "y_train = train_label.values.astype(np.float)\n",
    "\n",
    "x_test = df_unique_test.values.astype(np.float)\n",
    "y_test = test_label.values.astype(np.float)\n",
    "\n",
    "x_train"
   ]
  },
  {
   "cell_type": "code",
   "execution_count": 39,
   "metadata": {},
   "outputs": [
    {
     "data": {
      "text/plain": [
       "(35179, 15)"
      ]
     },
     "execution_count": 39,
     "metadata": {},
     "output_type": "execute_result"
    }
   ],
   "source": [
    "x_test.shape"
   ]
  },
  {
   "cell_type": "code",
   "execution_count": 40,
   "metadata": {},
   "outputs": [
    {
     "data": {
      "text/plain": [
       "(81173,)"
      ]
     },
     "execution_count": 40,
     "metadata": {},
     "output_type": "execute_result"
    }
   ],
   "source": [
    "y_train.shape"
   ]
  },
  {
   "cell_type": "code",
   "execution_count": 41,
   "metadata": {},
   "outputs": [
    {
     "data": {
      "text/plain": [
       "(35179,)"
      ]
     },
     "execution_count": 41,
     "metadata": {},
     "output_type": "execute_result"
    }
   ],
   "source": [
    "y_test.shape"
   ]
  },
  {
   "cell_type": "code",
   "execution_count": 42,
   "metadata": {},
   "outputs": [],
   "source": [
    "scores = []\n",
    "def addScores(name, acc, prec, rec, f1score):\n",
    "    scores.append({\"Name\": name,\n",
    "                   \"Accuracy\": acc,\n",
    "                  \"Precision\": prec,\n",
    "                  \"Recall\": rec,\n",
    "                  \"F1-Score\": f1score})"
   ]
  },
  {
   "cell_type": "markdown",
   "metadata": {},
   "source": [
    "# Logistic Regression"
   ]
  },
  {
   "cell_type": "code",
   "execution_count": 43,
   "metadata": {},
   "outputs": [
    {
     "name": "stderr",
     "output_type": "stream",
     "text": [
      "E:\\Anaconda\\lib\\site-packages\\sklearn\\linear_model\\logistic.py:432: FutureWarning: Default solver will be changed to 'lbfgs' in 0.22. Specify a solver to silence this warning.\n",
      "  FutureWarning)\n"
     ]
    },
    {
     "data": {
      "text/plain": [
       "LogisticRegression(C=1.0, class_weight=None, dual=False, fit_intercept=True,\n",
       "                   intercept_scaling=1, l1_ratio=None, max_iter=100,\n",
       "                   multi_class='warn', n_jobs=None, penalty='l2',\n",
       "                   random_state=None, solver='warn', tol=0.0001, verbose=0,\n",
       "                   warm_start=False)"
      ]
     },
     "execution_count": 43,
     "metadata": {},
     "output_type": "execute_result"
    }
   ],
   "source": [
    "#logistic Regression\n",
    "\n",
    "# import the class\n",
    "from sklearn.linear_model import LogisticRegression\n",
    "\n",
    "clf_lr = LogisticRegression()\n",
    "clf_lr.fit(x_train, y_train)"
   ]
  },
  {
   "cell_type": "code",
   "execution_count": 44,
   "metadata": {},
   "outputs": [
    {
     "name": "stdout",
     "output_type": "stream",
     "text": [
      "test :  [0. 0. 0. 0. 0. 0. 0. 0. 0. 0.]\n",
      "pred :  [1. 1. 1. 1. 1. 1. 1. 1. 1. 0.]\n",
      "Accuracy of logistic regression classifier on test set: 0.93\n",
      "\n",
      "[[ 7142  2483]\n",
      " [  155 25399]]\n",
      "\n"
     ]
    },
    {
     "data": {
      "image/png": "[encoded data removed]",
      "text/plain": [
       "<Figure size 432x288 with 2 Axes>"
      ]
     },
     "metadata": {
      "needs_background": "light"
     },
     "output_type": "display_data"
    },
    {
     "name": "stdout",
     "output_type": "stream",
     "text": [
      "\n",
      "              precision    recall  f1-score   support\n",
      "\n",
      "         0.0       0.98      0.74      0.84      9625\n",
      "         1.0       0.91      0.99      0.95     25554\n",
      "\n",
      "    accuracy                           0.93     35179\n",
      "   macro avg       0.94      0.87      0.90     35179\n",
      "weighted avg       0.93      0.93      0.92     35179\n",
      "\n"
     ]
    }
   ],
   "source": [
    "from sklearn import metrics\n",
    "from sklearn.metrics import confusion_matrix\n",
    "from sklearn.metrics import classification_report\n",
    "y_pred_lr = clf_lr.predict(x_test)\n",
    "\n",
    "print(\"test : \", y_test[:10])\n",
    "print(\"pred : \", y_pred_lr[:10])\n",
    "print('Accuracy of logistic regression classifier on test set: {:.2f}'.format(clf_lr.score(x_test, y_test))) \n",
    "print()\n",
    "\n",
    "cm= confusion_matrix(y_test, y_pred_lr)\n",
    "print(cm)\n",
    "\n",
    "print()\n",
    "\n",
    "ax = sns.heatmap(cm, cmap=\"Pastel1\", yticklabels=True)\n",
    "ax.set_title('Confusion matrix')\n",
    "ax.set_ylabel('True label')\n",
    "ax.set_xlabel('Predicted label')\n",
    "plt.show()\n",
    "\n",
    "print()\n",
    "\n",
    "print(classification_report(y_test, y_pred_lr))"
   ]
  },
  {
   "cell_type": "code",
   "execution_count": 45,
   "metadata": {},
   "outputs": [
    {
     "data": {
      "image/png": "[encoded data removed]",
      "text/plain": [
       "<Figure size 432x288 with 1 Axes>"
      ]
     },
     "metadata": {
      "needs_background": "light"
     },
     "output_type": "display_data"
    }
   ],
   "source": [
    "from sklearn.metrics import roc_auc_score\n",
    "from sklearn.metrics import roc_curve\n",
    "logit_roc_auc = roc_auc_score(y_test, clf_lr.predict(x_test))\n",
    "fpr, tpr, thresholds = roc_curve(y_test, clf_lr.predict_proba(x_test)[:,1])\n",
    "plt.figure()\n",
    "plt.plot(fpr, tpr, label='Logistic Regression (area = %0.2f)' % logit_roc_auc)\n",
    "plt.plot([0, 1], [0, 1],'r--')\n",
    "plt.xlim([0.0, 1.0])\n",
    "plt.ylim([0.0, 1.05])\n",
    "plt.xlabel('False Positive Rate')\n",
    "plt.ylabel('True Positive Rate')\n",
    "plt.title('Receiver operating characteristic')\n",
    "plt.legend(loc=\"lower right\")\n",
    "plt.savefig('Log_ROC')\n",
    "plt.show()"
   ]
  },
  {
   "cell_type": "code",
   "execution_count": 46,
   "metadata": {},
   "outputs": [],
   "source": [
    "x_kNN=x_train[0:50000]\n",
    "y_kNN=y_train[0:50000]"
   ]
  },
  {
   "cell_type": "markdown",
   "metadata": {},
   "source": [
    "# KNN classifier"
   ]
  },
  {
   "cell_type": "code",
   "execution_count": 47,
   "metadata": {},
   "outputs": [],
   "source": [
    "#knn classfrom sklearn.neighbors import KNeighborsClassifierifier\n",
    "from sklearn.neighbors import KNeighborsClassifier\n",
    "knn = KNeighborsClassifier(n_neighbors=1)\n",
    "knn.fit(x_train, y_train)\n",
    "y_pred_knn = knn.predict(x_test)"
   ]
  },
  {
   "cell_type": "code",
   "execution_count": 48,
   "metadata": {},
   "outputs": [
    {
     "name": "stdout",
     "output_type": "stream",
     "text": [
      "Accuracy of nearest neighbor classifier on test set: 0.93\n",
      "\n",
      "Confusion Matrix is :\n",
      " [[ 7877  1748]\n",
      " [  872 24682]]\n"
     ]
    },
    {
     "data": {
      "image/png": "[encoded data removed]",
      "text/plain": [
       "<Figure size 432x288 with 2 Axes>"
      ]
     },
     "metadata": {
      "needs_background": "light"
     },
     "output_type": "display_data"
    },
    {
     "name": "stdout",
     "output_type": "stream",
     "text": [
      "Classification Report is:\n",
      "               precision    recall  f1-score   support\n",
      "\n",
      "         0.0       0.90      0.82      0.86      9625\n",
      "         1.0       0.93      0.97      0.95     25554\n",
      "\n",
      "    accuracy                           0.93     35179\n",
      "   macro avg       0.92      0.89      0.90     35179\n",
      "weighted avg       0.92      0.93      0.92     35179\n",
      "\n"
     ]
    }
   ],
   "source": [
    "from sklearn.metrics import confusion_matrix\n",
    "from sklearn.metrics import classification_report\n",
    "import matplotlib.pyplot as plt\n",
    "\n",
    "\n",
    "print('Accuracy of nearest neighbor classifier on test set: {:.2f}'.format(knn.score(x_test, y_test)))\n",
    "\n",
    "cm = confusion_matrix(y_test, y_pred_knn)\n",
    "print('\\nConfusion Matrix is :\\n',cm)\n",
    "\n",
    "ax = sns.heatmap(cm, cmap=\"Pastel1\", yticklabels=True)\n",
    "ax.set_title('Confusion matrix')\n",
    "ax.set_ylabel('True label')\n",
    "ax.set_xlabel('Predicted label')\n",
    "plt.show()\n",
    "\n",
    "\n",
    "print(\"Classification Report is:\\n\",classification_report(y_test, y_pred_knn))"
   ]
  },
  {
   "cell_type": "code",
   "execution_count": 49,
   "metadata": {},
   "outputs": [
    {
     "data": {
      "image/png": "[encoded data removed]",
      "text/plain": [
       "<Figure size 432x288 with 1 Axes>"
      ]
     },
     "metadata": {
      "needs_background": "light"
     },
     "output_type": "display_data"
    }
   ],
   "source": [
    "from sklearn.metrics import roc_auc_score\n",
    "from sklearn.metrics import roc_curve\n",
    "knn_roc_auc = roc_auc_score(y_test, knn.predict(x_test))\n",
    "fpr, tpr, thresholds = roc_curve(y_test, knn.predict_proba(x_test)[:,1])\n",
    "plt.figure()\n",
    "plt.plot(fpr, tpr, label='KNN Classifier (area = %0.2f)' % knn_roc_auc)\n",
    "plt.plot([0, 1], [0, 1],'r--')\n",
    "plt.xlim([0.0, 1.0])\n",
    "plt.ylim([0.0, 1.05])\n",
    "plt.xlabel('False Positive Rate')\n",
    "plt.ylabel('True Positive Rate')\n",
    "plt.title('Receiver operating characteristic')\n",
    "plt.legend(loc=\"lower right\")\n",
    "plt.savefig('KNN_ROC')\n",
    "plt.show()"
   ]
  },
  {
   "cell_type": "markdown",
   "metadata": {},
   "source": [
    "# Support Vector Machine"
   ]
  },
  {
   "cell_type": "code",
   "execution_count": 50,
   "metadata": {},
   "outputs": [
    {
     "name": "stderr",
     "output_type": "stream",
     "text": [
      "E:\\Anaconda\\lib\\site-packages\\sklearn\\svm\\base.py:193: FutureWarning: The default value of gamma will change from 'auto' to 'scale' in version 0.22 to account better for unscaled features. Set gamma explicitly to 'auto' or 'scale' to avoid this warning.\n",
      "  \"avoid this warning.\", FutureWarning)\n"
     ]
    }
   ],
   "source": [
    "from sklearn.svm import SVC\n",
    "\n",
    "clf = SVC(probability=True)\n",
    "clf.fit(x_train,y_train)\n",
    "y_pred_svm=clf.predict(x_test)"
   ]
  },
  {
   "cell_type": "code",
   "execution_count": 51,
   "metadata": {},
   "outputs": [
    {
     "name": "stdout",
     "output_type": "stream",
     "text": [
      "Accuracy of SVM on test set: 0.92\n",
      "Confusion Matrix is :\n",
      " [[ 6828  2797]\n",
      " [    4 25550]]\n"
     ]
    },
    {
     "data": {
      "image/png": "[encoded data removed]",
      "text/plain": [
       "<Figure size 432x288 with 2 Axes>"
      ]
     },
     "metadata": {
      "needs_background": "light"
     },
     "output_type": "display_data"
    },
    {
     "name": "stdout",
     "output_type": "stream",
     "text": [
      "Classification Report is:\n",
      "               precision    recall  f1-score   support\n",
      "\n",
      "         0.0       1.00      0.71      0.83      9625\n",
      "         1.0       0.90      1.00      0.95     25554\n",
      "\n",
      "    accuracy                           0.92     35179\n",
      "   macro avg       0.95      0.85      0.89     35179\n",
      "weighted avg       0.93      0.92      0.92     35179\n",
      "\n"
     ]
    }
   ],
   "source": [
    "from sklearn.metrics import confusion_matrix\n",
    "from sklearn.metrics import classification_report\n",
    "import matplotlib.pyplot as plt\n",
    "\n",
    "\n",
    "print('Accuracy of SVM on test set: {:.2f}'.format(clf.score(x_test, y_test)))\n",
    "\n",
    "cm = confusion_matrix(y_test, y_pred_svm)\n",
    "print('Confusion Matrix is :\\n',cm)\n",
    "\n",
    "ax = sns.heatmap(cm, cmap=\"Pastel1\", yticklabels=True)\n",
    "ax.set_title('Confusion matrix')\n",
    "ax.set_ylabel('True label')\n",
    "ax.set_xlabel('Predicted label')\n",
    "plt.show()\n",
    "\n",
    "print(\"Classification Report is:\\n\",classification_report(y_test, y_pred_svm))"
   ]
  },
  {
   "cell_type": "code",
   "execution_count": 52,
   "metadata": {},
   "outputs": [
    {
     "data": {
      "image/png": "[encoded data removed]",
      "text/plain": [
       "<Figure size 432x288 with 1 Axes>"
      ]
     },
     "metadata": {
      "needs_background": "light"
     },
     "output_type": "display_data"
    }
   ],
   "source": [
    "from sklearn.metrics import roc_auc_score\n",
    "from sklearn.metrics import roc_curve\n",
    "svm_roc_auc = roc_auc_score(y_test, clf.predict(x_test))\n",
    "fpr, tpr, thresholds = roc_curve(y_test, clf.predict_proba(x_test)[:,1])\n",
    "plt.figure()\n",
    "plt.plot(fpr, tpr, label='SVM Classifier (area = %0.2f)' % svm_roc_auc)\n",
    "plt.plot([0, 1], [0, 1],'r--')\n",
    "plt.xlim([0.0, 1.0])\n",
    "plt.ylim([0.0, 1.05])\n",
    "plt.xlabel('False Positive Rate')\n",
    "plt.ylabel('True Positive Rate')\n",
    "plt.title('Receiver operating characteristic')\n",
    "plt.legend(loc=\"lower right\")\n",
    "plt.savefig('SVM_ROC')\n",
    "plt.show()"
   ]
  },
  {
   "cell_type": "markdown",
   "metadata": {},
   "source": [
    "# Neural Network "
   ]
  },
  {
   "cell_type": "markdown",
   "metadata": {},
   "source": [
    "# Activation = relu and optimizer = adam"
   ]
  },
  {
   "cell_type": "code",
   "execution_count": 53,
   "metadata": {},
   "outputs": [
    {
     "name": "stdout",
     "output_type": "stream",
     "text": [
      "Train on 60879 samples, validate on 20294 samples\n",
      "Epoch 1/200\n",
      "\n",
      "Epoch 00001: val_loss improved from inf to 0.00705, saving model to .weights.hdf5\n",
      "60879/60879 - 10s - loss: 0.0902 - accuracy: 0.9685 - val_loss: 0.0070 - val_accuracy: 0.9999\n",
      "Epoch 2/200\n",
      "\n",
      "Epoch 00002: val_loss improved from 0.00705 to 0.00508, saving model to .weights.hdf5\n",
      "60879/60879 - 8s - loss: 0.0683 - accuracy: 0.9735 - val_loss: 0.0051 - val_accuracy: 0.9992\n",
      "Epoch 3/200\n",
      "\n",
      "Epoch 00003: val_loss did not improve from 0.00508\n",
      "60879/60879 - 8s - loss: 0.0647 - accuracy: 0.9746 - val_loss: 0.0088 - val_accuracy: 0.9956\n",
      "Epoch 4/200\n",
      "\n",
      "Epoch 00004: val_loss did not improve from 0.00508\n",
      "60879/60879 - 8s - loss: 0.0628 - accuracy: 0.9750 - val_loss: 0.0069 - val_accuracy: 0.9975\n",
      "Epoch 5/200\n",
      "\n",
      "Epoch 00005: val_loss improved from 0.00508 to 0.00233, saving model to .weights.hdf5\n",
      "60879/60879 - 9s - loss: 0.0615 - accuracy: 0.9749 - val_loss: 0.0023 - val_accuracy: 1.0000\n",
      "Epoch 6/200\n",
      "\n",
      "Epoch 00006: val_loss did not improve from 0.00233\n",
      "60879/60879 - 8s - loss: 0.0607 - accuracy: 0.9749 - val_loss: 0.0078 - val_accuracy: 0.9961\n",
      "Epoch 7/200\n",
      "\n",
      "Epoch 00007: val_loss did not improve from 0.00233\n",
      "60879/60879 - 9s - loss: 0.0604 - accuracy: 0.9758 - val_loss: 0.0063 - val_accuracy: 0.9975\n",
      "Epoch 8/200\n",
      "\n",
      "Epoch 00008: val_loss did not improve from 0.00233\n",
      "60879/60879 - 9s - loss: 0.0593 - accuracy: 0.9757 - val_loss: 0.0074 - val_accuracy: 0.9963\n",
      "Epoch 9/200\n",
      "\n",
      "Epoch 00009: val_loss did not improve from 0.00233\n",
      "60879/60879 - 8s - loss: 0.0588 - accuracy: 0.9756 - val_loss: 0.0054 - val_accuracy: 0.9978\n",
      "Epoch 10/200\n",
      "\n",
      "Epoch 00010: val_loss did not improve from 0.00233\n",
      "60879/60879 - 8s - loss: 0.0586 - accuracy: 0.9761 - val_loss: 0.0046 - val_accuracy: 0.9978\n",
      "Epoch 11/200\n",
      "\n",
      "Epoch 00011: val_loss did not improve from 0.00233\n",
      "60879/60879 - 8s - loss: 0.0583 - accuracy: 0.9761 - val_loss: 0.0053 - val_accuracy: 0.9977\n",
      "Epoch 12/200\n",
      "\n",
      "Epoch 00012: val_loss did not improve from 0.00233\n",
      "60879/60879 - 8s - loss: 0.0578 - accuracy: 0.9758 - val_loss: 0.0061 - val_accuracy: 0.9970\n",
      "Epoch 13/200\n",
      "\n",
      "Epoch 00013: val_loss did not improve from 0.00233\n",
      "60879/60879 - 8s - loss: 0.0576 - accuracy: 0.9762 - val_loss: 0.0088 - val_accuracy: 0.9969\n",
      "Epoch 14/200\n",
      "\n",
      "Epoch 00014: val_loss did not improve from 0.00233\n",
      "60879/60879 - 8s - loss: 0.0571 - accuracy: 0.9765 - val_loss: 0.0087 - val_accuracy: 0.9961\n",
      "Epoch 15/200\n",
      "\n",
      "Epoch 00015: val_loss did not improve from 0.00233\n",
      "60879/60879 - 8s - loss: 0.0571 - accuracy: 0.9761 - val_loss: 0.0087 - val_accuracy: 0.9954\n",
      "Epoch 16/200\n",
      "\n",
      "Epoch 00016: val_loss did not improve from 0.00233\n",
      "60879/60879 - 8s - loss: 0.0568 - accuracy: 0.9762 - val_loss: 0.0065 - val_accuracy: 0.9963\n",
      "Epoch 17/200\n",
      "\n",
      "Epoch 00017: val_loss did not improve from 0.00233\n",
      "60879/60879 - 8s - loss: 0.0568 - accuracy: 0.9763 - val_loss: 0.0038 - val_accuracy: 0.9987\n",
      "Epoch 18/200\n",
      "\n",
      "Epoch 00018: val_loss did not improve from 0.00233\n",
      "60879/60879 - 8s - loss: 0.0565 - accuracy: 0.9764 - val_loss: 0.0061 - val_accuracy: 0.9969\n",
      "Epoch 19/200\n",
      "\n",
      "Epoch 00019: val_loss did not improve from 0.00233\n",
      "60879/60879 - 8s - loss: 0.0556 - accuracy: 0.9763 - val_loss: 0.0072 - val_accuracy: 0.9954\n",
      "Epoch 20/200\n",
      "\n",
      "Epoch 00020: val_loss did not improve from 0.00233\n",
      "60879/60879 - 8s - loss: 0.0564 - accuracy: 0.9767 - val_loss: 0.0070 - val_accuracy: 0.9967\n",
      "Epoch 21/200\n",
      "\n",
      "Epoch 00021: val_loss did not improve from 0.00233\n",
      "60879/60879 - 8s - loss: 0.0562 - accuracy: 0.9765 - val_loss: 0.0068 - val_accuracy: 0.9958\n",
      "Epoch 22/200\n",
      "\n",
      "Epoch 00022: val_loss did not improve from 0.00233\n",
      "60879/60879 - 8s - loss: 0.0556 - accuracy: 0.9763 - val_loss: 0.0068 - val_accuracy: 0.9966\n",
      "Epoch 23/200\n",
      "\n",
      "Epoch 00023: val_loss did not improve from 0.00233\n",
      "60879/60879 - 8s - loss: 0.0555 - accuracy: 0.9765 - val_loss: 0.0072 - val_accuracy: 0.9956\n",
      "Epoch 24/200\n",
      "\n",
      "Epoch 00024: val_loss did not improve from 0.00233\n",
      "60879/60879 - 8s - loss: 0.0555 - accuracy: 0.9767 - val_loss: 0.0077 - val_accuracy: 0.9953\n",
      "Epoch 25/200\n",
      "\n",
      "Epoch 00025: val_loss did not improve from 0.00233\n",
      "60879/60879 - 8s - loss: 0.0553 - accuracy: 0.9767 - val_loss: 0.0059 - val_accuracy: 0.9966\n",
      "Epoch 00025: early stopping\n"
     ]
    },
    {
     "data": {
      "text/plain": [
       "<tensorflow.python.keras.callbacks.History at 0x1b0b64dcc88>"
      ]
     },
     "execution_count": 53,
     "metadata": {},
     "output_type": "execute_result"
    }
   ],
   "source": [
    "from tensorflow.keras.models import Sequential\n",
    "from tensorflow.keras.layers import Dense, Activation\n",
    "from tensorflow.keras.callbacks import EarlyStopping, ModelCheckpoint\n",
    "model = Sequential()\n",
    "model.add(Dense(60, input_dim=x_train.shape[1], activation='relu'))\n",
    "model.add(Dense(35, activation='relu'))\n",
    "model.add(Dense(1, activation='sigmoid'))\n",
    "\n",
    "model.compile(loss='binary_crossentropy', optimizer='adam', metrics=['accuracy'])\n",
    "\n",
    "monitor = EarlyStopping(monitor='val_loss', min_delta=1e-3, patience=20, \n",
    "                        verbose=2, mode='min')\n",
    "\n",
    "chckpt = ModelCheckpoint(filepath='.weights.hdf5', verbose=1, save_best_only=True)\n",
    "\n",
    "model.fit(x_train,y_train,verbose=2,epochs=200, batch_size=20, \n",
    "          callbacks=[monitor, chckpt], validation_split=0.25)"
   ]
  },
  {
   "cell_type": "code",
   "execution_count": 54,
   "metadata": {},
   "outputs": [
    {
     "name": "stdout",
     "output_type": "stream",
     "text": [
      "Model: \"sequential\"\n",
      "_________________________________________________________________\n",
      "Layer (type)                 Output Shape              Param #   \n",
      "=================================================================\n",
      "dense (Dense)                (None, 60)                960       \n",
      "_________________________________________________________________\n",
      "dense_1 (Dense)              (None, 35)                2135      \n",
      "_________________________________________________________________\n",
      "dense_2 (Dense)              (None, 1)                 36        \n",
      "=================================================================\n",
      "Total params: 3,131\n",
      "Trainable params: 3,131\n",
      "Non-trainable params: 0\n",
      "_________________________________________________________________\n"
     ]
    }
   ],
   "source": [
    "model.summary()"
   ]
  },
  {
   "cell_type": "code",
   "execution_count": 55,
   "metadata": {},
   "outputs": [
    {
     "data": {
      "text/plain": [
       "array([[0.47146335],\n",
       "       [0.47452492],\n",
       "       [0.75138783],\n",
       "       ...,\n",
       "       [0.5239845 ],\n",
       "       [0.53092796],\n",
       "       [0.52127475]], dtype=float32)"
      ]
     },
     "execution_count": 55,
     "metadata": {},
     "output_type": "execute_result"
    }
   ],
   "source": [
    "y_pred = model.predict(x_test)\n",
    "y_pred"
   ]
  },
  {
   "cell_type": "code",
   "execution_count": 56,
   "metadata": {},
   "outputs": [
    {
     "data": {
      "text/plain": [
       "[0, 0, 1, 0, 1, 1, 0, 1, 1, 1]"
      ]
     },
     "execution_count": 56,
     "metadata": {},
     "output_type": "execute_result"
    }
   ],
   "source": [
    "#from the y_pred, we will only be considering the one's greater than 0.5\n",
    "argmax = []\n",
    "for val in y_pred:\n",
    "    if val >= 0.5:\n",
    "      argmax.append(1)\n",
    "    else:\n",
    "        argmax.append(0)\n",
    "argmax[:10]"
   ]
  },
  {
   "cell_type": "code",
   "execution_count": 57,
   "metadata": {},
   "outputs": [
    {
     "data": {
      "text/plain": [
       "array([[ 7300,  2325],\n",
       "       [  130, 25424]], dtype=int64)"
      ]
     },
     "execution_count": 57,
     "metadata": {},
     "output_type": "execute_result"
    }
   ],
   "source": [
    "conf_mat = confusion_matrix(y_true=y_test, y_pred=argmax)\n",
    "conf_mat"
   ]
  },
  {
   "cell_type": "code",
   "execution_count": 58,
   "metadata": {},
   "outputs": [
    {
     "data": {
      "text/plain": [
       "(<Figure size 432x288 with 1 Axes>,\n",
       " <matplotlib.axes._subplots.AxesSubplot at 0x1b0b50873c8>)"
      ]
     },
     "execution_count": 58,
     "metadata": {},
     "output_type": "execute_result"
    },
    {
     "data": {
      "image/png": "[encoded data removed]",
      "text/plain": [
       "<Figure size 432x288 with 1 Axes>"
      ]
     },
     "metadata": {
      "needs_background": "light"
     },
     "output_type": "display_data"
    }
   ],
   "source": [
    "from mlxtend.plotting import plot_confusion_matrix, plot_decision_regions\n",
    "#from sklearn.metrics import plot_confusion_matrix\n",
    "plot_confusion_matrix(conf_mat=conf_mat)"
   ]
  },
  {
   "cell_type": "code",
   "execution_count": 59,
   "metadata": {},
   "outputs": [
    {
     "data": {
      "text/plain": [
       "0.9302140481537281"
      ]
     },
     "execution_count": 59,
     "metadata": {},
     "output_type": "execute_result"
    }
   ],
   "source": [
    "from sklearn.metrics import accuracy_score, confusion_matrix, classification_report, roc_curve, roc_auc_score, precision_score, f1_score, recall_score\n",
    "acc = accuracy_score(y_true=y_test, y_pred=argmax)\n",
    "acc"
   ]
  },
  {
   "cell_type": "code",
   "execution_count": 60,
   "metadata": {},
   "outputs": [
    {
     "name": "stdout",
     "output_type": "stream",
     "text": [
      "              precision    recall  f1-score   support\n",
      "\n",
      "         0.0       0.98      0.76      0.86      9625\n",
      "         1.0       0.92      0.99      0.95     25554\n",
      "\n",
      "    accuracy                           0.93     35179\n",
      "   macro avg       0.95      0.88      0.90     35179\n",
      "weighted avg       0.93      0.93      0.93     35179\n",
      "\n"
     ]
    }
   ],
   "source": [
    "print(classification_report(y_true=y_test, y_pred=argmax))"
   ]
  },
  {
   "cell_type": "code",
   "execution_count": 61,
   "metadata": {},
   "outputs": [
    {
     "data": {
      "text/plain": [
       "array([0.        , 0.99491273, 1.        ])"
      ]
     },
     "execution_count": 61,
     "metadata": {},
     "output_type": "execute_result"
    }
   ],
   "source": [
    "fpr, tpr, _ = roc_curve(y_test, argmax)\n",
    "tpr"
   ]
  },
  {
   "cell_type": "code",
   "execution_count": 62,
   "metadata": {},
   "outputs": [],
   "source": [
    "auc = roc_auc_score(y_test, argmax)"
   ]
  },
  {
   "cell_type": "code",
   "execution_count": 63,
   "metadata": {},
   "outputs": [
    {
     "data": {
      "image/png": "[encoded data removed]",
      "text/plain": [
       "<Figure size 432x288 with 1 Axes>"
      ]
     },
     "metadata": {
      "needs_background": "light"
     },
     "output_type": "display_data"
    }
   ],
   "source": [
    "def plot_roc(fpr, tpr, label):\n",
    "    plt.plot(fpr, tpr, label=label)\n",
    "    plt.xlabel(\"false positive rate\")\n",
    "    plt.ylabel(\"true positive rate\")\n",
    "    plt.title(\"ROC curve\")\n",
    "    plt.legend(loc=4)\n",
    "plot_roc(fpr, tpr, \"Neural Network model 1, auc= %.4f \" % auc)"
   ]
  },
  {
   "cell_type": "markdown",
   "metadata": {},
   "source": [
    "# Activation = relu and optimizer = sgd"
   ]
  },
  {
   "cell_type": "code",
   "execution_count": 64,
   "metadata": {},
   "outputs": [
    {
     "name": "stdout",
     "output_type": "stream",
     "text": [
      "Train on 60879 samples, validate on 20294 samples\n",
      "Epoch 1/200\n",
      "\n",
      "Epoch 00001: val_loss improved from inf to 0.00983, saving model to .weights.hdf5\n",
      "60879/60879 - 10s - loss: 0.1235 - accuracy: 0.9666 - val_loss: 0.0098 - val_accuracy: 0.9999\n",
      "Epoch 2/200\n",
      "\n",
      "Epoch 00002: val_loss improved from 0.00983 to 0.00661, saving model to .weights.hdf5\n",
      "60879/60879 - 8s - loss: 0.0902 - accuracy: 0.9708 - val_loss: 0.0066 - val_accuracy: 1.0000\n",
      "Epoch 3/200\n",
      "\n",
      "Epoch 00003: val_loss did not improve from 0.00661\n",
      "60879/60879 - 8s - loss: 0.0858 - accuracy: 0.9711 - val_loss: 0.0078 - val_accuracy: 0.9999\n",
      "Epoch 4/200\n",
      "\n",
      "Epoch 00004: val_loss did not improve from 0.00661\n",
      "60879/60879 - 7s - loss: 0.0825 - accuracy: 0.9713 - val_loss: 0.0087 - val_accuracy: 1.0000\n",
      "Epoch 5/200\n",
      "\n",
      "Epoch 00005: val_loss did not improve from 0.00661\n",
      "60879/60879 - 8s - loss: 0.0801 - accuracy: 0.9717 - val_loss: 0.0086 - val_accuracy: 0.9997\n",
      "Epoch 6/200\n",
      "\n",
      "Epoch 00006: val_loss improved from 0.00661 to 0.00608, saving model to .weights.hdf5\n",
      "60879/60879 - 8s - loss: 0.0779 - accuracy: 0.9721 - val_loss: 0.0061 - val_accuracy: 0.9999\n",
      "Epoch 7/200\n",
      "\n",
      "Epoch 00007: val_loss did not improve from 0.00608\n",
      "60879/60879 - 8s - loss: 0.0764 - accuracy: 0.9723 - val_loss: 0.0073 - val_accuracy: 0.9996\n",
      "Epoch 8/200\n",
      "\n",
      "Epoch 00008: val_loss improved from 0.00608 to 0.00587, saving model to .weights.hdf5\n",
      "60879/60879 - 8s - loss: 0.0750 - accuracy: 0.9729 - val_loss: 0.0059 - val_accuracy: 0.9996\n",
      "Epoch 9/200\n",
      "\n",
      "Epoch 00009: val_loss did not improve from 0.00587\n",
      "60879/60879 - 8s - loss: 0.0735 - accuracy: 0.9730 - val_loss: 0.0105 - val_accuracy: 0.9981\n",
      "Epoch 10/200\n",
      "\n",
      "Epoch 00010: val_loss did not improve from 0.00587\n",
      "60879/60879 - 8s - loss: 0.0727 - accuracy: 0.9730 - val_loss: 0.0074 - val_accuracy: 0.9986\n",
      "Epoch 11/200\n",
      "\n",
      "Epoch 00011: val_loss did not improve from 0.00587\n",
      "60879/60879 - 8s - loss: 0.0718 - accuracy: 0.9731 - val_loss: 0.0061 - val_accuracy: 0.9996\n",
      "Epoch 12/200\n",
      "\n",
      "Epoch 00012: val_loss did not improve from 0.00587\n",
      "60879/60879 - 8s - loss: 0.0710 - accuracy: 0.9732 - val_loss: 0.0064 - val_accuracy: 0.9986\n",
      "Epoch 13/200\n",
      "\n",
      "Epoch 00013: val_loss did not improve from 0.00587\n",
      "60879/60879 - 8s - loss: 0.0703 - accuracy: 0.9734 - val_loss: 0.0107 - val_accuracy: 0.9973\n",
      "Epoch 14/200\n",
      "\n",
      "Epoch 00014: val_loss did not improve from 0.00587\n",
      "60879/60879 - 8s - loss: 0.0695 - accuracy: 0.9738 - val_loss: 0.0077 - val_accuracy: 0.9986\n",
      "Epoch 15/200\n",
      "\n",
      "Epoch 00015: val_loss did not improve from 0.00587\n",
      "60879/60879 - 8s - loss: 0.0690 - accuracy: 0.9736 - val_loss: 0.0060 - val_accuracy: 0.9995\n",
      "Epoch 16/200\n",
      "\n",
      "Epoch 00016: val_loss did not improve from 0.00587\n",
      "60879/60879 - 8s - loss: 0.0683 - accuracy: 0.9736 - val_loss: 0.0066 - val_accuracy: 0.9985\n",
      "Epoch 17/200\n",
      "\n",
      "Epoch 00017: val_loss did not improve from 0.00587\n",
      "60879/60879 - 8s - loss: 0.0678 - accuracy: 0.9742 - val_loss: 0.0072 - val_accuracy: 0.9984\n",
      "Epoch 18/200\n",
      "\n",
      "Epoch 00018: val_loss did not improve from 0.00587\n",
      "60879/60879 - 8s - loss: 0.0672 - accuracy: 0.9743 - val_loss: 0.0077 - val_accuracy: 0.9978\n",
      "Epoch 19/200\n",
      "\n",
      "Epoch 00019: val_loss improved from 0.00587 to 0.00458, saving model to .weights.hdf5\n",
      "60879/60879 - 8s - loss: 0.0664 - accuracy: 0.9741 - val_loss: 0.0046 - val_accuracy: 0.9996\n",
      "Epoch 20/200\n",
      "\n",
      "Epoch 00020: val_loss improved from 0.00458 to 0.00391, saving model to .weights.hdf5\n",
      "60879/60879 - 9s - loss: 0.0658 - accuracy: 0.9744 - val_loss: 0.0039 - val_accuracy: 0.9998\n",
      "Epoch 21/200\n",
      "\n",
      "Epoch 00021: val_loss did not improve from 0.00391\n",
      "60879/60879 - 7s - loss: 0.0657 - accuracy: 0.9745 - val_loss: 0.0061 - val_accuracy: 0.9980\n",
      "Epoch 22/200\n",
      "\n",
      "Epoch 00022: val_loss did not improve from 0.00391\n",
      "60879/60879 - 8s - loss: 0.0652 - accuracy: 0.9745 - val_loss: 0.0069 - val_accuracy: 0.9973\n",
      "Epoch 23/200\n",
      "\n",
      "Epoch 00023: val_loss did not improve from 0.00391\n",
      "60879/60879 - 8s - loss: 0.0649 - accuracy: 0.9743 - val_loss: 0.0049 - val_accuracy: 0.9995\n",
      "Epoch 24/200\n",
      "\n",
      "Epoch 00024: val_loss did not improve from 0.00391\n",
      "60879/60879 - 8s - loss: 0.0645 - accuracy: 0.9744 - val_loss: 0.0071 - val_accuracy: 0.9973\n",
      "Epoch 25/200\n",
      "\n",
      "Epoch 00025: val_loss did not improve from 0.00391\n",
      "60879/60879 - 8s - loss: 0.0642 - accuracy: 0.9750 - val_loss: 0.0110 - val_accuracy: 0.9953\n",
      "Epoch 26/200\n",
      "\n",
      "Epoch 00026: val_loss did not improve from 0.00391\n",
      "60879/60879 - 8s - loss: 0.0639 - accuracy: 0.9751 - val_loss: 0.0086 - val_accuracy: 0.9965\n",
      "Epoch 27/200\n",
      "\n",
      "Epoch 00027: val_loss did not improve from 0.00391\n",
      "60879/60879 - 8s - loss: 0.0635 - accuracy: 0.9753 - val_loss: 0.0063 - val_accuracy: 0.9976\n",
      "Epoch 28/200\n",
      "\n",
      "Epoch 00028: val_loss did not improve from 0.00391\n",
      "60879/60879 - 8s - loss: 0.0633 - accuracy: 0.9749 - val_loss: 0.0081 - val_accuracy: 0.9967\n",
      "Epoch 29/200\n",
      "\n",
      "Epoch 00029: val_loss did not improve from 0.00391\n",
      "60879/60879 - 8s - loss: 0.0631 - accuracy: 0.9752 - val_loss: 0.0058 - val_accuracy: 0.9973\n",
      "Epoch 30/200\n",
      "\n",
      "Epoch 00030: val_loss did not improve from 0.00391\n",
      "60879/60879 - 8s - loss: 0.0624 - accuracy: 0.9756 - val_loss: 0.0080 - val_accuracy: 0.9966\n",
      "Epoch 31/200\n",
      "\n",
      "Epoch 00031: val_loss did not improve from 0.00391\n",
      "60879/60879 - 8s - loss: 0.0626 - accuracy: 0.9754 - val_loss: 0.0063 - val_accuracy: 0.9975\n",
      "Epoch 32/200\n",
      "\n",
      "Epoch 00032: val_loss did not improve from 0.00391\n",
      "60879/60879 - 8s - loss: 0.0623 - accuracy: 0.9760 - val_loss: 0.0060 - val_accuracy: 0.9988\n",
      "Epoch 33/200\n",
      "\n",
      "Epoch 00033: val_loss did not improve from 0.00391\n",
      "60879/60879 - 8s - loss: 0.0621 - accuracy: 0.9759 - val_loss: 0.0076 - val_accuracy: 0.9968\n",
      "Epoch 34/200\n",
      "\n",
      "Epoch 00034: val_loss did not improve from 0.00391\n",
      "60879/60879 - 8s - loss: 0.0619 - accuracy: 0.9755 - val_loss: 0.0045 - val_accuracy: 0.9988\n",
      "Epoch 35/200\n",
      "\n",
      "Epoch 00035: val_loss did not improve from 0.00391\n",
      "60879/60879 - 8s - loss: 0.0616 - accuracy: 0.9758 - val_loss: 0.0042 - val_accuracy: 1.0000\n",
      "Epoch 36/200\n",
      "\n",
      "Epoch 00036: val_loss did not improve from 0.00391\n",
      "60879/60879 - 8s - loss: 0.0615 - accuracy: 0.9756 - val_loss: 0.0050 - val_accuracy: 0.9979\n",
      "Epoch 37/200\n",
      "\n",
      "Epoch 00037: val_loss did not improve from 0.00391\n",
      "60879/60879 - 8s - loss: 0.0613 - accuracy: 0.9759 - val_loss: 0.0086 - val_accuracy: 0.9961\n",
      "Epoch 38/200\n",
      "\n",
      "Epoch 00038: val_loss did not improve from 0.00391\n",
      "60879/60879 - 7s - loss: 0.0612 - accuracy: 0.9760 - val_loss: 0.0084 - val_accuracy: 0.9957\n",
      "Epoch 39/200\n",
      "\n",
      "Epoch 00039: val_loss improved from 0.00391 to 0.00384, saving model to .weights.hdf5\n",
      "60879/60879 - 7s - loss: 0.0611 - accuracy: 0.9760 - val_loss: 0.0038 - val_accuracy: 0.9993\n",
      "Epoch 00039: early stopping\n"
     ]
    },
    {
     "data": {
      "text/plain": [
       "<tensorflow.python.keras.callbacks.History at 0x1b0b8323788>"
      ]
     },
     "execution_count": 64,
     "metadata": {},
     "output_type": "execute_result"
    }
   ],
   "source": [
    "from tensorflow.keras.models import Sequential\n",
    "from tensorflow.keras.layers import Dense, Activation\n",
    "from tensorflow.keras.callbacks import EarlyStopping, ModelCheckpoint\n",
    "model2 = Sequential()\n",
    "model2.add(Dense(60, input_dim=x_train.shape[1], activation='relu'))\n",
    "model2.add(Dense(35, activation='relu'))\n",
    "model2.add(Dense(1, activation='sigmoid'))\n",
    "\n",
    "model2.compile(loss='binary_crossentropy', optimizer='sgd', metrics=['accuracy'])\n",
    "\n",
    "monitor = EarlyStopping(monitor='val_loss', min_delta=1e-3, patience=20, \n",
    "                        verbose=2, mode='min')\n",
    "\n",
    "chckpt = ModelCheckpoint(filepath='.weights.hdf5', verbose=1, save_best_only=True)\n",
    "\n",
    "model2.fit(x_train,y_train,verbose=2,epochs=200, batch_size=20, \n",
    "          callbacks=[monitor, chckpt], validation_split=0.25)"
   ]
  },
  {
   "cell_type": "code",
   "execution_count": 65,
   "metadata": {},
   "outputs": [
    {
     "name": "stdout",
     "output_type": "stream",
     "text": [
      "Model: \"sequential_1\"\n",
      "_________________________________________________________________\n",
      "Layer (type)                 Output Shape              Param #   \n",
      "=================================================================\n",
      "dense_3 (Dense)              (None, 60)                960       \n",
      "_________________________________________________________________\n",
      "dense_4 (Dense)              (None, 35)                2135      \n",
      "_________________________________________________________________\n",
      "dense_5 (Dense)              (None, 1)                 36        \n",
      "=================================================================\n",
      "Total params: 3,131\n",
      "Trainable params: 3,131\n",
      "Non-trainable params: 0\n",
      "_________________________________________________________________\n"
     ]
    }
   ],
   "source": [
    "model2.summary()"
   ]
  },
  {
   "cell_type": "code",
   "execution_count": 66,
   "metadata": {},
   "outputs": [
    {
     "data": {
      "text/plain": [
       "array([[0.5093567 ],\n",
       "       [0.48874387],\n",
       "       [0.67013556],\n",
       "       ...,\n",
       "       [0.8493742 ],\n",
       "       [0.8235889 ],\n",
       "       [0.85223603]], dtype=float32)"
      ]
     },
     "execution_count": 66,
     "metadata": {},
     "output_type": "execute_result"
    }
   ],
   "source": [
    "y_pred = model2.predict(x_test)\n",
    "y_pred"
   ]
  },
  {
   "cell_type": "code",
   "execution_count": 67,
   "metadata": {},
   "outputs": [
    {
     "data": {
      "text/plain": [
       "[1, 0, 1, 1, 1, 1, 1, 1, 1, 1]"
      ]
     },
     "execution_count": 67,
     "metadata": {},
     "output_type": "execute_result"
    }
   ],
   "source": [
    "argmax = []\n",
    "for val in y_pred:\n",
    "    if val >= 0.5:\n",
    "      argmax.append(1)\n",
    "    else:\n",
    "        argmax.append(0)\n",
    "argmax[:10]"
   ]
  },
  {
   "cell_type": "code",
   "execution_count": 68,
   "metadata": {},
   "outputs": [
    {
     "data": {
      "text/plain": [
       "array([[ 7181,  2444],\n",
       "       [   33, 25521]], dtype=int64)"
      ]
     },
     "execution_count": 68,
     "metadata": {},
     "output_type": "execute_result"
    }
   ],
   "source": [
    "conf_mat = confusion_matrix(y_true=y_test, y_pred=argmax)\n",
    "conf_mat"
   ]
  },
  {
   "cell_type": "code",
   "execution_count": 69,
   "metadata": {
    "scrolled": true
   },
   "outputs": [
    {
     "data": {
      "text/plain": [
       "(<Figure size 432x288 with 1 Axes>,\n",
       " <matplotlib.axes._subplots.AxesSubplot at 0x1b0b9291a88>)"
      ]
     },
     "execution_count": 69,
     "metadata": {},
     "output_type": "execute_result"
    },
    {
     "data": {
      "image/png": "[encoded data removed]",
      "text/plain": [
       "<Figure size 432x288 with 1 Axes>"
      ]
     },
     "metadata": {
      "needs_background": "light"
     },
     "output_type": "display_data"
    }
   ],
   "source": [
    "plot_confusion_matrix(conf_mat=conf_mat)"
   ]
  },
  {
   "cell_type": "code",
   "execution_count": 70,
   "metadata": {},
   "outputs": [
    {
     "data": {
      "text/plain": [
       "0.9295886750618266"
      ]
     },
     "execution_count": 70,
     "metadata": {},
     "output_type": "execute_result"
    }
   ],
   "source": [
    "acc = accuracy_score(y_true=y_test, y_pred=argmax)\n",
    "acc"
   ]
  },
  {
   "cell_type": "code",
   "execution_count": 71,
   "metadata": {},
   "outputs": [
    {
     "name": "stdout",
     "output_type": "stream",
     "text": [
      "              precision    recall  f1-score   support\n",
      "\n",
      "         0.0       1.00      0.75      0.85      9625\n",
      "         1.0       0.91      1.00      0.95     25554\n",
      "\n",
      "    accuracy                           0.93     35179\n",
      "   macro avg       0.95      0.87      0.90     35179\n",
      "weighted avg       0.94      0.93      0.93     35179\n",
      "\n"
     ]
    }
   ],
   "source": [
    "print(classification_report(y_true=y_test, y_pred=argmax))"
   ]
  },
  {
   "cell_type": "code",
   "execution_count": 72,
   "metadata": {},
   "outputs": [
    {
     "data": {
      "text/plain": [
       "array([0.        , 0.99870862, 1.        ])"
      ]
     },
     "execution_count": 72,
     "metadata": {},
     "output_type": "execute_result"
    }
   ],
   "source": [
    "fpr, tpr, _ = roc_curve(y_test, argmax)\n",
    "tpr"
   ]
  },
  {
   "cell_type": "code",
   "execution_count": 73,
   "metadata": {},
   "outputs": [],
   "source": [
    "auc = roc_auc_score(y_test, argmax)"
   ]
  },
  {
   "cell_type": "code",
   "execution_count": 75,
   "metadata": {},
   "outputs": [
    {
     "data": {
      "image/png": "[encoded data removed]",
      "text/plain": [
       "<Figure size 432x288 with 1 Axes>"
      ]
     },
     "metadata": {
      "needs_background": "light"
     },
     "output_type": "display_data"
    }
   ],
   "source": [
    "def plot_roc(fpr, tpr, label):\n",
    "    plt.plot(fpr, tpr, label=label)\n",
    "    plt.xlabel(\"false positive rate\")\n",
    "    plt.ylabel(\"true positive rate\")\n",
    "    plt.title(\"ROC curve\")\n",
    "    plt.legend(loc=4)\n",
    "plot_roc(fpr, tpr, \"Neural Network model 2, auc= %.4f \" % auc)"
   ]
  },
  {
   "cell_type": "code",
   "execution_count": 76,
   "metadata": {},
   "outputs": [],
   "source": [
    "addScores(\"Neural Netwrk model 2\",acc, precision_score(y_test, argmax), \n",
    "          recall_score(y_test, argmax), f1_score(y_test, argmax))"
   ]
  },
  {
   "cell_type": "markdown",
   "metadata": {},
   "source": [
    "# Activation = tanh and optimizer = adam"
   ]
  },
  {
   "cell_type": "code",
   "execution_count": 77,
   "metadata": {},
   "outputs": [
    {
     "name": "stdout",
     "output_type": "stream",
     "text": [
      "Train on 60879 samples, validate on 20294 samples\n",
      "Epoch 1/200\n",
      "\n",
      "Epoch 00001: val_loss improved from inf to 0.00461, saving model to .weights.hdf5\n",
      "60879/60879 - 9s - loss: 0.0969 - accuracy: 0.9687 - val_loss: 0.0046 - val_accuracy: 1.0000\n",
      "Epoch 2/200\n",
      "\n",
      "Epoch 00002: val_loss did not improve from 0.00461\n",
      "60879/60879 - 9s - loss: 0.0785 - accuracy: 0.9719 - val_loss: 0.0093 - val_accuracy: 0.9989\n",
      "Epoch 3/200\n",
      "\n",
      "Epoch 00003: val_loss did not improve from 0.00461\n",
      "60879/60879 - 8s - loss: 0.0680 - accuracy: 0.9735 - val_loss: 0.0054 - val_accuracy: 0.9997\n",
      "Epoch 4/200\n",
      "\n",
      "Epoch 00004: val_loss did not improve from 0.00461\n",
      "60879/60879 - 8s - loss: 0.0645 - accuracy: 0.9746 - val_loss: 0.0076 - val_accuracy: 0.9971\n",
      "Epoch 5/200\n",
      "\n",
      "Epoch 00005: val_loss did not improve from 0.00461\n",
      "60879/60879 - 8s - loss: 0.0630 - accuracy: 0.9748 - val_loss: 0.0068 - val_accuracy: 0.9975\n",
      "Epoch 6/200\n",
      "\n",
      "Epoch 00006: val_loss did not improve from 0.00461\n",
      "60879/60879 - 8s - loss: 0.0619 - accuracy: 0.9752 - val_loss: 0.0102 - val_accuracy: 0.9954\n",
      "Epoch 7/200\n",
      "\n",
      "Epoch 00007: val_loss did not improve from 0.00461\n",
      "60879/60879 - 8s - loss: 0.0603 - accuracy: 0.9748 - val_loss: 0.0054 - val_accuracy: 0.9986\n",
      "Epoch 8/200\n",
      "\n",
      "Epoch 00008: val_loss did not improve from 0.00461\n",
      "60879/60879 - 9s - loss: 0.0597 - accuracy: 0.9750 - val_loss: 0.0095 - val_accuracy: 0.9952\n",
      "Epoch 9/200\n",
      "\n",
      "Epoch 00009: val_loss did not improve from 0.00461\n",
      "60879/60879 - 8s - loss: 0.0592 - accuracy: 0.9751 - val_loss: 0.0071 - val_accuracy: 0.9966\n",
      "Epoch 10/200\n",
      "\n",
      "Epoch 00010: val_loss did not improve from 0.00461\n",
      "60879/60879 - 9s - loss: 0.0583 - accuracy: 0.9757 - val_loss: 0.0116 - val_accuracy: 0.9945\n",
      "Epoch 11/200\n",
      "\n",
      "Epoch 00011: val_loss did not improve from 0.00461\n",
      "60879/60879 - 8s - loss: 0.0583 - accuracy: 0.9759 - val_loss: 0.0058 - val_accuracy: 0.9970\n",
      "Epoch 12/200\n",
      "\n",
      "Epoch 00012: val_loss did not improve from 0.00461\n",
      "60879/60879 - 9s - loss: 0.0578 - accuracy: 0.9757 - val_loss: 0.0078 - val_accuracy: 0.9956\n",
      "Epoch 13/200\n",
      "\n",
      "Epoch 00013: val_loss did not improve from 0.00461\n",
      "60879/60879 - 8s - loss: 0.0575 - accuracy: 0.9757 - val_loss: 0.0083 - val_accuracy: 0.9964\n",
      "Epoch 14/200\n",
      "\n",
      "Epoch 00014: val_loss did not improve from 0.00461\n",
      "60879/60879 - 9s - loss: 0.0573 - accuracy: 0.9760 - val_loss: 0.0058 - val_accuracy: 0.9970\n",
      "Epoch 15/200\n",
      "\n",
      "Epoch 00015: val_loss did not improve from 0.00461\n",
      "60879/60879 - 9s - loss: 0.0572 - accuracy: 0.9760 - val_loss: 0.0057 - val_accuracy: 0.9989\n",
      "Epoch 16/200\n",
      "\n",
      "Epoch 00016: val_loss did not improve from 0.00461\n",
      "60879/60879 - 8s - loss: 0.0565 - accuracy: 0.9759 - val_loss: 0.0094 - val_accuracy: 0.9954\n",
      "Epoch 17/200\n",
      "\n",
      "Epoch 00017: val_loss did not improve from 0.00461\n",
      "60879/60879 - 9s - loss: 0.0561 - accuracy: 0.9761 - val_loss: 0.0059 - val_accuracy: 0.9970\n",
      "Epoch 18/200\n",
      "\n",
      "Epoch 00018: val_loss did not improve from 0.00461\n",
      "60879/60879 - 9s - loss: 0.0559 - accuracy: 0.9758 - val_loss: 0.0071 - val_accuracy: 0.9960\n",
      "Epoch 19/200\n",
      "\n",
      "Epoch 00019: val_loss did not improve from 0.00461\n",
      "60879/60879 - 9s - loss: 0.0562 - accuracy: 0.9763 - val_loss: 0.0079 - val_accuracy: 0.9959\n",
      "Epoch 20/200\n",
      "\n",
      "Epoch 00020: val_loss did not improve from 0.00461\n",
      "60879/60879 - 9s - loss: 0.0559 - accuracy: 0.9758 - val_loss: 0.0067 - val_accuracy: 0.9969\n",
      "Epoch 21/200\n",
      "\n",
      "Epoch 00021: val_loss did not improve from 0.00461\n",
      "60879/60879 - 9s - loss: 0.0552 - accuracy: 0.9761 - val_loss: 0.0058 - val_accuracy: 0.9970\n",
      "Epoch 00021: early stopping\n"
     ]
    },
    {
     "data": {
      "text/plain": [
       "<tensorflow.python.keras.callbacks.History at 0x1b0b9f171c8>"
      ]
     },
     "execution_count": 77,
     "metadata": {},
     "output_type": "execute_result"
    }
   ],
   "source": [
    "from tensorflow.keras.models import Sequential\n",
    "from tensorflow.keras.layers import Dense, Activation\n",
    "from tensorflow.keras.callbacks import EarlyStopping, ModelCheckpoint\n",
    "model3 = Sequential()\n",
    "model3.add(Dense(60, input_dim=x_train.shape[1], activation='tanh'))\n",
    "model3.add(Dense(50, activation='tanh'))\n",
    "model3.add(Dense(1, activation='sigmoid'))\n",
    "\n",
    "model3.compile(loss='binary_crossentropy', optimizer='adam', metrics=['accuracy'])\n",
    "\n",
    "monitor = EarlyStopping(monitor='val_loss', min_delta=1e-3, patience=20, \n",
    "                        verbose=2, mode='min')\n",
    "\n",
    "chckpt = ModelCheckpoint(filepath='.weights.hdf5', verbose=1, save_best_only=True)\n",
    "\n",
    "model3.fit(x_train,y_train,verbose=2,epochs=200, batch_size=20, \n",
    "          callbacks=[monitor, chckpt], validation_split=0.25)"
   ]
  },
  {
   "cell_type": "code",
   "execution_count": 78,
   "metadata": {},
   "outputs": [
    {
     "name": "stdout",
     "output_type": "stream",
     "text": [
      "Model: \"sequential_2\"\n",
      "_________________________________________________________________\n",
      "Layer (type)                 Output Shape              Param #   \n",
      "=================================================================\n",
      "dense_6 (Dense)              (None, 60)                960       \n",
      "_________________________________________________________________\n",
      "dense_7 (Dense)              (None, 50)                3050      \n",
      "_________________________________________________________________\n",
      "dense_8 (Dense)              (None, 1)                 51        \n",
      "=================================================================\n",
      "Total params: 4,061\n",
      "Trainable params: 4,061\n",
      "Non-trainable params: 0\n",
      "_________________________________________________________________\n"
     ]
    }
   ],
   "source": [
    "model3.summary()"
   ]
  },
  {
   "cell_type": "code",
   "execution_count": 79,
   "metadata": {},
   "outputs": [
    {
     "data": {
      "text/plain": [
       "array([[0.5277672 ],\n",
       "       [0.42597076],\n",
       "       [0.49078646],\n",
       "       ...,\n",
       "       [0.4289477 ],\n",
       "       [0.44509563],\n",
       "       [0.38921827]], dtype=float32)"
      ]
     },
     "execution_count": 79,
     "metadata": {},
     "output_type": "execute_result"
    }
   ],
   "source": [
    "y_pred = model3.predict(x_test)\n",
    "y_pred"
   ]
  },
  {
   "cell_type": "code",
   "execution_count": 80,
   "metadata": {},
   "outputs": [
    {
     "data": {
      "text/plain": [
       "[1, 0, 0, 0, 0, 0, 0, 1, 1, 1]"
      ]
     },
     "execution_count": 80,
     "metadata": {},
     "output_type": "execute_result"
    }
   ],
   "source": [
    "argmax = []\n",
    "for val in y_pred:\n",
    "    if val >= 0.5:\n",
    "      argmax.append(1)\n",
    "    else:\n",
    "        argmax.append(0)\n",
    "argmax[:10]"
   ]
  },
  {
   "cell_type": "code",
   "execution_count": 81,
   "metadata": {},
   "outputs": [
    {
     "data": {
      "text/plain": [
       "array([[ 7907,  1718],\n",
       "       [  992, 24562]], dtype=int64)"
      ]
     },
     "execution_count": 81,
     "metadata": {},
     "output_type": "execute_result"
    }
   ],
   "source": [
    "conf_mat = confusion_matrix(y_true=y_test, y_pred=argmax)\n",
    "conf_mat"
   ]
  },
  {
   "cell_type": "code",
   "execution_count": 82,
   "metadata": {},
   "outputs": [
    {
     "data": {
      "text/plain": [
       "(<Figure size 432x288 with 1 Axes>,\n",
       " <matplotlib.axes._subplots.AxesSubplot at 0x1b0b66118c8>)"
      ]
     },
     "execution_count": 82,
     "metadata": {},
     "output_type": "execute_result"
    },
    {
     "data": {
      "image/png": "[encoded data removed]",
      "text/plain": [
       "<Figure size 432x288 with 1 Axes>"
      ]
     },
     "metadata": {
      "needs_background": "light"
     },
     "output_type": "display_data"
    }
   ],
   "source": [
    "plot_confusion_matrix(conf_mat=conf_mat)"
   ]
  },
  {
   "cell_type": "code",
   "execution_count": 83,
   "metadata": {},
   "outputs": [
    {
     "data": {
      "text/plain": [
       "0.922965405497598"
      ]
     },
     "execution_count": 83,
     "metadata": {},
     "output_type": "execute_result"
    }
   ],
   "source": [
    "acc = accuracy_score(y_true=y_test, y_pred=argmax)\n",
    "acc"
   ]
  },
  {
   "cell_type": "code",
   "execution_count": 84,
   "metadata": {},
   "outputs": [
    {
     "name": "stdout",
     "output_type": "stream",
     "text": [
      "              precision    recall  f1-score   support\n",
      "\n",
      "         0.0       0.89      0.82      0.85      9625\n",
      "         1.0       0.93      0.96      0.95     25554\n",
      "\n",
      "    accuracy                           0.92     35179\n",
      "   macro avg       0.91      0.89      0.90     35179\n",
      "weighted avg       0.92      0.92      0.92     35179\n",
      "\n"
     ]
    }
   ],
   "source": [
    "print(classification_report(y_true=y_test, y_pred=argmax))"
   ]
  },
  {
   "cell_type": "code",
   "execution_count": 85,
   "metadata": {},
   "outputs": [
    {
     "data": {
      "text/plain": [
       "array([0.        , 0.96118025, 1.        ])"
      ]
     },
     "execution_count": 85,
     "metadata": {},
     "output_type": "execute_result"
    }
   ],
   "source": [
    "fpr, tpr, _ = roc_curve(y_test, argmax)\n",
    "tpr"
   ]
  },
  {
   "cell_type": "code",
   "execution_count": 86,
   "metadata": {},
   "outputs": [],
   "source": [
    "auc = roc_auc_score(y_test, argmax)"
   ]
  },
  {
   "cell_type": "code",
   "execution_count": 89,
   "metadata": {},
   "outputs": [
    {
     "data": {
      "image/png": "[encoded data removed]",
      "text/plain": [
       "<Figure size 432x288 with 1 Axes>"
      ]
     },
     "metadata": {
      "needs_background": "light"
     },
     "output_type": "display_data"
    }
   ],
   "source": [
    "def plot_roc(fpr, tpr, label):\n",
    "    plt.plot(fpr, tpr, label=label)\n",
    "    plt.xlabel(\"false positive rate\")\n",
    "    plt.ylabel(\"true positive rate\")\n",
    "    plt.title(\"ROC curve\")\n",
    "    plt.legend(loc=4)\n",
    "plot_roc(fpr, tpr, \"Neural Network model 3, auc= %.4f \" % auc)"
   ]
  },
  {
   "cell_type": "code",
   "execution_count": 90,
   "metadata": {},
   "outputs": [],
   "source": [
    "addScores(\"Neural Network model 3\",acc, precision_score(y_test, argmax), \n",
    "          recall_score(y_test, argmax), f1_score(y_test, argmax))"
   ]
  },
  {
   "cell_type": "markdown",
   "metadata": {},
   "source": [
    "# Activation = tanh and optimizer = sgd"
   ]
  },
  {
   "cell_type": "code",
   "execution_count": 91,
   "metadata": {
    "scrolled": true
   },
   "outputs": [
    {
     "name": "stdout",
     "output_type": "stream",
     "text": [
      "Train on 60879 samples, validate on 20294 samples\n",
      "Epoch 1/200\n",
      "\n",
      "Epoch 00001: val_loss improved from inf to 0.01105, saving model to .weights.hdf5\n",
      "60879/60879 - 9s - loss: 0.1277 - accuracy: 0.9649 - val_loss: 0.0111 - val_accuracy: 0.9999\n",
      "Epoch 2/200\n",
      "\n",
      "Epoch 00002: val_loss improved from 0.01105 to 0.00925, saving model to .weights.hdf5\n",
      "60879/60879 - 7s - loss: 0.0998 - accuracy: 0.9703 - val_loss: 0.0092 - val_accuracy: 0.9999\n",
      "Epoch 3/200\n",
      "\n",
      "Epoch 00003: val_loss improved from 0.00925 to 0.00850, saving model to .weights.hdf5\n",
      "60879/60879 - 8s - loss: 0.0947 - accuracy: 0.9702 - val_loss: 0.0085 - val_accuracy: 0.9999\n",
      "Epoch 4/200\n",
      "\n",
      "Epoch 00004: val_loss improved from 0.00850 to 0.00722, saving model to .weights.hdf5\n",
      "60879/60879 - 7s - loss: 0.0906 - accuracy: 0.9702 - val_loss: 0.0072 - val_accuracy: 1.0000\n",
      "Epoch 5/200\n",
      "\n",
      "Epoch 00005: val_loss did not improve from 0.00722\n",
      "60879/60879 - 7s - loss: 0.0872 - accuracy: 0.9706 - val_loss: 0.0078 - val_accuracy: 0.9999\n",
      "Epoch 6/200\n",
      "\n",
      "Epoch 00006: val_loss improved from 0.00722 to 0.00696, saving model to .weights.hdf5\n",
      "60879/60879 - 8s - loss: 0.0849 - accuracy: 0.9709 - val_loss: 0.0070 - val_accuracy: 0.9999\n",
      "Epoch 7/200\n",
      "\n",
      "Epoch 00007: val_loss did not improve from 0.00696\n",
      "60879/60879 - 7s - loss: 0.0833 - accuracy: 0.9703 - val_loss: 0.0070 - val_accuracy: 0.9999\n",
      "Epoch 8/200\n",
      "\n",
      "Epoch 00008: val_loss did not improve from 0.00696\n",
      "60879/60879 - 7s - loss: 0.0823 - accuracy: 0.9707 - val_loss: 0.0073 - val_accuracy: 0.9997\n",
      "Epoch 9/200\n",
      "\n",
      "Epoch 00009: val_loss improved from 0.00696 to 0.00589, saving model to .weights.hdf5\n",
      "60879/60879 - 7s - loss: 0.0812 - accuracy: 0.9711 - val_loss: 0.0059 - val_accuracy: 0.9999\n",
      "Epoch 10/200\n",
      "\n",
      "Epoch 00010: val_loss did not improve from 0.00589\n",
      "60879/60879 - 8s - loss: 0.0806 - accuracy: 0.9711 - val_loss: 0.0081 - val_accuracy: 0.9996\n",
      "Epoch 11/200\n",
      "\n",
      "Epoch 00011: val_loss did not improve from 0.00589\n",
      "60879/60879 - 7s - loss: 0.0802 - accuracy: 0.9713 - val_loss: 0.0060 - val_accuracy: 0.9998\n",
      "Epoch 12/200\n",
      "\n",
      "Epoch 00012: val_loss did not improve from 0.00589\n",
      "60879/60879 - 7s - loss: 0.0796 - accuracy: 0.9716 - val_loss: 0.0083 - val_accuracy: 0.9994\n",
      "Epoch 13/200\n",
      "\n",
      "Epoch 00013: val_loss improved from 0.00589 to 0.00480, saving model to .weights.hdf5\n",
      "60879/60879 - 7s - loss: 0.0790 - accuracy: 0.9719 - val_loss: 0.0048 - val_accuracy: 0.9999\n",
      "Epoch 14/200\n",
      "\n",
      "Epoch 00014: val_loss did not improve from 0.00480\n",
      "60879/60879 - 7s - loss: 0.0787 - accuracy: 0.9721 - val_loss: 0.0060 - val_accuracy: 0.9997\n",
      "Epoch 15/200\n",
      "\n",
      "Epoch 00015: val_loss did not improve from 0.00480\n",
      "60879/60879 - 7s - loss: 0.0784 - accuracy: 0.9722 - val_loss: 0.0067 - val_accuracy: 0.9994\n",
      "Epoch 16/200\n",
      "\n",
      "Epoch 00016: val_loss did not improve from 0.00480\n",
      "60879/60879 - 7s - loss: 0.0779 - accuracy: 0.9723 - val_loss: 0.0081 - val_accuracy: 0.9991\n",
      "Epoch 17/200\n",
      "\n",
      "Epoch 00017: val_loss did not improve from 0.00480\n",
      "60879/60879 - 8s - loss: 0.0776 - accuracy: 0.9721 - val_loss: 0.0073 - val_accuracy: 0.9993\n",
      "Epoch 18/200\n",
      "\n",
      "Epoch 00018: val_loss did not improve from 0.00480\n",
      "60879/60879 - 8s - loss: 0.0772 - accuracy: 0.9723 - val_loss: 0.0060 - val_accuracy: 0.9995\n",
      "Epoch 19/200\n",
      "\n",
      "Epoch 00019: val_loss did not improve from 0.00480\n",
      "60879/60879 - 8s - loss: 0.0769 - accuracy: 0.9728 - val_loss: 0.0059 - val_accuracy: 0.9995\n",
      "Epoch 20/200\n",
      "\n",
      "Epoch 00020: val_loss did not improve from 0.00480\n",
      "60879/60879 - 8s - loss: 0.0765 - accuracy: 0.9729 - val_loss: 0.0058 - val_accuracy: 0.9994\n",
      "Epoch 21/200\n",
      "\n",
      "Epoch 00021: val_loss did not improve from 0.00480\n",
      "60879/60879 - 8s - loss: 0.0761 - accuracy: 0.9726 - val_loss: 0.0075 - val_accuracy: 0.9990\n",
      "Epoch 22/200\n",
      "\n",
      "Epoch 00022: val_loss did not improve from 0.00480\n",
      "60879/60879 - 8s - loss: 0.0758 - accuracy: 0.9729 - val_loss: 0.0081 - val_accuracy: 0.9988\n",
      "Epoch 23/200\n",
      "\n",
      "Epoch 00023: val_loss did not improve from 0.00480\n",
      "60879/60879 - 7s - loss: 0.0754 - accuracy: 0.9729 - val_loss: 0.0064 - val_accuracy: 0.9993\n",
      "Epoch 24/200\n",
      "\n",
      "Epoch 00024: val_loss did not improve from 0.00480\n",
      "60879/60879 - 7s - loss: 0.0749 - accuracy: 0.9732 - val_loss: 0.0071 - val_accuracy: 0.9991\n",
      "Epoch 25/200\n",
      "\n",
      "Epoch 00025: val_loss did not improve from 0.00480\n",
      "60879/60879 - 7s - loss: 0.0746 - accuracy: 0.9730 - val_loss: 0.0066 - val_accuracy: 0.9992\n",
      "Epoch 26/200\n",
      "\n",
      "Epoch 00026: val_loss did not improve from 0.00480\n",
      "60879/60879 - 7s - loss: 0.0743 - accuracy: 0.9729 - val_loss: 0.0057 - val_accuracy: 0.9994\n",
      "Epoch 27/200\n",
      "\n",
      "Epoch 00027: val_loss improved from 0.00480 to 0.00399, saving model to .weights.hdf5\n",
      "60879/60879 - 8s - loss: 0.0739 - accuracy: 0.9732 - val_loss: 0.0040 - val_accuracy: 0.9998\n",
      "Epoch 28/200\n",
      "\n",
      "Epoch 00028: val_loss did not improve from 0.00399\n",
      "60879/60879 - 7s - loss: 0.0736 - accuracy: 0.9732 - val_loss: 0.0046 - val_accuracy: 0.9995\n",
      "Epoch 29/200\n",
      "\n",
      "Epoch 00029: val_loss did not improve from 0.00399\n",
      "60879/60879 - 7s - loss: 0.0732 - accuracy: 0.9733 - val_loss: 0.0074 - val_accuracy: 0.9985\n",
      "Epoch 30/200\n",
      "\n",
      "Epoch 00030: val_loss did not improve from 0.00399\n",
      "60879/60879 - 7s - loss: 0.0728 - accuracy: 0.9733 - val_loss: 0.0065 - val_accuracy: 0.9990\n",
      "Epoch 31/200\n",
      "\n",
      "Epoch 00031: val_loss did not improve from 0.00399\n",
      "60879/60879 - 7s - loss: 0.0724 - accuracy: 0.9734 - val_loss: 0.0069 - val_accuracy: 0.9987\n",
      "Epoch 32/200\n",
      "\n",
      "Epoch 00032: val_loss did not improve from 0.00399\n",
      "60879/60879 - 7s - loss: 0.0721 - accuracy: 0.9733 - val_loss: 0.0057 - val_accuracy: 0.9993\n",
      "Epoch 33/200\n",
      "\n",
      "Epoch 00033: val_loss did not improve from 0.00399\n",
      "60879/60879 - 7s - loss: 0.0716 - accuracy: 0.9736 - val_loss: 0.0058 - val_accuracy: 0.9988\n",
      "Epoch 00033: early stopping\n"
     ]
    },
    {
     "data": {
      "text/plain": [
       "<tensorflow.python.keras.callbacks.History at 0x1b0b7d6fac8>"
      ]
     },
     "execution_count": 91,
     "metadata": {},
     "output_type": "execute_result"
    }
   ],
   "source": [
    "from tensorflow.keras.models import Sequential\n",
    "from tensorflow.keras.layers import Dense, Activation\n",
    "from tensorflow.keras.callbacks import EarlyStopping, ModelCheckpoint\n",
    "model4 = Sequential()\n",
    "model4.add(Dense(60, input_dim=x_train.shape[1], activation='tanh'))\n",
    "model4.add(Dense(50, activation='tanh'))\n",
    "model4.add(Dense(1, activation='sigmoid'))\n",
    "\n",
    "model4.compile(loss='binary_crossentropy', optimizer='sgd', metrics=['accuracy'])\n",
    "\n",
    "monitor = EarlyStopping(monitor='val_loss', min_delta=1e-3, patience=20, \n",
    "                        verbose=2, mode='min')\n",
    "\n",
    "chckpt = ModelCheckpoint(filepath='.weights.hdf5', verbose=1, save_best_only=True)\n",
    "\n",
    "model4.fit(x_train,y_train,verbose=2,epochs=200, batch_size=20, \n",
    "          callbacks=[monitor, chckpt], validation_split=0.25)"
   ]
  },
  {
   "cell_type": "code",
   "execution_count": 92,
   "metadata": {},
   "outputs": [
    {
     "name": "stdout",
     "output_type": "stream",
     "text": [
      "Model: \"sequential_3\"\n",
      "_________________________________________________________________\n",
      "Layer (type)                 Output Shape              Param #   \n",
      "=================================================================\n",
      "dense_9 (Dense)              (None, 60)                960       \n",
      "_________________________________________________________________\n",
      "dense_10 (Dense)             (None, 50)                3050      \n",
      "_________________________________________________________________\n",
      "dense_11 (Dense)             (None, 1)                 51        \n",
      "=================================================================\n",
      "Total params: 4,061\n",
      "Trainable params: 4,061\n",
      "Non-trainable params: 0\n",
      "_________________________________________________________________\n"
     ]
    }
   ],
   "source": [
    "model4.summary()"
   ]
  },
  {
   "cell_type": "code",
   "execution_count": 93,
   "metadata": {},
   "outputs": [
    {
     "data": {
      "text/plain": [
       "array([[0.40554205],\n",
       "       [0.41378686],\n",
       "       [0.64302236],\n",
       "       ...,\n",
       "       [0.8103372 ],\n",
       "       [0.761825  ],\n",
       "       [0.83741117]], dtype=float32)"
      ]
     },
     "execution_count": 93,
     "metadata": {},
     "output_type": "execute_result"
    }
   ],
   "source": [
    "y_pred = model4.predict(x_test)\n",
    "y_pred"
   ]
  },
  {
   "cell_type": "code",
   "execution_count": 94,
   "metadata": {},
   "outputs": [
    {
     "data": {
      "text/plain": [
       "[0, 0, 1, 1, 1, 1, 1, 0, 1, 0]"
      ]
     },
     "execution_count": 94,
     "metadata": {},
     "output_type": "execute_result"
    }
   ],
   "source": [
    "argmax = []\n",
    "for val in y_pred:\n",
    "    if val >= 0.5:\n",
    "      argmax.append(1)\n",
    "    else:\n",
    "        argmax.append(0)\n",
    "argmax[:10]"
   ]
  },
  {
   "cell_type": "code",
   "execution_count": 95,
   "metadata": {},
   "outputs": [
    {
     "data": {
      "text/plain": [
       "array([[ 8314,  1311],\n",
       "       [  103, 25451]], dtype=int64)"
      ]
     },
     "execution_count": 95,
     "metadata": {},
     "output_type": "execute_result"
    }
   ],
   "source": [
    "conf_mat = confusion_matrix(y_true=y_test, y_pred=argmax)\n",
    "conf_mat"
   ]
  },
  {
   "cell_type": "code",
   "execution_count": 96,
   "metadata": {},
   "outputs": [
    {
     "data": {
      "text/plain": [
       "(<Figure size 432x288 with 1 Axes>,\n",
       " <matplotlib.axes._subplots.AxesSubplot at 0x1b0baadc8c8>)"
      ]
     },
     "execution_count": 96,
     "metadata": {},
     "output_type": "execute_result"
    },
    {
     "data": {
      "image/png": "[encoded data removed]",
      "text/plain": [
       "<Figure size 432x288 with 1 Axes>"
      ]
     },
     "metadata": {
      "needs_background": "light"
     },
     "output_type": "display_data"
    }
   ],
   "source": [
    "plot_confusion_matrix(conf_mat=conf_mat)"
   ]
  },
  {
   "cell_type": "code",
   "execution_count": 97,
   "metadata": {},
   "outputs": [
    {
     "data": {
      "text/plain": [
       "0.9598055658205179"
      ]
     },
     "execution_count": 97,
     "metadata": {},
     "output_type": "execute_result"
    }
   ],
   "source": [
    "acc = accuracy_score(y_true=y_test, y_pred=argmax)\n",
    "acc"
   ]
  },
  {
   "cell_type": "code",
   "execution_count": 98,
   "metadata": {},
   "outputs": [
    {
     "name": "stdout",
     "output_type": "stream",
     "text": [
      "              precision    recall  f1-score   support\n",
      "\n",
      "         0.0       0.99      0.86      0.92      9625\n",
      "         1.0       0.95      1.00      0.97     25554\n",
      "\n",
      "    accuracy                           0.96     35179\n",
      "   macro avg       0.97      0.93      0.95     35179\n",
      "weighted avg       0.96      0.96      0.96     35179\n",
      "\n"
     ]
    }
   ],
   "source": [
    "print(classification_report(y_true=y_test, y_pred=argmax))"
   ]
  },
  {
   "cell_type": "code",
   "execution_count": 99,
   "metadata": {},
   "outputs": [
    {
     "data": {
      "text/plain": [
       "array([0.        , 0.99596932, 1.        ])"
      ]
     },
     "execution_count": 99,
     "metadata": {},
     "output_type": "execute_result"
    }
   ],
   "source": [
    "fpr, tpr, _ = roc_curve(y_test, argmax)\n",
    "tpr"
   ]
  },
  {
   "cell_type": "code",
   "execution_count": 100,
   "metadata": {},
   "outputs": [],
   "source": [
    "auc = roc_auc_score(y_test, argmax)"
   ]
  },
  {
   "cell_type": "code",
   "execution_count": 102,
   "metadata": {},
   "outputs": [
    {
     "data": {
      "image/png": "[encoded data removed]",
      "text/plain": [
       "<Figure size 432x288 with 1 Axes>"
      ]
     },
     "metadata": {
      "needs_background": "light"
     },
     "output_type": "display_data"
    }
   ],
   "source": [
    "def plot_roc(fpr, tpr, label):\n",
    "    plt.plot(fpr, tpr, label=label)\n",
    "    plt.xlabel(\"false positive rate\")\n",
    "    plt.ylabel(\"true positive rate\")\n",
    "    plt.title(\"ROC curve\")\n",
    "    plt.legend(loc=4)\n",
    "plot_roc(fpr, tpr, \"Neural Network model 4, auc= %.4f \" % auc)"
   ]
  },
  {
   "cell_type": "code",
   "execution_count": 103,
   "metadata": {},
   "outputs": [],
   "source": [
    "addScores(\"Neural Network model 4\",acc, precision_score(y_test, argmax), \n",
    "          recall_score(y_test, argmax), f1_score(y_test, argmax))"
   ]
  },
  {
   "cell_type": "markdown",
   "metadata": {},
   "source": [
    "# Manipulating the no of neurons and no of layers for the best model so far Activation = tanh and optimizer = sgd"
   ]
  },
  {
   "cell_type": "code",
   "execution_count": 104,
   "metadata": {},
   "outputs": [
    {
     "name": "stdout",
     "output_type": "stream",
     "text": [
      "Train on 60879 samples, validate on 20294 samples\n",
      "Epoch 1/200\n",
      "\n",
      "Epoch 00001: val_loss improved from inf to 0.01236, saving model to .weights.hdf5\n",
      "60879/60879 - 9s - loss: 0.1398 - accuracy: 0.9631 - val_loss: 0.0124 - val_accuracy: 0.9999\n",
      "Epoch 2/200\n",
      "\n",
      "Epoch 00002: val_loss improved from 0.01236 to 0.01091, saving model to .weights.hdf5\n",
      "60879/60879 - 10s - loss: 0.1048 - accuracy: 0.9702 - val_loss: 0.0109 - val_accuracy: 0.9998\n",
      "Epoch 3/200\n",
      "\n",
      "Epoch 00003: val_loss improved from 0.01091 to 0.00969, saving model to .weights.hdf5\n",
      "60879/60879 - 8s - loss: 0.1013 - accuracy: 0.9701 - val_loss: 0.0097 - val_accuracy: 0.9998\n",
      "Epoch 4/200\n",
      "\n",
      "Epoch 00004: val_loss improved from 0.00969 to 0.00930, saving model to .weights.hdf5\n",
      "60879/60879 - 8s - loss: 0.0990 - accuracy: 0.9701 - val_loss: 0.0093 - val_accuracy: 0.9998\n",
      "Epoch 5/200\n",
      "\n",
      "Epoch 00005: val_loss did not improve from 0.00930\n",
      "60879/60879 - 8s - loss: 0.0969 - accuracy: 0.9701 - val_loss: 0.0093 - val_accuracy: 0.9998\n",
      "Epoch 6/200\n",
      "\n",
      "Epoch 00006: val_loss did not improve from 0.00930\n",
      "60879/60879 - 8s - loss: 0.0951 - accuracy: 0.9701 - val_loss: 0.0097 - val_accuracy: 0.9998\n",
      "Epoch 7/200\n",
      "\n",
      "Epoch 00007: val_loss did not improve from 0.00930\n",
      "60879/60879 - 8s - loss: 0.0935 - accuracy: 0.9701 - val_loss: 0.0102 - val_accuracy: 0.9998\n",
      "Epoch 8/200\n",
      "\n",
      "Epoch 00008: val_loss improved from 0.00930 to 0.00842, saving model to .weights.hdf5\n",
      "60879/60879 - 8s - loss: 0.0920 - accuracy: 0.9701 - val_loss: 0.0084 - val_accuracy: 0.9998\n",
      "Epoch 9/200\n",
      "\n",
      "Epoch 00009: val_loss did not improve from 0.00842\n",
      "60879/60879 - 8s - loss: 0.0907 - accuracy: 0.9701 - val_loss: 0.0088 - val_accuracy: 0.9998\n",
      "Epoch 10/200\n",
      "\n",
      "Epoch 00010: val_loss did not improve from 0.00842\n",
      "60879/60879 - 8s - loss: 0.0895 - accuracy: 0.9701 - val_loss: 0.0088 - val_accuracy: 0.9999\n",
      "Epoch 11/200\n",
      "\n",
      "Epoch 00011: val_loss did not improve from 0.00842\n",
      "60879/60879 - 7s - loss: 0.0884 - accuracy: 0.9703 - val_loss: 0.0088 - val_accuracy: 0.9999\n",
      "Epoch 12/200\n",
      "\n",
      "Epoch 00012: val_loss improved from 0.00842 to 0.00832, saving model to .weights.hdf5\n",
      "60879/60879 - 8s - loss: 0.0874 - accuracy: 0.9707 - val_loss: 0.0083 - val_accuracy: 0.9999\n",
      "Epoch 13/200\n",
      "\n",
      "Epoch 00013: val_loss improved from 0.00832 to 0.00709, saving model to .weights.hdf5\n",
      "60879/60879 - 8s - loss: 0.0865 - accuracy: 0.9709 - val_loss: 0.0071 - val_accuracy: 0.9999\n",
      "Epoch 14/200\n",
      "\n",
      "Epoch 00014: val_loss did not improve from 0.00709\n",
      "60879/60879 - 7s - loss: 0.0858 - accuracy: 0.9708 - val_loss: 0.0079 - val_accuracy: 0.9999\n",
      "Epoch 15/200\n",
      "\n",
      "Epoch 00015: val_loss did not improve from 0.00709\n",
      "60879/60879 - 7s - loss: 0.0852 - accuracy: 0.9708 - val_loss: 0.0081 - val_accuracy: 0.9999\n",
      "Epoch 16/200\n",
      "\n",
      "Epoch 00016: val_loss did not improve from 0.00709\n",
      "60879/60879 - 7s - loss: 0.0846 - accuracy: 0.9707 - val_loss: 0.0076 - val_accuracy: 0.9999\n",
      "Epoch 17/200\n",
      "\n",
      "Epoch 00017: val_loss did not improve from 0.00709\n",
      "60879/60879 - 7s - loss: 0.0841 - accuracy: 0.9705 - val_loss: 0.0078 - val_accuracy: 0.9999\n",
      "Epoch 18/200\n",
      "\n",
      "Epoch 00018: val_loss did not improve from 0.00709\n",
      "60879/60879 - 8s - loss: 0.0837 - accuracy: 0.9705 - val_loss: 0.0078 - val_accuracy: 0.9999\n",
      "Epoch 19/200\n",
      "\n",
      "Epoch 00019: val_loss improved from 0.00709 to 0.00682, saving model to .weights.hdf5\n",
      "60879/60879 - 7s - loss: 0.0831 - accuracy: 0.9707 - val_loss: 0.0068 - val_accuracy: 0.9999\n",
      "Epoch 20/200\n",
      "\n",
      "Epoch 00020: val_loss did not improve from 0.00682\n",
      "60879/60879 - 7s - loss: 0.0828 - accuracy: 0.9707 - val_loss: 0.0082 - val_accuracy: 0.9998\n",
      "Epoch 21/200\n",
      "\n",
      "Epoch 00021: val_loss improved from 0.00682 to 0.00677, saving model to .weights.hdf5\n",
      "60879/60879 - 8s - loss: 0.0825 - accuracy: 0.9704 - val_loss: 0.0068 - val_accuracy: 0.9999\n",
      "Epoch 22/200\n",
      "\n",
      "Epoch 00022: val_loss did not improve from 0.00677\n",
      "60879/60879 - 7s - loss: 0.0820 - accuracy: 0.9708 - val_loss: 0.0076 - val_accuracy: 0.9998\n",
      "Epoch 23/200\n",
      "\n",
      "Epoch 00023: val_loss did not improve from 0.00677\n",
      "60879/60879 - 8s - loss: 0.0818 - accuracy: 0.9710 - val_loss: 0.0073 - val_accuracy: 0.9998\n",
      "Epoch 24/200\n",
      "\n",
      "Epoch 00024: val_loss improved from 0.00677 to 0.00657, saving model to .weights.hdf5\n",
      "60879/60879 - 8s - loss: 0.0815 - accuracy: 0.9711 - val_loss: 0.0066 - val_accuracy: 0.9999\n",
      "Epoch 25/200\n",
      "\n",
      "Epoch 00025: val_loss did not improve from 0.00657\n",
      "60879/60879 - 8s - loss: 0.0811 - accuracy: 0.9709 - val_loss: 0.0073 - val_accuracy: 0.9998\n",
      "Epoch 26/200\n",
      "\n",
      "Epoch 00026: val_loss improved from 0.00657 to 0.00593, saving model to .weights.hdf5\n",
      "60879/60879 - 7s - loss: 0.0809 - accuracy: 0.9710 - val_loss: 0.0059 - val_accuracy: 0.9999\n",
      "Epoch 27/200\n",
      "\n",
      "Epoch 00027: val_loss did not improve from 0.00593\n",
      "60879/60879 - 8s - loss: 0.0807 - accuracy: 0.9711 - val_loss: 0.0071 - val_accuracy: 0.9998\n",
      "Epoch 28/200\n",
      "\n",
      "Epoch 00028: val_loss did not improve from 0.00593\n",
      "60879/60879 - 7s - loss: 0.0804 - accuracy: 0.9713 - val_loss: 0.0080 - val_accuracy: 0.9996\n",
      "Epoch 29/200\n",
      "\n",
      "Epoch 00029: val_loss did not improve from 0.00593\n",
      "60879/60879 - 8s - loss: 0.0802 - accuracy: 0.9715 - val_loss: 0.0074 - val_accuracy: 0.9997\n",
      "Epoch 30/200\n",
      "\n",
      "Epoch 00030: val_loss improved from 0.00593 to 0.00588, saving model to .weights.hdf5\n",
      "60879/60879 - 8s - loss: 0.0801 - accuracy: 0.9714 - val_loss: 0.0059 - val_accuracy: 0.9999\n",
      "Epoch 31/200\n",
      "\n",
      "Epoch 00031: val_loss did not improve from 0.00588\n",
      "60879/60879 - 8s - loss: 0.0798 - accuracy: 0.9717 - val_loss: 0.0068 - val_accuracy: 0.9999\n",
      "Epoch 32/200\n",
      "\n",
      "Epoch 00032: val_loss did not improve from 0.00588\n",
      "60879/60879 - 8s - loss: 0.0796 - accuracy: 0.9719 - val_loss: 0.0080 - val_accuracy: 0.9995\n",
      "Epoch 33/200\n",
      "\n",
      "Epoch 00033: val_loss did not improve from 0.00588\n",
      "60879/60879 - 7s - loss: 0.0793 - accuracy: 0.9718 - val_loss: 0.0075 - val_accuracy: 0.9997\n",
      "Epoch 34/200\n",
      "\n",
      "Epoch 00034: val_loss did not improve from 0.00588\n",
      "60879/60879 - 7s - loss: 0.0792 - accuracy: 0.9720 - val_loss: 0.0081 - val_accuracy: 0.9995\n",
      "Epoch 35/200\n",
      "\n",
      "Epoch 00035: val_loss did not improve from 0.00588\n",
      "60879/60879 - 8s - loss: 0.0791 - accuracy: 0.9720 - val_loss: 0.0076 - val_accuracy: 0.9996\n",
      "Epoch 36/200\n",
      "\n",
      "Epoch 00036: val_loss did not improve from 0.00588\n",
      "60879/60879 - 8s - loss: 0.0787 - accuracy: 0.9720 - val_loss: 0.0087 - val_accuracy: 0.9995\n",
      "Epoch 37/200\n",
      "\n",
      "Epoch 00037: val_loss did not improve from 0.00588\n",
      "60879/60879 - 8s - loss: 0.0786 - accuracy: 0.9722 - val_loss: 0.0061 - val_accuracy: 0.9998\n",
      "Epoch 38/200\n",
      "\n",
      "Epoch 00038: val_loss did not improve from 0.00588\n",
      "60879/60879 - 8s - loss: 0.0784 - accuracy: 0.9723 - val_loss: 0.0063 - val_accuracy: 0.9997\n",
      "Epoch 39/200\n",
      "\n",
      "Epoch 00039: val_loss did not improve from 0.00588\n",
      "60879/60879 - 8s - loss: 0.0783 - accuracy: 0.9722 - val_loss: 0.0060 - val_accuracy: 0.9997\n",
      "Epoch 40/200\n",
      "\n",
      "Epoch 00040: val_loss did not improve from 0.00588\n",
      "60879/60879 - 8s - loss: 0.0781 - accuracy: 0.9724 - val_loss: 0.0067 - val_accuracy: 0.9996\n",
      "Epoch 41/200\n",
      "\n",
      "Epoch 00041: val_loss did not improve from 0.00588\n",
      "60879/60879 - 7s - loss: 0.0779 - accuracy: 0.9726 - val_loss: 0.0067 - val_accuracy: 0.9995\n",
      "Epoch 42/200\n",
      "\n",
      "Epoch 00042: val_loss did not improve from 0.00588\n",
      "60879/60879 - 8s - loss: 0.0777 - accuracy: 0.9724 - val_loss: 0.0065 - val_accuracy: 0.9997\n",
      "Epoch 43/200\n",
      "\n",
      "Epoch 00043: val_loss improved from 0.00588 to 0.00484, saving model to .weights.hdf5\n",
      "60879/60879 - 7s - loss: 0.0775 - accuracy: 0.9724 - val_loss: 0.0048 - val_accuracy: 0.9999\n",
      "Epoch 44/200\n",
      "\n",
      "Epoch 00044: val_loss did not improve from 0.00484\n",
      "60879/60879 - 8s - loss: 0.0773 - accuracy: 0.9726 - val_loss: 0.0049 - val_accuracy: 0.9998\n",
      "Epoch 45/200\n",
      "\n",
      "Epoch 00045: val_loss did not improve from 0.00484\n",
      "60879/60879 - 7s - loss: 0.0771 - accuracy: 0.9727 - val_loss: 0.0076 - val_accuracy: 0.9994\n",
      "Epoch 46/200\n",
      "\n",
      "Epoch 00046: val_loss did not improve from 0.00484\n",
      "60879/60879 - 8s - loss: 0.0771 - accuracy: 0.9726 - val_loss: 0.0078 - val_accuracy: 0.9994\n",
      "Epoch 47/200\n",
      "\n",
      "Epoch 00047: val_loss did not improve from 0.00484\n",
      "60879/60879 - 8s - loss: 0.0770 - accuracy: 0.9726 - val_loss: 0.0078 - val_accuracy: 0.9994\n",
      "Epoch 48/200\n",
      "\n",
      "Epoch 00048: val_loss did not improve from 0.00484\n",
      "60879/60879 - 8s - loss: 0.0768 - accuracy: 0.9727 - val_loss: 0.0063 - val_accuracy: 0.9995\n",
      "Epoch 49/200\n",
      "\n",
      "Epoch 00049: val_loss did not improve from 0.00484\n",
      "60879/60879 - 8s - loss: 0.0765 - accuracy: 0.9726 - val_loss: 0.0075 - val_accuracy: 0.9994\n"
     ]
    },
    {
     "name": "stdout",
     "output_type": "stream",
     "text": [
      "Epoch 50/200\n",
      "\n",
      "Epoch 00050: val_loss did not improve from 0.00484\n",
      "60879/60879 - 8s - loss: 0.0764 - accuracy: 0.9727 - val_loss: 0.0062 - val_accuracy: 0.9995\n",
      "Epoch 51/200\n",
      "\n",
      "Epoch 00051: val_loss did not improve from 0.00484\n",
      "60879/60879 - 8s - loss: 0.0762 - accuracy: 0.9727 - val_loss: 0.0067 - val_accuracy: 0.9995\n",
      "Epoch 52/200\n",
      "\n",
      "Epoch 00052: val_loss did not improve from 0.00484\n",
      "60879/60879 - 8s - loss: 0.0761 - accuracy: 0.9728 - val_loss: 0.0086 - val_accuracy: 0.9992\n",
      "Epoch 53/200\n",
      "\n",
      "Epoch 00053: val_loss did not improve from 0.00484\n",
      "60879/60879 - 8s - loss: 0.0758 - accuracy: 0.9727 - val_loss: 0.0076 - val_accuracy: 0.9992\n",
      "Epoch 54/200\n",
      "\n",
      "Epoch 00054: val_loss did not improve from 0.00484\n",
      "60879/60879 - 8s - loss: 0.0757 - accuracy: 0.9727 - val_loss: 0.0069 - val_accuracy: 0.9994\n",
      "Epoch 55/200\n",
      "\n",
      "Epoch 00055: val_loss did not improve from 0.00484\n",
      "60879/60879 - 8s - loss: 0.0755 - accuracy: 0.9729 - val_loss: 0.0063 - val_accuracy: 0.9994\n",
      "Epoch 56/200\n",
      "\n",
      "Epoch 00056: val_loss improved from 0.00484 to 0.00477, saving model to .weights.hdf5\n",
      "60879/60879 - 8s - loss: 0.0753 - accuracy: 0.9730 - val_loss: 0.0048 - val_accuracy: 0.9997\n",
      "Epoch 57/200\n",
      "\n",
      "Epoch 00057: val_loss did not improve from 0.00477\n",
      "60879/60879 - 8s - loss: 0.0751 - accuracy: 0.9727 - val_loss: 0.0058 - val_accuracy: 0.9995\n",
      "Epoch 58/200\n",
      "\n",
      "Epoch 00058: val_loss did not improve from 0.00477\n",
      "60879/60879 - 8s - loss: 0.0749 - accuracy: 0.9730 - val_loss: 0.0055 - val_accuracy: 0.9995\n",
      "Epoch 59/200\n",
      "\n",
      "Epoch 00059: val_loss did not improve from 0.00477\n",
      "60879/60879 - 8s - loss: 0.0747 - accuracy: 0.9728 - val_loss: 0.0051 - val_accuracy: 0.9996\n",
      "Epoch 60/200\n",
      "\n",
      "Epoch 00060: val_loss did not improve from 0.00477\n",
      "60879/60879 - 7s - loss: 0.0746 - accuracy: 0.9731 - val_loss: 0.0057 - val_accuracy: 0.9995\n",
      "Epoch 61/200\n",
      "\n",
      "Epoch 00061: val_loss did not improve from 0.00477\n",
      "60879/60879 - 8s - loss: 0.0745 - accuracy: 0.9727 - val_loss: 0.0070 - val_accuracy: 0.9992\n",
      "Epoch 62/200\n",
      "\n",
      "Epoch 00062: val_loss did not improve from 0.00477\n",
      "60879/60879 - 8s - loss: 0.0742 - accuracy: 0.9730 - val_loss: 0.0070 - val_accuracy: 0.9992\n",
      "Epoch 63/200\n",
      "\n",
      "Epoch 00063: val_loss did not improve from 0.00477\n",
      "60879/60879 - 8s - loss: 0.0740 - accuracy: 0.9731 - val_loss: 0.0056 - val_accuracy: 0.9995\n",
      "Epoch 00063: early stopping\n"
     ]
    },
    {
     "data": {
      "text/plain": [
       "<tensorflow.python.keras.callbacks.History at 0x1b0b9c9d5c8>"
      ]
     },
     "execution_count": 104,
     "metadata": {},
     "output_type": "execute_result"
    }
   ],
   "source": [
    "from tensorflow.keras.models import Sequential\n",
    "from tensorflow.keras.layers import Dense, Activation\n",
    "from tensorflow.keras.callbacks import EarlyStopping, ModelCheckpoint\n",
    "model5 = Sequential()\n",
    "model5.add(Dense(50, input_dim=x_train.shape[1], activation='tanh'))\n",
    "#model5.add(Dense(50, activation='tanh'))\n",
    "model5.add(Dense(1, activation='sigmoid'))\n",
    "\n",
    "model5.compile(loss='binary_crossentropy', optimizer='sgd', metrics=['accuracy'])\n",
    "\n",
    "monitor = EarlyStopping(monitor='val_loss', min_delta=1e-3, patience=20, \n",
    "                        verbose=2, mode='min')\n",
    "\n",
    "chckpt = ModelCheckpoint(filepath='.weights.hdf5', verbose=1, save_best_only=True)\n",
    "\n",
    "model5.fit(x_train,y_train,verbose=2,epochs=200, batch_size=20, \n",
    "          callbacks=[monitor, chckpt], validation_split=0.25)"
   ]
  },
  {
   "cell_type": "code",
   "execution_count": 105,
   "metadata": {},
   "outputs": [
    {
     "name": "stdout",
     "output_type": "stream",
     "text": [
      "Model: \"sequential_4\"\n",
      "_________________________________________________________________\n",
      "Layer (type)                 Output Shape              Param #   \n",
      "=================================================================\n",
      "dense_12 (Dense)             (None, 50)                800       \n",
      "_________________________________________________________________\n",
      "dense_13 (Dense)             (None, 1)                 51        \n",
      "=================================================================\n",
      "Total params: 851\n",
      "Trainable params: 851\n",
      "Non-trainable params: 0\n",
      "_________________________________________________________________\n"
     ]
    }
   ],
   "source": [
    "model5.summary()"
   ]
  },
  {
   "cell_type": "code",
   "execution_count": 106,
   "metadata": {},
   "outputs": [
    {
     "data": {
      "text/plain": [
       "array([[0.47298813],\n",
       "       [0.48625866],\n",
       "       [0.6741682 ],\n",
       "       ...,\n",
       "       [0.81445324],\n",
       "       [0.7671699 ],\n",
       "       [0.812797  ]], dtype=float32)"
      ]
     },
     "execution_count": 106,
     "metadata": {},
     "output_type": "execute_result"
    }
   ],
   "source": [
    "y_pred = model5.predict(x_test)\n",
    "y_pred"
   ]
  },
  {
   "cell_type": "code",
   "execution_count": 107,
   "metadata": {},
   "outputs": [
    {
     "data": {
      "text/plain": [
       "[0, 0, 1, 1, 1, 1, 1, 0, 1, 0]"
      ]
     },
     "execution_count": 107,
     "metadata": {},
     "output_type": "execute_result"
    }
   ],
   "source": [
    "argmax = []\n",
    "for val in y_pred:\n",
    "    if val >= 0.5:\n",
    "      argmax.append(1)\n",
    "    else:\n",
    "        argmax.append(0)\n",
    "argmax[:10]"
   ]
  },
  {
   "cell_type": "code",
   "execution_count": 108,
   "metadata": {},
   "outputs": [
    {
     "data": {
      "text/plain": [
       "array([[ 8128,  1497],\n",
       "       [   72, 25482]], dtype=int64)"
      ]
     },
     "execution_count": 108,
     "metadata": {},
     "output_type": "execute_result"
    }
   ],
   "source": [
    "conf_mat = confusion_matrix(y_true=y_test, y_pred=argmax)\n",
    "conf_mat"
   ]
  },
  {
   "cell_type": "code",
   "execution_count": 109,
   "metadata": {},
   "outputs": [
    {
     "data": {
      "text/plain": [
       "(<Figure size 432x288 with 1 Axes>,\n",
       " <matplotlib.axes._subplots.AxesSubplot at 0x1b0b99e4c88>)"
      ]
     },
     "execution_count": 109,
     "metadata": {},
     "output_type": "execute_result"
    },
    {
     "data": {
      "image/png": "[encoded data removed]",
      "text/plain": [
       "<Figure size 432x288 with 1 Axes>"
      ]
     },
     "metadata": {
      "needs_background": "light"
     },
     "output_type": "display_data"
    }
   ],
   "source": [
    "plot_confusion_matrix(conf_mat=conf_mat)"
   ]
  },
  {
   "cell_type": "code",
   "execution_count": 110,
   "metadata": {},
   "outputs": [
    {
     "data": {
      "text/plain": [
       "0.9553995281275761"
      ]
     },
     "execution_count": 110,
     "metadata": {},
     "output_type": "execute_result"
    }
   ],
   "source": [
    "acc = accuracy_score(y_true=y_test, y_pred=argmax)\n",
    "acc"
   ]
  },
  {
   "cell_type": "code",
   "execution_count": 111,
   "metadata": {},
   "outputs": [
    {
     "name": "stdout",
     "output_type": "stream",
     "text": [
      "              precision    recall  f1-score   support\n",
      "\n",
      "         0.0       0.99      0.84      0.91      9625\n",
      "         1.0       0.94      1.00      0.97     25554\n",
      "\n",
      "    accuracy                           0.96     35179\n",
      "   macro avg       0.97      0.92      0.94     35179\n",
      "weighted avg       0.96      0.96      0.95     35179\n",
      "\n"
     ]
    }
   ],
   "source": [
    "print(classification_report(y_true=y_test, y_pred=argmax))"
   ]
  },
  {
   "cell_type": "code",
   "execution_count": null,
   "metadata": {},
   "outputs": [],
   "source": []
  }
 ],
 "metadata": {
  "kernelspec": {
   "display_name": "Python 3",
   "language": "python",
   "name": "python3"
  },
  "language_info": {
   "codemirror_mode": {
    "name": "ipython",
    "version": 3
   },
   "file_extension": ".py",
   "mimetype": "text/x-python",
   "name": "python",
   "nbconvert_exporter": "python",
   "pygments_lexer": "ipython3",
   "version": "3.7.4"
  }
 },
 "nbformat": 4,
 "nbformat_minor": 2
}
